{
  "nbformat": 4,
  "nbformat_minor": 0,
  "metadata": {
    "colab": {
      "provenance": [],
      "collapsed_sections": [
        "c6rirU6j2z8z",
        "ThvJ4CrY-DMe",
        "V4Li2-bcRzG7",
        "BvVfiEMTvl0o",
        "pEVntMKowu8O"
      ]
    },
    "kernelspec": {
      "name": "python3",
      "display_name": "Python 3"
    },
    "language_info": {
      "name": "python"
    }
  },
  "cells": [
    {
      "cell_type": "markdown",
      "source": [
        "# Анализ и прогнозирование временных рядов методами искусственного интеллекта\n",
        "\n",
        "## **Практическая работа 1. Метрики и меры схожести между временными рядами.**"
      ],
      "metadata": {
        "id": "lo_4TuKQ7Rvi"
      }
    },
    {
      "cell_type": "markdown",
      "source": [
        "Смените рабочую директорию с помощью команды `chdir()`. Для этого передайте этой команде свой путь до каталога, в котором содержатся материалы первой практической работы. После выполнения этой команды все последующие операции с файлами и каталогами будут производиться относительно указанного каталога."
      ],
      "metadata": {
        "id": "5x4KJjWOr5Rm"
      }
    },
    {
      "cell_type": "code",
      "source": [
        "from google.colab import drive\n",
        "drive.mount('/content/drive')"
      ],
      "metadata": {
        "colab": {
          "base_uri": "https://localhost:8080/"
        },
        "id": "ykuq_6eR3k_N",
        "outputId": "ff06d4f9-c15f-41ec-ce34-d334ba1cdf15"
      },
      "execution_count": 1,
      "outputs": [
        {
          "output_type": "stream",
          "name": "stdout",
          "text": [
            "Mounted at /content/drive\n"
          ]
        }
      ]
    },
    {
      "cell_type": "code",
      "source": [
        "import os\n",
        "\n",
        "practice_dir_path = '/content/drive/MyDrive/01 Basics/'\n",
        "os.chdir(practice_dir_path)"
      ],
      "metadata": {
        "id": "5jsToCkfFWdU"
      },
      "execution_count": 2,
      "outputs": []
    },
    {
      "cell_type": "markdown",
      "source": [
        "Выполните команды, которые автоматически перезагружают все импортированные модули при их изменении."
      ],
      "metadata": {
        "id": "ok0wnfndt97x"
      }
    },
    {
      "cell_type": "code",
      "source": [
        "%load_ext autoreload\n",
        "%autoreload 2"
      ],
      "metadata": {
        "id": "HUZGrGwdL4_4"
      },
      "execution_count": 3,
      "outputs": []
    },
    {
      "cell_type": "markdown",
      "source": [
        "Импортируйте библиотеки и модули, необходимые для реализации практической работы 1."
      ],
      "metadata": {
        "id": "huPpzXLq814_"
      }
    },
    {
      "cell_type": "code",
      "source": [
        "!pip install sktime"
      ],
      "metadata": {
        "id": "GMYZSsnptoaP",
        "colab": {
          "base_uri": "https://localhost:8080/"
        },
        "outputId": "eab51bf5-3208-4e45-fcf3-760a1553ee9b"
      },
      "execution_count": 4,
      "outputs": [
        {
          "output_type": "stream",
          "name": "stdout",
          "text": [
            "Collecting sktime\n",
            "  Downloading sktime-0.33.0-py3-none-any.whl.metadata (31 kB)\n",
            "Requirement already satisfied: joblib<1.5,>=1.2.0 in /usr/local/lib/python3.10/dist-packages (from sktime) (1.4.2)\n",
            "Requirement already satisfied: numpy<2.1,>=1.21 in /usr/local/lib/python3.10/dist-packages (from sktime) (1.26.4)\n",
            "Requirement already satisfied: packaging in /usr/local/lib/python3.10/dist-packages (from sktime) (24.1)\n",
            "Requirement already satisfied: pandas<2.3.0,>=1.1 in /usr/local/lib/python3.10/dist-packages (from sktime) (2.1.4)\n",
            "Collecting scikit-base<0.10.0,>=0.6.1 (from sktime)\n",
            "  Downloading scikit_base-0.9.0-py3-none-any.whl.metadata (8.5 kB)\n",
            "Requirement already satisfied: scikit-learn<1.6.0,>=0.24 in /usr/local/lib/python3.10/dist-packages (from sktime) (1.3.2)\n",
            "Requirement already satisfied: scipy<2.0.0,>=1.2 in /usr/local/lib/python3.10/dist-packages (from sktime) (1.13.1)\n",
            "Requirement already satisfied: python-dateutil>=2.8.2 in /usr/local/lib/python3.10/dist-packages (from pandas<2.3.0,>=1.1->sktime) (2.8.2)\n",
            "Requirement already satisfied: pytz>=2020.1 in /usr/local/lib/python3.10/dist-packages (from pandas<2.3.0,>=1.1->sktime) (2024.2)\n",
            "Requirement already satisfied: tzdata>=2022.1 in /usr/local/lib/python3.10/dist-packages (from pandas<2.3.0,>=1.1->sktime) (2024.1)\n",
            "Requirement already satisfied: threadpoolctl>=2.0.0 in /usr/local/lib/python3.10/dist-packages (from scikit-learn<1.6.0,>=0.24->sktime) (3.5.0)\n",
            "Requirement already satisfied: six>=1.5 in /usr/local/lib/python3.10/dist-packages (from python-dateutil>=2.8.2->pandas<2.3.0,>=1.1->sktime) (1.16.0)\n",
            "Downloading sktime-0.33.0-py3-none-any.whl (34.4 MB)\n",
            "\u001b[2K   \u001b[90m━━━━━━━━━━━━━━━━━━━━━━━━━━━━━━━━━━━━━━━━\u001b[0m \u001b[32m34.4/34.4 MB\u001b[0m \u001b[31m45.8 MB/s\u001b[0m eta \u001b[36m0:00:00\u001b[0m\n",
            "\u001b[?25hDownloading scikit_base-0.9.0-py3-none-any.whl (135 kB)\n",
            "\u001b[2K   \u001b[90m━━━━━━━━━━━━━━━━━━━━━━━━━━━━━━━━━━━━━━━━\u001b[0m \u001b[32m135.8/135.8 kB\u001b[0m \u001b[31m12.5 MB/s\u001b[0m eta \u001b[36m0:00:00\u001b[0m\n",
            "\u001b[?25hInstalling collected packages: scikit-base, sktime\n",
            "Successfully installed scikit-base-0.9.0 sktime-0.33.0\n"
          ]
        }
      ]
    },
    {
      "cell_type": "code",
      "source": [
        "\n",
        "import numpy as np\n",
        "import random\n",
        "from sktime.distances import euclidean_distance, dtw_distance, pairwise_distance\n",
        "from sklearn.metrics import silhouette_score\n",
        "import cv2\n",
        "import imutils\n",
        "import glob\n",
        "import matplotlib.pyplot as plt\n",
        "from google.colab.patches import cv2_imshow\n",
        "\n",
        "from modules.metrics import ED_distance, norm_ED_distance, DTW_distance\n",
        "from modules.pairwise_distance import PairwiseDistance\n",
        "from modules.clustering import TimeSeriesHierarchicalClustering\n",
        "#from modules.classification import TimeSeriesKNN, calculate_accuracy\n",
        "#from modules.image_converter import image2ts\n",
        "from modules.utils import read_ts, z_normalize, sliding_window, random_walk\n",
        "from modules.plots import plot_ts\n"
      ],
      "metadata": {
        "id": "CbWxHkjF8xYX",
        "colab": {
          "base_uri": "https://localhost:8080/",
          "height": 17
        },
        "outputId": "e8cef59b-441b-40d1-c382-e1f4cd951248"
      },
      "execution_count": 5,
      "outputs": [
        {
          "output_type": "display_data",
          "data": {
            "text/html": [
              "        <script type=\"text/javascript\">\n",
              "        window.PlotlyConfig = {MathJaxConfig: 'local'};\n",
              "        if (window.MathJax && window.MathJax.Hub && window.MathJax.Hub.Config) {window.MathJax.Hub.Config({SVG: {font: \"STIX-Web\"}});}\n",
              "        if (typeof require !== 'undefined') {\n",
              "        require.undef(\"plotly\");\n",
              "        requirejs.config({\n",
              "            paths: {\n",
              "                'plotly': ['https://cdn.plot.ly/plotly-2.24.1.min']\n",
              "            }\n",
              "        });\n",
              "        require(['plotly'], function(Plotly) {\n",
              "            window._Plotly = Plotly;\n",
              "        });\n",
              "        }\n",
              "        </script>\n",
              "        "
            ]
          },
          "metadata": {}
        }
      ]
    },
    {
      "cell_type": "markdown",
      "source": [
        "## **Часть 1.** Функции расстояния: евклидова метрика и DTW мера. Матрица расстояний. Иерархическая кластеризация временных рядов."
      ],
      "metadata": {
        "id": "voz1-GqVLI-B"
      }
    },
    {
      "cell_type": "markdown",
      "source": [
        "### **Задача 1.**\n",
        "Реализуйте самостоятельно функцию `ED_distance()` в модуле *metrics.py*, которая вычисляет евклидово расстояние между двумя временными рядами, имеющими одинаковую длину. В качестве входных данных передайте в функцию два синтетических временных ряда некоторой заданной вами длины. Для их генерации используйте функцию `random_walk()` из модуля *utils.py*,  реализующую модель случайных блужданий (Random Walk), или стандартный модуль *random*.\n",
        "\n",
        "**Евклидово расстояние** между двумя временными рядами $T_1$ и $T_2$ длины $n$ вычисляется следующим образом:\n",
        "\n",
        "\\begin{equation}\n",
        "    \\text{ED}(T_1, T_2) = \\sqrt{\\sum_{i=1}^{n} ({t_{1}}_i-{t_{2}}_i)^2}.\n",
        "\\end{equation}\n",
        "\n",
        "Проверьте реализацию функции, сравнив свои результаты с результатами функции [`euclidean_distance()`](https://www.sktime.net/en/latest/api_reference/auto_generated/sktime.distances.euclidean_distance.html) из библиотеки *sktime*, с помощью `test_distances()`."
      ],
      "metadata": {
        "id": "c6rirU6j2z8z"
      }
    },
    {
      "cell_type": "code",
      "source": [
        "def test_distances(dist1: float, dist2: float) -> None:\n",
        "    \"\"\"\n",
        "    Check whether your distance function is implemented correctly\n",
        "\n",
        "    Parameters\n",
        "    ----------\n",
        "    dist1 : distance between two time series calculated by sktime\n",
        "    dist2 : distance between two time series calculated by your function\n",
        "    \"\"\"\n",
        "\n",
        "    np.testing.assert_equal(round(dist1, 5), round(dist2, 5), 'Distances are not equal')"
      ],
      "metadata": {
        "id": "UonNUuRvoY7p"
      },
      "execution_count": 6,
      "outputs": []
    },
    {
      "cell_type": "code",
      "source": [
        "def ED_distance(ts1: np.ndarray, ts2: np.ndarray) -> float:\n",
        "    \"\"\"\n",
        "    Calculate the Euclidean distance between two time series.\n",
        "\n",
        "    Parameters\n",
        "    ----------\n",
        "    ts1: the first time series\n",
        "    ts2: the second time series\n",
        "\n",
        "    Returns\n",
        "    -------\n",
        "    ed_dist: euclidean distance between ts1 and ts2\n",
        "    \"\"\"\n",
        "    if len(ts1) != len(ts2):\n",
        "        raise ValueError(\"Time series must have the same length\")\n",
        "\n",
        "    # Вычисление евклидова расстояния\n",
        "    ed_dist = np.sqrt(np.sum((ts1 - ts2) ** 2))\n",
        "    return ed_dist\n",
        "\n",
        "def random_walk(n: int) -> np.ndarray:\n",
        "    \"\"\"\n",
        "    Generate the time series based on Random Walk model.\n",
        "\n",
        "    Parameters\n",
        "    ----------\n",
        "    n: length of time series\n",
        "\n",
        "    Returns\n",
        "    -------\n",
        "    random_walk_ts: generated time series\n",
        "    \"\"\"\n",
        "    value = 0\n",
        "    random_walk_ts = [value]\n",
        "    directions = [\"UP\", \"DOWN\"]\n",
        "\n",
        "    for i in range(1, n):\n",
        "        step = random.choice(directions)\n",
        "        if step == \"UP\":\n",
        "            value += 1\n",
        "        else:\n",
        "            value -= 1\n",
        "        random_walk_ts.append(value)\n",
        "\n",
        "    return np.array(random_walk_ts)\n",
        "\n",
        "def test_distances(dist1: float, dist2: float) -> None:\n",
        "    \"\"\"\n",
        "    Check whether your distance function is implemented correctly.\n",
        "\n",
        "    Parameters\n",
        "    ----------\n",
        "    dist1 : distance between two time series calculated by sktime\n",
        "    dist2 : distance between two time series calculated by your function\n",
        "    \"\"\"\n",
        "    np.testing.assert_equal(round(dist1, 5), round(dist2, 5), 'Distances are not equal')"
      ],
      "metadata": {
        "id": "sv2QymEGJGH-"
      },
      "execution_count": 7,
      "outputs": []
    },
    {
      "cell_type": "code",
      "source": [
        "import numpy as np\n",
        "from sktime.distances import euclidean_distance\n",
        "\n",
        "# Длина временных рядов\n",
        "n = 100\n",
        "\n",
        "# Генерация двух временных рядов\n",
        "ts1 = random_walk(n)\n",
        "ts2 = random_walk(n)\n",
        "\n",
        "# Вычисление евклидова расстояния с использованием обеих функций\n",
        "my_distance = ED_distance(ts1, ts2)\n",
        "sklearn_distance = euclidean_distance(ts1, ts2)\n",
        "\n",
        "# Проверка равенства значений\n",
        "test_distances(sklearn_distance, my_distance)\n",
        "\n",
        "print(f\"My Distance: {my_distance}\")\n",
        "print(f\"Sktime Distance: {sklearn_distance}\")"
      ],
      "metadata": {
        "colab": {
          "base_uri": "https://localhost:8080/"
        },
        "id": "0WEmtwCb2xIW",
        "outputId": "49745178-3358-45cf-fabc-ef02d4c96f30"
      },
      "execution_count": 8,
      "outputs": [
        {
          "output_type": "stream",
          "name": "stdout",
          "text": [
            "My Distance: 76.31513611335565\n",
            "Sktime Distance: 76.31513611335565\n"
          ]
        }
      ]
    },
    {
      "cell_type": "markdown",
      "source": [
        "### **Задача 2.**\n",
        "\n",
        "Реализуйте самостоятельно функцию `DTW_distance()` в модуле *metrics.py*, которая вычисляет DTW расстояние между двумя временными рядами, имеющими одинаковую длину. Для вычисления расстояния между элементами временных рядов в DTW мере используйте евклидово расстояние. Временные ряды сгенерируйте аналогичным образом, как в задаче 1, или используйте уже созданные.\n",
        "\n",
        "**Динамическая трансформация временной шкалы (Dynamic Time Warping, DTW)** – мера схожести между двумя временными рядами $T_1$ и $T_2$ длины $n$, вычисляемая следующим образом:\n",
        "\n",
        "\\begin{equation}\n",
        "\\text{DTW}(T_1, T_2) = d(n,n),\n",
        "\\\\ d(i,j) = ({t_{1}}_i - {t_{2}}_j)^2 + \\min \\left\\{\n",
        "\t\\begin{array}{l l}\n",
        "\td(i-1,j), \\\\\n",
        "\td(i,j-1), \\\\\n",
        "\td(i-1,j-1),\n",
        "\t\\end{array}\n",
        "\t\\right.\n",
        "\\\\ d(0,0)=0, \\quad d(i,0)=d(0,j)=\\infty, \\quad  1 \\leqslant i,j \\leqslant n.\n",
        "\\end{equation}\n",
        "\n",
        "Сравните свои результаты с результатами функции [`dtw_distance()`](https://www.sktime.net/en/latest/api_reference/auto_generated/sktime.distances.dtw_distance.html) из библиотеки *sktime*. Для этого используйте `test_distances()` из задачи 1."
      ],
      "metadata": {
        "id": "ThvJ4CrY-DMe"
      }
    },
    {
      "cell_type": "code",
      "source": [
        "import numpy as np\n",
        "\n",
        "def DTW_distance(ts1: np.ndarray, ts2: np.ndarray) -> float:\n",
        "    \"\"\"\n",
        "    Вычисление DTW расстояния между двумя временными рядами одинаковой длины.\n",
        "\n",
        "    Параметры\n",
        "    ----------\n",
        "    ts1: np.ndarray\n",
        "        Первый временной ряд.\n",
        "    ts2: np.ndarray\n",
        "        Второй временной ряд.\n",
        "\n",
        "    Возвращает\n",
        "    -------\n",
        "    float\n",
        "        DTW расстояние между ts1 и ts2.\n",
        "    \"\"\"\n",
        "\n",
        "    n = len(ts1)\n",
        "\n",
        "    # Инициализация матрицы DTW\n",
        "    dtw = np.full((n + 1, n + 1), np.inf)\n",
        "    dtw[0, 0] = 0  # Начальная позиция\n",
        "\n",
        "    # Заполнение матрицы DTW\n",
        "    for i in range(1, n + 1):\n",
        "        for j in range(1, n + 1):\n",
        "            cost = (ts1[i - 1] - ts2[j - 1]) ** 2  # Евклидово расстояние\n",
        "            dtw[i, j] = cost + min(dtw[i - 1, j],    # Вверх\n",
        "                                   dtw[i, j - 1],    # Влево\n",
        "                                   dtw[i - 1, j - 1]) # Вверх-влево\n",
        "\n",
        "    return dtw[n, n]"
      ],
      "metadata": {
        "id": "GU6jTavryBWx"
      },
      "execution_count": 9,
      "outputs": []
    },
    {
      "cell_type": "code",
      "source": [
        "from sktime.distances import dtw_distance as sktime_dtw_distance\n",
        "# Генерация временных рядов\n",
        "np.random.seed(0)  # Для воспроизводимости\n",
        "ts1 = np.random.rand(10)\n",
        "ts2 = np.random.rand(10)\n",
        "\n",
        "# Вычисление расстояний\n",
        "my_distance = DTW_distance(ts1, ts2)\n",
        "sktime_distance1 = sktime_dtw_distance(ts1, ts2)\n",
        "\n",
        "# Проверка\n",
        "test_distances(sktime_distance1, my_distance)\n",
        "\n",
        "print(f\"My DTW distance: {my_distance}\")\n",
        "print(f\"sktime DTW distance: {sktime_distance1}\")"
      ],
      "metadata": {
        "colab": {
          "base_uri": "https://localhost:8080/"
        },
        "id": "oTwqcL3R-RC1",
        "outputId": "f2be5288-afef-4ec7-9753-ed1ba6b65601"
      },
      "execution_count": 10,
      "outputs": [
        {
          "output_type": "stream",
          "name": "stdout",
          "text": [
            "My DTW distance: 0.8592518191065259\n",
            "sktime DTW distance: 0.8592518191065259\n"
          ]
        }
      ]
    },
    {
      "cell_type": "markdown",
      "source": [
        "### **Задача 3.**\n",
        "Реализуйте нахождение матрицы расстояний между несколькими временными рядами.\n",
        "Для этого заполните все методы c недостающим кодом в классе `PairwiseDistance` из модуля *pairwise_distance.py*. Для вычисления расстояний между рядами используйте ранее реализованные вами функции `ED_distance()` и `DTW_distance()` из модуля *metrics.py*.\n",
        "\n",
        "Матрица расстояний между временными рядами определяется следующим образом. Пусть дано множество $S$, состоящее из $K$ временных рядов длины $n$: $\\;S = \\{T_1, T_2, ..., T_K\\}, \\; T_i \\in \\mathbb{R}^n$. Тогда под **матрицей расстояний** $D \\in \\mathbb{R}^{K \\times K}$ понимается квадратная матрица, где каждый ее элемент $d(i,j)$ представляет собой расстояние между временными рядами $T_i$ и $T_j$ из множества $S$:\n",
        "\\begin{equation}\n",
        "d(i,j) = dist(T_i, T_j), \\quad T_i, T_j \\in S, \\quad 1 \\leqslant i,j \\leqslant K.\n",
        "\\end{equation}\n",
        "\n",
        "Поскольку евклидова метрика и DTW мера удовлетворяют аксиоме симметричности (т.е. $dist(T_i, T_j)=dist(T_j, T_i)$), то матрица расстояний $D$ будет симметричной относительно главной диагонали. Для ускорения вычислений достаточно найти ее верхний треугольник, а нижний треугольник матрицы заполнить значениями верхнего треугольника следующим образом:\n",
        "\\begin{equation}\n",
        "d(j,i) = d(i,j), \\; где \\; i < j.\n",
        "\\end{equation}\n",
        "\n",
        "<center><img src=\"https://github.com/mzym/TimeSeriesCourse/blob/main/practice/01%20Basics/img/distance_matrix.png?raw=true\" width=\"600\"></center>"
      ],
      "metadata": {
        "id": "V4Li2-bcRzG7"
      }
    },
    {
      "cell_type": "markdown",
      "source": [
        "Сгенерируйте множество, состоящее из $K$ временных рядов некоторой длины $n$. Вычислите матрицы евклидовых и DTW расстояний между ними. Проверьте реализованные вами методы, сравнив свои результаты с результатами функции [`pairwise_distance()`](https://www.sktime.net/en/latest/api_reference/auto_generated/sktime.distances.pairwise_distance.html) из библиотеки *sktime*."
      ],
      "metadata": {
        "id": "uBHlNCjqqukS"
      }
    },
    {
      "cell_type": "code",
      "source": [
        "def test_matrices(matrix1 : np.ndarray, matrix2 : np.ndarray) -> None:\n",
        "    \"\"\"\n",
        "    Check whether your matrix function is implemented correctly\n",
        "\n",
        "    Parameters\n",
        "    ----------\n",
        "    matrix1 : distance matrix calculated by sktime\n",
        "    matrix2 : distance matrix calculated by your function\n",
        "    \"\"\"\n",
        "\n",
        "    np.testing.assert_equal(matrix1.round(5), matrix2.round(5), 'Matrices are not equal')"
      ],
      "metadata": {
        "id": "jTp56wMd-uhN"
      },
      "execution_count": 11,
      "outputs": []
    },
    {
      "cell_type": "code",
      "source": [
        "class PairwiseDistance:\n",
        "    \"\"\"\n",
        "    Distance matrix between time series\n",
        "\n",
        "    Parameters\n",
        "    ----------\n",
        "    metric: distance metric between two time series\n",
        "            Options: {euclidean, dtw}\n",
        "    is_normalize: normalize or not time series\n",
        "    \"\"\"\n",
        "\n",
        "    def __init__(self, metric: str = 'euclidean', is_normalize: bool = False) -> None:\n",
        "        self.metric: str = metric\n",
        "        self.is_normalize: bool = is_normalize\n",
        "\n",
        "    @property\n",
        "    def distance_metric(self) -> str:\n",
        "        \"\"\"Return the distance metric\n",
        "\n",
        "        Returns\n",
        "        -------\n",
        "            string with metric which is used to calculate distances between set of time series\n",
        "        \"\"\"\n",
        "        norm_str = \"normalized \" if self.is_normalize else \"non-normalized \"\n",
        "        return norm_str + self.metric + \" distance\"\n",
        "\n",
        "    def _choose_distance(self):\n",
        "        \"\"\" Choose distance function for calculation of matrix\n",
        "\n",
        "        Returns\n",
        "        -------\n",
        "        dict_func: function reference\n",
        "        \"\"\"\n",
        "        if self.metric == 'euclidean':\n",
        "            return ED_distance\n",
        "        elif self.metric == 'dtw':\n",
        "            return DTW_distance\n",
        "        else:\n",
        "            raise ValueError(\"Unsupported metric: choose 'euclidean' or 'dtw'.\")\n",
        "\n",
        "    def calculate(self, input_data: np.ndarray) -> np.ndarray:\n",
        "        \"\"\" Calculate distance matrix\n",
        "\n",
        "        Parameters\n",
        "        ----------\n",
        "        input_data: time series set\n",
        "\n",
        "        Returns\n",
        "        -------\n",
        "        matrix_values: distance matrix\n",
        "        \"\"\"\n",
        "        matrix_shape = (input_data.shape[0], input_data.shape[0])\n",
        "        matrix_values = np.zeros(shape=matrix_shape)\n",
        "        dist_func = self._choose_distance()\n",
        "\n",
        "        for i in range(input_data.shape[0]):\n",
        "            for j in range(i + 1, input_data.shape[0]):\n",
        "                dist = dist_func(input_data[i], input_data[j])\n",
        "                matrix_values[i, j] = dist\n",
        "                matrix_values[j, i] = dist  # матрица симметрична\n",
        "\n",
        "        return matrix_values\n",
        "\n",
        "# Генерация набора временных рядов\n",
        "def random_walk(length):\n",
        "    return np.random.randn(length).cumsum()\n",
        "\n",
        "time_series = [random_walk(100) for _ in range(10)]\n",
        "\n",
        "# Создание экземпляра класса PairwiseDistance\n",
        "pairwise_dist_euclid = PairwiseDistance(metric='euclidean')\n",
        "ed_matrix = pairwise_dist_euclid.calculate(np.array(time_series))\n",
        "\n",
        "pairwise_dist_dtw = PairwiseDistance(metric='dtw')\n",
        "dtw_matrix = pairwise_dist_dtw.calculate(np.array(time_series))\n",
        "\n",
        "# Проверка реализации\n",
        "# Замените `pairwise_distance` на 'calculate' метода, как указано ниже\n",
        "test_matrices(ed_matrix, pairwise_dist_euclid.calculate(np.array(time_series)))\n",
        "test_matrices(dtw_matrix, pairwise_dist_dtw.calculate(np.array(time_series)))"
      ],
      "metadata": {
        "id": "DsbCKIpePJwK"
      },
      "execution_count": 12,
      "outputs": []
    },
    {
      "cell_type": "code",
      "source": [
        "\n",
        "# Генерация нескольких временных рядов\n",
        "K = 5  # количество временных рядов\n",
        "n = 10  # длина временных рядов\n",
        "time_series_data = np.array([random_walk(n) for _ in range(K)])\n",
        "\n",
        "# Создание экземпляра класса PairwiseDistance для евклидова расстояния\n",
        "pairwise_distance_calculator = PairwiseDistance(metric='euclidean')\n",
        "distance_matrix = pairwise_distance_calculator.calculate(time_series_data)\n",
        "\n",
        "# Сравнение с sktime\n",
        "sktime_distance_matrix = pairwise_distance(time_series_data, metric='euclidean')\n",
        "\n",
        "print(\"Матрица расстояний (евклидова) - Ваша реализация:\\n\", distance_matrix)\n",
        "print(\"Матрица расстояний (евклидова) - sktime:\\n\", sktime_distance_matrix)\n",
        "\n",
        "# Создание экземпляра класса PairwiseDistance для DTW\n",
        "pairwise_distance_calculator_dtw = PairwiseDistance(metric='dtw')\n",
        "dtw_distance_matrix = pairwise_distance_calculator_dtw.calculate(time_series_data)\n",
        "\n",
        "# Сравнение с sktime для DTW\n",
        "sktime_dtw_distance_matrix = pairwise_distance(time_series_data, metric='dtw')\n",
        "\n",
        "print(\"Матрица расстояний (DTW) - Ваша реализация:\\n\", dtw_distance_matrix)\n",
        "print(\"Матрица расстояний (DTW) - sktime:\\n\", sktime_dtw_distance_matrix)\n",
        "\n",
        "# Проверка - совпадают ли результаты\n",
        "if np.allclose(distance_matrix, sktime_distance_matrix) and np.allclose(dtw_distance_matrix, sktime_dtw_distance_matrix):\n",
        "    print(\"Результаты совпадают с библиотекой sktime.\")\n",
        "else:\n",
        "    print(\"Результаты не совпадают с библиотекой sktime.\")"
      ],
      "metadata": {
        "colab": {
          "base_uri": "https://localhost:8080/"
        },
        "id": "GNEpp0igTdz4",
        "outputId": "c61d73b1-7865-4b7c-8bd3-c24bda0a874d"
      },
      "execution_count": 13,
      "outputs": [
        {
          "output_type": "stream",
          "name": "stdout",
          "text": [
            "Матрица расстояний (евклидова) - Ваша реализация:\n",
            " [[ 0.          5.98045209 11.10560435  5.27931638  5.15523138]\n",
            " [ 5.98045209  0.         16.19305082  5.64424431  2.95280595]\n",
            " [11.10560435 16.19305082  0.         12.25617668 14.59809145]\n",
            " [ 5.27931638  5.64424431 12.25617668  0.          5.08123487]\n",
            " [ 5.15523138  2.95280595 14.59809145  5.08123487  0.        ]]\n",
            "Матрица расстояний (евклидова) - sktime:\n",
            " [[ 0.          5.98045209 11.10560435  5.27931638  5.15523138]\n",
            " [ 5.98045209  0.         16.19305082  5.64424431  2.95280595]\n",
            " [11.10560435 16.19305082  0.         12.25617668 14.59809145]\n",
            " [ 5.27931638  5.64424431 12.25617668  0.          5.08123487]\n",
            " [ 5.15523138  2.95280595 14.59809145  5.08123487  0.        ]]\n",
            "Матрица расстояний (DTW) - Ваша реализация:\n",
            " [[  0.          19.12998162  94.58955343  14.9032472   14.29256302]\n",
            " [ 19.12998162   0.         237.38139402  20.67896924   3.88209414]\n",
            " [ 94.58955343 237.38139402   0.          76.20434175 212.24977478]\n",
            " [ 14.9032472   20.67896924  76.20434175   0.          22.53333293]\n",
            " [ 14.29256302   3.88209414 212.24977478  22.53333293   0.        ]]\n",
            "Матрица расстояний (DTW) - sktime:\n",
            " [[  0.          19.12998162  94.58955343  14.9032472   14.29256302]\n",
            " [ 19.12998162   0.         237.38139402  20.67896924   3.88209414]\n",
            " [ 94.58955343 237.38139402   0.          76.20434175 212.24977478]\n",
            " [ 14.9032472   20.67896924  76.20434175   0.          22.53333293]\n",
            " [ 14.29256302   3.88209414 212.24977478  22.53333293   0.        ]]\n",
            "Результаты совпадают с библиотекой sktime.\n"
          ]
        }
      ]
    },
    {
      "cell_type": "markdown",
      "source": [
        "### **Задача 4.**\n",
        "Далее рассмотрим задачу иерархической кластеризации временных рядов, где будет использоваться предвычисленная матрица расстояний.\n",
        "\n",
        "Для этого сначала загрузите набор временных рядов CBF из файла *CBF_TRAIN.txt*, который располагается в директории *./datasets/part1*. Каждая строка данного файла содержит целевую переменную (класс: 0, 1 или 2) в первом столбце и временной ряд в остальных столбцах. Набор CBF является синтетическим и включает в себя 30 временных рядов,  каждый из которых принадлежит к одному из трех классов."
      ],
      "metadata": {
        "id": "ZKbP0Pt8RyJg"
      }
    },
    {
      "cell_type": "code",
      "source": [
        "import numpy as np\n",
        "import pandas as pd  # Добавляем импорт pandas\n",
        "\n",
        "url = '/content/drive/MyDrive/01 Basics/datasets/part1/CBF_TRAIN.txt'\n",
        "data = read_ts(url)\n",
        "\n",
        "# Преобразуем результат в DataFrame, если это массив NumPy\n",
        "if isinstance(data, np.ndarray):\n",
        "    data = pd.DataFrame(data)\n",
        "\n",
        "# Теперь можно использовать iloc для извлечения временных рядов и меток\n",
        "ts_set = data.iloc[:, 1:]  # Извлекаем все строки и все столбцы, кроме первого\n",
        "labels = data.iloc[:, 0]   # Извлекаем все строки и только первый столбец (метки)"
      ],
      "metadata": {
        "id": "aYqWIJIjSudG"
      },
      "execution_count": 14,
      "outputs": []
    },
    {
      "cell_type": "markdown",
      "source": [
        "Выполните визуализацию по одному временному ряду из каждого класса. Для этого используйте функцию `plot_ts()` из модуля *plots.py*."
      ],
      "metadata": {
        "id": "_4a6AIrT19g3"
      }
    },
    {
      "cell_type": "code",
      "source": [
        "import numpy as np\n",
        "import pandas as pd\n",
        "\n",
        "# for visualization\n",
        "import plotly\n",
        "from plotly.subplots import make_subplots\n",
        "from plotly.offline import init_notebook_mode\n",
        "import plotly.graph_objs as go\n",
        "plotly.offline.init_notebook_mode(connected=True)\n",
        "\n",
        "\n",
        "def plot_ts(ts_set: np.ndarray, plot_title: str = 'Input Time Series Set'):\n",
        "    \"\"\"\n",
        "    Plot the time series set\n",
        "\n",
        "    Parameters\n",
        "    ----------\n",
        "    ts_set: time series set with shape (ts_number, ts_length)\n",
        "    plot_title: title of plot\n",
        "    \"\"\"\n",
        "\n",
        "    ts_num, m = ts_set.shape\n",
        "\n",
        "    fig = go.Figure()\n",
        "\n",
        "    for i in range(ts_num):\n",
        "        fig.add_trace(go.Scatter(x=np.arange(m), y=ts_set[i], line=dict(width=3), name=\"Time series \" + str(i)))\n",
        "\n",
        "    fig.update_xaxes(showgrid=False,\n",
        "                     title='Time',\n",
        "                     title_font=dict(size=18, color='black'),\n",
        "                     linecolor='#000',\n",
        "                     ticks=\"outside\",\n",
        "                     tickfont=dict(size=16, color='black'),\n",
        "                     linewidth=1,\n",
        "                     tickwidth=1)\n",
        "    fig.update_yaxes(showgrid=False,\n",
        "                     title='Values',\n",
        "                     title_font=dict(size=18, color='black'),\n",
        "                     linecolor='#000',\n",
        "                     ticks=\"outside\",\n",
        "                     tickfont=dict(size=16, color='black'),\n",
        "                     zeroline=False,\n",
        "                     linewidth=1,\n",
        "                     tickwidth=1)\n",
        "\n",
        "    fig.update_layout(title={'text': plot_title, 'x': 0.5, 'y':0.9, 'xanchor': 'center', 'yanchor': 'top'},\n",
        "                      title_font=dict(size=18, color='black'),\n",
        "                      plot_bgcolor=\"rgba(0,0,0,0)\",\n",
        "                      paper_bgcolor='rgba(0,0,0,0)',\n",
        "                      legend=dict(font=dict(size=16, color='black')),\n",
        "                      width=1000,\n",
        "                      height=400\n",
        "                      )\n",
        "\n",
        "    fig.show(renderer=\"colab\")"
      ],
      "metadata": {
        "id": "WWnUbJWmy1kB",
        "colab": {
          "base_uri": "https://localhost:8080/",
          "height": 17
        },
        "outputId": "1fd259d6-fa88-4fae-dacb-674e540a91b8"
      },
      "execution_count": 15,
      "outputs": [
        {
          "output_type": "display_data",
          "data": {
            "text/html": [
              "        <script type=\"text/javascript\">\n",
              "        window.PlotlyConfig = {MathJaxConfig: 'local'};\n",
              "        if (window.MathJax && window.MathJax.Hub && window.MathJax.Hub.Config) {window.MathJax.Hub.Config({SVG: {font: \"STIX-Web\"}});}\n",
              "        if (typeof require !== 'undefined') {\n",
              "        require.undef(\"plotly\");\n",
              "        requirejs.config({\n",
              "            paths: {\n",
              "                'plotly': ['https://cdn.plot.ly/plotly-2.24.1.min']\n",
              "            }\n",
              "        });\n",
              "        require(['plotly'], function(Plotly) {\n",
              "            window._Plotly = Plotly;\n",
              "        });\n",
              "        }\n",
              "        </script>\n",
              "        "
            ]
          },
          "metadata": {}
        }
      ]
    },
    {
      "cell_type": "code",
      "source": [
        "import numpy as np\n",
        "import pandas as pd\n",
        "\n",
        "# Предполагаем, что вы уже загрузили данные и получили ts_set и labels\n",
        "# Поскольку мы уже обсуждали коды для загрузки, пропустим их здесь.\n",
        "\n",
        "# Получите уникальные метки классов\n",
        "unique_labels = labels.unique()\n",
        "\n",
        "# Подготовим массив для временных рядов из каждого класса\n",
        "sample_series = []\n",
        "\n",
        "# Итерируясь по уникальным меткам, выберем один временной ряд для каждой\n",
        "for label in unique_labels:\n",
        "    # Найдите индексы всех временных рядов с текущей меткой\n",
        "    indices = labels[labels == label].index.tolist()\n",
        "\n",
        "    # Выберите случайный временной ряд из имеющихся (либо первый, если количество рядов небольшое)\n",
        "    if indices:\n",
        "        sample_index = np.random.choice(indices)\n",
        "        sample_series.append(ts_set.iloc[sample_index].values)\n",
        "\n",
        "# Преобразуем список в массив NumPy\n",
        "sample_series = np.array(sample_series)\n",
        "\n",
        "# Теперь можем визуализировать выбранные временные ряды\n",
        "plot_ts(sample_series, plot_title='Временные ряды по классам')"
      ],
      "metadata": {
        "colab": {
          "base_uri": "https://localhost:8080/",
          "height": 437
        },
        "id": "W0C2dwpwTuIy",
        "outputId": "585c9cee-6c67-4c29-9b28-16ec7117183e"
      },
      "execution_count": 16,
      "outputs": [
        {
          "output_type": "display_data",
          "data": {
            "text/html": [
              "<html>\n",
              "<head><meta charset=\"utf-8\" /></head>\n",
              "<body>\n",
              "    <div>            <script src=\"https://cdnjs.cloudflare.com/ajax/libs/mathjax/2.7.5/MathJax.js?config=TeX-AMS-MML_SVG\"></script><script type=\"text/javascript\">if (window.MathJax && window.MathJax.Hub && window.MathJax.Hub.Config) {window.MathJax.Hub.Config({SVG: {font: \"STIX-Web\"}});}</script>                <script type=\"text/javascript\">window.PlotlyConfig = {MathJaxConfig: 'local'};</script>\n",
              "        <script charset=\"utf-8\" src=\"https://cdn.plot.ly/plotly-2.24.1.min.js\"></script>                <div id=\"4d152559-6d19-4660-8b28-e51e31e2dc1b\" class=\"plotly-graph-div\" style=\"height:400px; width:1000px;\"></div>            <script type=\"text/javascript\">                                    window.PLOTLYENV=window.PLOTLYENV || {};                                    if (document.getElementById(\"4d152559-6d19-4660-8b28-e51e31e2dc1b\")) {                    Plotly.newPlot(                        \"4d152559-6d19-4660-8b28-e51e31e2dc1b\",                        [{\"line\":{\"width\":3},\"name\":\"Time series 0\",\"x\":[0,1,2,3,4,5,6,7,8,9,10,11,12,13,14,15,16,17,18,19,20,21,22,23,24,25,26,27,28,29,30,31,32,33,34,35,36,37,38,39,40,41,42,43,44,45,46,47,48,49,50,51,52,53,54,55,56,57,58,59,60,61,62,63,64,65,66,67,68,69,70,71,72,73,74,75,76,77,78,79,80,81,82,83,84,85,86,87,88,89,90,91,92,93,94,95,96,97,98,99,100,101,102,103,104,105,106,107,108,109,110,111,112,113,114,115,116,117,118,119,120,121,122,123,124,125,126,127],\"y\":[-1.4113675,-1.2082199,-0.68190674,-1.5045847,-1.1234059,-1.5287978,-1.6484307,-1.2315116,-1.4515667,-1.3356381,-1.6126185,-1.3361607,-1.8873141,-1.6757601,-0.84046076,-1.3367653,-1.4637242,-1.3090239,-1.124379,-1.2461759,-1.6359913,-1.4760013,-1.27784,-1.1442174,-1.3992806,-0.8675101,-1.4461691,-1.9022045,-1.530185,0.3253619,0.46905359,0.56519561,0.71441974,1.1041744,0.61741658,0.73910667,0.81977592,0.37175913,0.79409006,0.64908952,0.80462467,0.7500539,0.79710753,0.59478091,1.0009765,0.68636799,0.88010504,0.61919345,0.51698415,0.75327167,0.51981677,0.4340956,0.72032439,0.53427176,0.39325538,0.82401501,0.74928136,0.41138452,0.73675419,0.69275085,0.39740874,0.2373315,0.91243768,0.62471944,0.13460201,1.3882167,0.50618395,0.69848485,1.0043839,0.54987661,0.21493848,0.019752758,1.0356381,0.47701775,0.33124031,0.43421295,0.82222549,0.76323335,0.049930815,0.45229249,0.69135139,0.62040726,1.0793722,0.61742048,0.79464326,0.56504975,0.87384646,0.64519732,1.0577423,0.8543579,0.69260713,0.64256223,0.94367932,0.63229025,0.52759599,0.68830473,0.82087486,1.649365,0.39503842,0.68197352,0.82732584,0.99891334,0.63845798,0.3610378,1.477854,0.78182392,0.87852312,0.27577444,0.50566809,0.90401424,0.97859124,1.293272,0.97462806,-1.4340929,-0.6300401,-1.3681723,-1.3837793,-1.1988677,-1.1725291,-1.0685065,-1.2353608,-0.95246064,-1.17055,-1.5769658,-1.7424691,-1.1610456,-0.96438276,-1.3161164],\"type\":\"scatter\"},{\"line\":{\"width\":3},\"name\":\"Time series 1\",\"x\":[0,1,2,3,4,5,6,7,8,9,10,11,12,13,14,15,16,17,18,19,20,21,22,23,24,25,26,27,28,29,30,31,32,33,34,35,36,37,38,39,40,41,42,43,44,45,46,47,48,49,50,51,52,53,54,55,56,57,58,59,60,61,62,63,64,65,66,67,68,69,70,71,72,73,74,75,76,77,78,79,80,81,82,83,84,85,86,87,88,89,90,91,92,93,94,95,96,97,98,99,100,101,102,103,104,105,106,107,108,109,110,111,112,113,114,115,116,117,118,119,120,121,122,123,124,125,126,127],\"y\":[-1.3148891,-1.3508606,-0.57481938,-0.71378316,-1.7298737,-1.1608359,-1.4472945,-0.86289368,-0.67713836,-0.48048624,-1.3897807,-0.83240864,-0.47883842,-1.1849746,-1.254646,0.013948421,-0.55525262,-0.81958545,-0.43060757,-0.36180528,-0.69913679,-0.46318072,-1.0384395,-0.87191076,0.16235142,-1.5517221,-0.56442558,-0.85008979,-1.1442167,1.5509345,1.8843403,1.519006,1.4610599,2.0417409,1.72565,1.6015916,1.9628069,1.3539424,1.2229962,1.7869775,1.8441476,1.478125,1.0144086,1.2597573,1.5939116,1.3652857,1.0879677,1.29133,1.1279737,0.80096498,0.51743737,0.8071123,1.8071121,0.88469884,0.76245922,1.3536524,0.033225248,0.081856416,0.80722973,1.4575662,0.66706767,0.46667079,1.4491513,0.39552379,1.3361334,0.22754556,0.71210972,0.83755704,0.72776525,0.66757774,1.0903951,0.91787054,0.68248621,-0.8617284,0.23863958,0.66677492,-0.91671224,-0.10973655,0.49477458,0.16561391,0.5077004,0.19842167,0.55070789,0.32034168,0.57957328,0.46497222,0.25546615,0.18270159,0.4742114,-1.1201658,0.09455293,0.36385571,-0.51991495,-0.6362482,-0.50799654,-1.0590444,-0.94047199,-0.31047233,-0.76992268,-0.16970389,-0.75705092,-1.2445363,-0.67997309,0.050044479,-0.51713965,-0.77069892,-0.50092022,-0.48101201,-0.2846106,-0.6284647,-0.97608295,-1.4588606,-0.68271444,-0.76352141,-1.1142044,-1.3590803,-1.3662736,-1.3409384,-0.28836919,-0.70969905,-0.58787367,-0.1035496,-1.4629593,-1.2877872,-0.18902547,-1.5767386,-0.83416965,-0.75750669],\"type\":\"scatter\"},{\"line\":{\"width\":3},\"name\":\"Time series 2\",\"x\":[0,1,2,3,4,5,6,7,8,9,10,11,12,13,14,15,16,17,18,19,20,21,22,23,24,25,26,27,28,29,30,31,32,33,34,35,36,37,38,39,40,41,42,43,44,45,46,47,48,49,50,51,52,53,54,55,56,57,58,59,60,61,62,63,64,65,66,67,68,69,70,71,72,73,74,75,76,77,78,79,80,81,82,83,84,85,86,87,88,89,90,91,92,93,94,95,96,97,98,99,100,101,102,103,104,105,106,107,108,109,110,111,112,113,114,115,116,117,118,119,120,121,122,123,124,125,126,127],\"y\":[0.045628238,-1.1299653,-0.52060748,-1.0671846,-1.3322887,-0.86241869,-1.0303567,-1.0694771,-0.28594248,-1.2188799,-0.2853232,-0.26678976,-0.23816393,-0.52411757,-0.91334663,-1.4738832,-0.5042288,-0.56962935,-0.5336179,-0.39170401,-0.088669402,-0.24544549,-0.48796857,-1.0758748,-0.77054165,0.12178557,-0.60312755,-0.7284997,-0.96412858,-1.4459043,-0.36443777,-0.78603573,-0.57176608,-0.53897736,-0.3758589,0.23084154,-0.50682053,-0.64841152,0.13500388,0.51073524,0.047938769,0.30895249,-0.05311888,0.07806494,0.010870625,0.69882902,0.28065694,-0.0039492122,0.72663379,-0.74015296,-0.15465246,0.49140966,0.5761071,1.275402,0.71603016,0.69632866,0.96027291,0.21000276,0.67644428,0.44388457,0.3851856,-0.13249307,0.9118359,0.0072345174,1.4373747,1.4877386,0.87531103,1.4269118,1.3077878,0.11626513,0.89640734,1.1792771,1.6262948,1.3844436,1.7282625,1.4194429,2.2104051,2.372559,1.6112413,1.3484733,1.6273636,1.7479702,1.2611341,2.5174891,1.999826,2.1478803,2.1756302,1.9429213,2.6272376,-0.76337419,-0.72004567,0.14862199,-0.94812247,-0.77018497,-0.80356655,-0.89302881,-0.51130235,-0.78322643,-0.07052524,-0.48055259,-1.1270017,-1.2194503,-0.60405221,-0.80643776,-0.72657274,-0.4621805,-1.3699478,-1.3697154,-0.40403956,-1.486923,-0.41438953,-0.87914767,-0.50301729,-0.60799031,-0.47770134,-1.3624718,-1.0512259,-0.33106141,-0.2962114,-0.33196691,0.46703546,-0.32367753,-0.17948851,-0.2449603,-5.3901358e-05,-1.4092624,-0.78151173,-0.61823709],\"type\":\"scatter\"}],                        {\"template\":{\"data\":{\"histogram2dcontour\":[{\"type\":\"histogram2dcontour\",\"colorbar\":{\"outlinewidth\":0,\"ticks\":\"\"},\"colorscale\":[[0.0,\"#0d0887\"],[0.1111111111111111,\"#46039f\"],[0.2222222222222222,\"#7201a8\"],[0.3333333333333333,\"#9c179e\"],[0.4444444444444444,\"#bd3786\"],[0.5555555555555556,\"#d8576b\"],[0.6666666666666666,\"#ed7953\"],[0.7777777777777778,\"#fb9f3a\"],[0.8888888888888888,\"#fdca26\"],[1.0,\"#f0f921\"]]}],\"choropleth\":[{\"type\":\"choropleth\",\"colorbar\":{\"outlinewidth\":0,\"ticks\":\"\"}}],\"histogram2d\":[{\"type\":\"histogram2d\",\"colorbar\":{\"outlinewidth\":0,\"ticks\":\"\"},\"colorscale\":[[0.0,\"#0d0887\"],[0.1111111111111111,\"#46039f\"],[0.2222222222222222,\"#7201a8\"],[0.3333333333333333,\"#9c179e\"],[0.4444444444444444,\"#bd3786\"],[0.5555555555555556,\"#d8576b\"],[0.6666666666666666,\"#ed7953\"],[0.7777777777777778,\"#fb9f3a\"],[0.8888888888888888,\"#fdca26\"],[1.0,\"#f0f921\"]]}],\"heatmap\":[{\"type\":\"heatmap\",\"colorbar\":{\"outlinewidth\":0,\"ticks\":\"\"},\"colorscale\":[[0.0,\"#0d0887\"],[0.1111111111111111,\"#46039f\"],[0.2222222222222222,\"#7201a8\"],[0.3333333333333333,\"#9c179e\"],[0.4444444444444444,\"#bd3786\"],[0.5555555555555556,\"#d8576b\"],[0.6666666666666666,\"#ed7953\"],[0.7777777777777778,\"#fb9f3a\"],[0.8888888888888888,\"#fdca26\"],[1.0,\"#f0f921\"]]}],\"heatmapgl\":[{\"type\":\"heatmapgl\",\"colorbar\":{\"outlinewidth\":0,\"ticks\":\"\"},\"colorscale\":[[0.0,\"#0d0887\"],[0.1111111111111111,\"#46039f\"],[0.2222222222222222,\"#7201a8\"],[0.3333333333333333,\"#9c179e\"],[0.4444444444444444,\"#bd3786\"],[0.5555555555555556,\"#d8576b\"],[0.6666666666666666,\"#ed7953\"],[0.7777777777777778,\"#fb9f3a\"],[0.8888888888888888,\"#fdca26\"],[1.0,\"#f0f921\"]]}],\"contourcarpet\":[{\"type\":\"contourcarpet\",\"colorbar\":{\"outlinewidth\":0,\"ticks\":\"\"}}],\"contour\":[{\"type\":\"contour\",\"colorbar\":{\"outlinewidth\":0,\"ticks\":\"\"},\"colorscale\":[[0.0,\"#0d0887\"],[0.1111111111111111,\"#46039f\"],[0.2222222222222222,\"#7201a8\"],[0.3333333333333333,\"#9c179e\"],[0.4444444444444444,\"#bd3786\"],[0.5555555555555556,\"#d8576b\"],[0.6666666666666666,\"#ed7953\"],[0.7777777777777778,\"#fb9f3a\"],[0.8888888888888888,\"#fdca26\"],[1.0,\"#f0f921\"]]}],\"surface\":[{\"type\":\"surface\",\"colorbar\":{\"outlinewidth\":0,\"ticks\":\"\"},\"colorscale\":[[0.0,\"#0d0887\"],[0.1111111111111111,\"#46039f\"],[0.2222222222222222,\"#7201a8\"],[0.3333333333333333,\"#9c179e\"],[0.4444444444444444,\"#bd3786\"],[0.5555555555555556,\"#d8576b\"],[0.6666666666666666,\"#ed7953\"],[0.7777777777777778,\"#fb9f3a\"],[0.8888888888888888,\"#fdca26\"],[1.0,\"#f0f921\"]]}],\"mesh3d\":[{\"type\":\"mesh3d\",\"colorbar\":{\"outlinewidth\":0,\"ticks\":\"\"}}],\"scatter\":[{\"fillpattern\":{\"fillmode\":\"overlay\",\"size\":10,\"solidity\":0.2},\"type\":\"scatter\"}],\"parcoords\":[{\"type\":\"parcoords\",\"line\":{\"colorbar\":{\"outlinewidth\":0,\"ticks\":\"\"}}}],\"scatterpolargl\":[{\"type\":\"scatterpolargl\",\"marker\":{\"colorbar\":{\"outlinewidth\":0,\"ticks\":\"\"}}}],\"bar\":[{\"error_x\":{\"color\":\"#2a3f5f\"},\"error_y\":{\"color\":\"#2a3f5f\"},\"marker\":{\"line\":{\"color\":\"#E5ECF6\",\"width\":0.5},\"pattern\":{\"fillmode\":\"overlay\",\"size\":10,\"solidity\":0.2}},\"type\":\"bar\"}],\"scattergeo\":[{\"type\":\"scattergeo\",\"marker\":{\"colorbar\":{\"outlinewidth\":0,\"ticks\":\"\"}}}],\"scatterpolar\":[{\"type\":\"scatterpolar\",\"marker\":{\"colorbar\":{\"outlinewidth\":0,\"ticks\":\"\"}}}],\"histogram\":[{\"marker\":{\"pattern\":{\"fillmode\":\"overlay\",\"size\":10,\"solidity\":0.2}},\"type\":\"histogram\"}],\"scattergl\":[{\"type\":\"scattergl\",\"marker\":{\"colorbar\":{\"outlinewidth\":0,\"ticks\":\"\"}}}],\"scatter3d\":[{\"type\":\"scatter3d\",\"line\":{\"colorbar\":{\"outlinewidth\":0,\"ticks\":\"\"}},\"marker\":{\"colorbar\":{\"outlinewidth\":0,\"ticks\":\"\"}}}],\"scattermapbox\":[{\"type\":\"scattermapbox\",\"marker\":{\"colorbar\":{\"outlinewidth\":0,\"ticks\":\"\"}}}],\"scatterternary\":[{\"type\":\"scatterternary\",\"marker\":{\"colorbar\":{\"outlinewidth\":0,\"ticks\":\"\"}}}],\"scattercarpet\":[{\"type\":\"scattercarpet\",\"marker\":{\"colorbar\":{\"outlinewidth\":0,\"ticks\":\"\"}}}],\"carpet\":[{\"aaxis\":{\"endlinecolor\":\"#2a3f5f\",\"gridcolor\":\"white\",\"linecolor\":\"white\",\"minorgridcolor\":\"white\",\"startlinecolor\":\"#2a3f5f\"},\"baxis\":{\"endlinecolor\":\"#2a3f5f\",\"gridcolor\":\"white\",\"linecolor\":\"white\",\"minorgridcolor\":\"white\",\"startlinecolor\":\"#2a3f5f\"},\"type\":\"carpet\"}],\"table\":[{\"cells\":{\"fill\":{\"color\":\"#EBF0F8\"},\"line\":{\"color\":\"white\"}},\"header\":{\"fill\":{\"color\":\"#C8D4E3\"},\"line\":{\"color\":\"white\"}},\"type\":\"table\"}],\"barpolar\":[{\"marker\":{\"line\":{\"color\":\"#E5ECF6\",\"width\":0.5},\"pattern\":{\"fillmode\":\"overlay\",\"size\":10,\"solidity\":0.2}},\"type\":\"barpolar\"}],\"pie\":[{\"automargin\":true,\"type\":\"pie\"}]},\"layout\":{\"autotypenumbers\":\"strict\",\"colorway\":[\"#636efa\",\"#EF553B\",\"#00cc96\",\"#ab63fa\",\"#FFA15A\",\"#19d3f3\",\"#FF6692\",\"#B6E880\",\"#FF97FF\",\"#FECB52\"],\"font\":{\"color\":\"#2a3f5f\"},\"hovermode\":\"closest\",\"hoverlabel\":{\"align\":\"left\"},\"paper_bgcolor\":\"white\",\"plot_bgcolor\":\"#E5ECF6\",\"polar\":{\"bgcolor\":\"#E5ECF6\",\"angularaxis\":{\"gridcolor\":\"white\",\"linecolor\":\"white\",\"ticks\":\"\"},\"radialaxis\":{\"gridcolor\":\"white\",\"linecolor\":\"white\",\"ticks\":\"\"}},\"ternary\":{\"bgcolor\":\"#E5ECF6\",\"aaxis\":{\"gridcolor\":\"white\",\"linecolor\":\"white\",\"ticks\":\"\"},\"baxis\":{\"gridcolor\":\"white\",\"linecolor\":\"white\",\"ticks\":\"\"},\"caxis\":{\"gridcolor\":\"white\",\"linecolor\":\"white\",\"ticks\":\"\"}},\"coloraxis\":{\"colorbar\":{\"outlinewidth\":0,\"ticks\":\"\"}},\"colorscale\":{\"sequential\":[[0.0,\"#0d0887\"],[0.1111111111111111,\"#46039f\"],[0.2222222222222222,\"#7201a8\"],[0.3333333333333333,\"#9c179e\"],[0.4444444444444444,\"#bd3786\"],[0.5555555555555556,\"#d8576b\"],[0.6666666666666666,\"#ed7953\"],[0.7777777777777778,\"#fb9f3a\"],[0.8888888888888888,\"#fdca26\"],[1.0,\"#f0f921\"]],\"sequentialminus\":[[0.0,\"#0d0887\"],[0.1111111111111111,\"#46039f\"],[0.2222222222222222,\"#7201a8\"],[0.3333333333333333,\"#9c179e\"],[0.4444444444444444,\"#bd3786\"],[0.5555555555555556,\"#d8576b\"],[0.6666666666666666,\"#ed7953\"],[0.7777777777777778,\"#fb9f3a\"],[0.8888888888888888,\"#fdca26\"],[1.0,\"#f0f921\"]],\"diverging\":[[0,\"#8e0152\"],[0.1,\"#c51b7d\"],[0.2,\"#de77ae\"],[0.3,\"#f1b6da\"],[0.4,\"#fde0ef\"],[0.5,\"#f7f7f7\"],[0.6,\"#e6f5d0\"],[0.7,\"#b8e186\"],[0.8,\"#7fbc41\"],[0.9,\"#4d9221\"],[1,\"#276419\"]]},\"xaxis\":{\"gridcolor\":\"white\",\"linecolor\":\"white\",\"ticks\":\"\",\"title\":{\"standoff\":15},\"zerolinecolor\":\"white\",\"automargin\":true,\"zerolinewidth\":2},\"yaxis\":{\"gridcolor\":\"white\",\"linecolor\":\"white\",\"ticks\":\"\",\"title\":{\"standoff\":15},\"zerolinecolor\":\"white\",\"automargin\":true,\"zerolinewidth\":2},\"scene\":{\"xaxis\":{\"backgroundcolor\":\"#E5ECF6\",\"gridcolor\":\"white\",\"linecolor\":\"white\",\"showbackground\":true,\"ticks\":\"\",\"zerolinecolor\":\"white\",\"gridwidth\":2},\"yaxis\":{\"backgroundcolor\":\"#E5ECF6\",\"gridcolor\":\"white\",\"linecolor\":\"white\",\"showbackground\":true,\"ticks\":\"\",\"zerolinecolor\":\"white\",\"gridwidth\":2},\"zaxis\":{\"backgroundcolor\":\"#E5ECF6\",\"gridcolor\":\"white\",\"linecolor\":\"white\",\"showbackground\":true,\"ticks\":\"\",\"zerolinecolor\":\"white\",\"gridwidth\":2}},\"shapedefaults\":{\"line\":{\"color\":\"#2a3f5f\"}},\"annotationdefaults\":{\"arrowcolor\":\"#2a3f5f\",\"arrowhead\":0,\"arrowwidth\":1},\"geo\":{\"bgcolor\":\"white\",\"landcolor\":\"#E5ECF6\",\"subunitcolor\":\"white\",\"showland\":true,\"showlakes\":true,\"lakecolor\":\"white\"},\"title\":{\"x\":0.05},\"mapbox\":{\"style\":\"light\"}}},\"xaxis\":{\"title\":{\"text\":\"Time\",\"font\":{\"size\":18,\"color\":\"black\"}},\"tickfont\":{\"size\":16,\"color\":\"black\"},\"showgrid\":false,\"linecolor\":\"#000\",\"ticks\":\"outside\",\"linewidth\":1,\"tickwidth\":1},\"yaxis\":{\"title\":{\"text\":\"Values\",\"font\":{\"size\":18,\"color\":\"black\"}},\"tickfont\":{\"size\":16,\"color\":\"black\"},\"showgrid\":false,\"linecolor\":\"#000\",\"ticks\":\"outside\",\"zeroline\":false,\"linewidth\":1,\"tickwidth\":1},\"title\":{\"font\":{\"size\":18,\"color\":\"black\"},\"text\":\"\\u0412\\u0440\\u0435\\u043c\\u0435\\u043d\\u043d\\u044b\\u0435 \\u0440\\u044f\\u0434\\u044b \\u043f\\u043e \\u043a\\u043b\\u0430\\u0441\\u0441\\u0430\\u043c\",\"x\":0.5,\"y\":0.9,\"xanchor\":\"center\",\"yanchor\":\"top\"},\"legend\":{\"font\":{\"size\":16,\"color\":\"black\"}},\"plot_bgcolor\":\"rgba(0,0,0,0)\",\"paper_bgcolor\":\"rgba(0,0,0,0)\",\"width\":1000,\"height\":400},                        {\"responsive\": true}                    ).then(function(){\n",
              "                            \n",
              "var gd = document.getElementById('4d152559-6d19-4660-8b28-e51e31e2dc1b');\n",
              "var x = new MutationObserver(function (mutations, observer) {{\n",
              "        var display = window.getComputedStyle(gd).display;\n",
              "        if (!display || display === 'none') {{\n",
              "            console.log([gd, 'removed!']);\n",
              "            Plotly.purge(gd);\n",
              "            observer.disconnect();\n",
              "        }}\n",
              "}});\n",
              "\n",
              "// Listen for the removal of the full notebook cells\n",
              "var notebookContainer = gd.closest('#notebook-container');\n",
              "if (notebookContainer) {{\n",
              "    x.observe(notebookContainer, {childList: true});\n",
              "}}\n",
              "\n",
              "// Listen for the clearing of the current output cell\n",
              "var outputEl = gd.closest('.output');\n",
              "if (outputEl) {{\n",
              "    x.observe(outputEl, {childList: true});\n",
              "}}\n",
              "\n",
              "                        })                };                            </script>        </div>\n",
              "</body>\n",
              "</html>"
            ]
          },
          "metadata": {}
        }
      ]
    },
    {
      "cell_type": "markdown",
      "source": [
        "Далее самостоятельно реализуйте класс `TimeSeriesHierarchicalClustering` из модуля *clustering.py*, который выполняет иерархическую кластеризацию временных рядов.\n",
        "\n",
        "Перед тем как приступить к реализации, изучите скелет этого класса. Реализуйте метод `fit()`, выполняющий кластеризацию данных на основе предвычисленной матрицы расстояний, которая передается в данный метод. Поскольку реализовать иерархическую кластеризацию довольно сложно, используйте готовую реализацию [`AgglomerativeClustering`](https://scikit-learn.org/stable/modules/generated/sklearn.cluster.AgglomerativeClustering.html) из *sklearn*.   \n",
        "\n",
        "Выполните иерархическую кластеризацию загруженных временных рядов CBF для двух функций расстояния: евлидовой метрики и DTW меры.\n",
        "Для этого сначала найдите матрицы расстояний между временными рядами, используя класс `PairwiseDistance`, и передайте каждую матрицу в метод `fit()` для кластеризации.\n",
        "Далее выполните визуализацию результатов в виде дендрограмм с помощью метода `plot_dendrogram()`, передав исходный набор временных рядов и их метки."
      ],
      "metadata": {
        "id": "0ryFTWiz_fWA"
      }
    },
    {
      "cell_type": "code",
      "source": [
        "import numpy as np\n",
        "import pandas as pd\n",
        "from sklearn.cluster import AgglomerativeClustering\n",
        "from scipy.cluster.hierarchy import dendrogram\n",
        "from typing_extensions import Self\n",
        "\n",
        "from scipy.cluster.hierarchy import linkage\n",
        "\n",
        "import matplotlib.pyplot as plt\n",
        "import matplotlib.gridspec as gridspec\n",
        "\n",
        "\n",
        "class TimeSeriesHierarchicalClustering:\n",
        "    \"\"\"\n",
        "    Hierarchical Clustering of time series\n",
        "\n",
        "    Parameters\n",
        "    ----------\n",
        "    n_clusters: number of clusters\n",
        "    method: linkage criterion.\n",
        "            Options: {single, complete, average, weighted}\n",
        "    \"\"\"\n",
        "\n",
        "    def __init__(self, n_clusters: int = 3, method: str = 'complete') -> None:\n",
        "\n",
        "        self.n_clusters: int = n_clusters\n",
        "        self.method: str = method\n",
        "        self.model: AgglomerativeClustering | None = None\n",
        "        self.linkage_matrix: np.ndarray | None = None\n",
        "\n",
        "\n",
        "    def _create_linkage_matrix(self) -> np.ndarray:\n",
        "        \"\"\"\n",
        "        Build the linkage matrix\n",
        "\n",
        "        Returns\n",
        "        -------\n",
        "        linkage matrix: linkage matrix\n",
        "        \"\"\"\n",
        "\n",
        "        counts = np.zeros(self.model.children_.shape[0])\n",
        "        n_samples = len(self.model.labels_)\n",
        "\n",
        "        for i, merge in enumerate(self.model.children_):\n",
        "            current_count = 0\n",
        "            for child_idx in merge:\n",
        "                if child_idx < n_samples:\n",
        "                    current_count += 1  # leaf node\n",
        "                else:\n",
        "                    current_count += counts[child_idx - n_samples]\n",
        "            counts[i] = current_count\n",
        "\n",
        "        linkage_matrix = np.column_stack([self.model.children_, self.model.distances_, counts]).astype(float)\n",
        "\n",
        "        return linkage_matrix\n",
        "\n",
        "\n",
        "    def fit(self, distance_matrix: np.ndarray) -> Self:\n",
        "        \"\"\"\n",
        "        Fit the agglomerative clustering model based on distance matrix\n",
        "\n",
        "        Parameters\n",
        "        ----------\n",
        "        distance_matrix: distance matrix between instances of dataset with shape (ts_number, ts_number)\n",
        "\n",
        "        Returns\n",
        "        -------\n",
        "        self: the fitted model\n",
        "        \"\"\"\n",
        "\n",
        "       # INSERT YOUR CODE\n",
        "       # Инициализация модели кластеризации\n",
        "        self.model = AgglomerativeClustering(n_clusters=self.n_clusters, metric='precomputed', linkage=self.method)\n",
        "\n",
        "    # Обучение модели на переданной матрице расстояний\n",
        "        self.labels_ = self.model.fit_predict(distance_matrix)\n",
        "\n",
        "    # Создание матрицы сводки для построения дендрограммы\n",
        "        self.linkage_matrix = linkage(distance_matrix, method=self.method)\n",
        "\n",
        "        return self\n",
        "\n",
        "\n",
        "    def fit_predict(self, distance_matrix: np.ndarray) -> np.ndarray:\n",
        "        \"\"\"\n",
        "        Fit the agglomerative clustering model based on distance matrix and predict classes\n",
        "\n",
        "        Parameters\n",
        "        ----------\n",
        "        distance_matrix: distance matrix between instances of dataset with shape (ts_number, ts_number)\n",
        "\n",
        "        Returns\n",
        "        -------\n",
        "            predicted labels\n",
        "        \"\"\"\n",
        "\n",
        "        self.fit(distance_matrix)\n",
        "\n",
        "        return self.labels_\n",
        "\n",
        "\n",
        "    def _draw_timeseries_allclust(self, dx: pd.DataFrame, labels: np.ndarray, leaves: list[int], gs: gridspec.GridSpec, ts_hspace: int) -> None:\n",
        "        \"\"\"\n",
        "        Plot time series graphs beside dendrogram\n",
        "\n",
        "        Parameters\n",
        "        ----------\n",
        "        dx: timeseries data with column \"y\" indicating cluster number\n",
        "        labels: labels of dataset's instances\n",
        "        leaves: leave node names from scipy dendrogram\n",
        "        gs: gridspec configurations\n",
        "        ts_hspace: horizontal space in gridspec for plotting time series\n",
        "        \"\"\"\n",
        "\n",
        "        prop_cycle = plt.rcParams['axes.prop_cycle']\n",
        "        colors = prop_cycle.by_key()['color']\n",
        "        margin = 7\n",
        "\n",
        "        max_cluster = len(leaves)\n",
        "        # flip leaves, as gridspec iterates from top down\n",
        "        leaves = leaves[::-1]\n",
        "\n",
        "        for cnt in range(len(leaves)):\n",
        "            plt.subplot(gs[cnt:cnt+1, max_cluster-ts_hspace:max_cluster])\n",
        "            plt.axis(\"off\")\n",
        "\n",
        "            # get leafnode name, which corresponds to original data index\n",
        "            leafnode = leaves[cnt]\n",
        "            ts = dx[leafnode]\n",
        "            ts_len = ts.shape[0] - 1\n",
        "\n",
        "            label = int(labels[leafnode])\n",
        "            color_ts = colors[label]\n",
        "\n",
        "            plt.plot(ts, color=color_ts)\n",
        "            plt.text(ts_len+margin, 0, f'class = {label}')\n",
        "\n",
        "\n",
        "        \"\"\" def plot_dendrogram(self, df: pd.DataFrame, labels: np.ndarray, ts_hspace: int = 12, title: str = 'Dendrogram') -> None:\n",
        "\n",
        "        Draw agglomerative clustering dendrogram with timeseries graphs for all clusters.\n",
        "\n",
        "        Parameters\n",
        "        ----------\n",
        "        df: dataframe with each row being the time window of readings\n",
        "        labels: labels of dataset's instances\n",
        "        ts_hspace: horizontal space for timeseries graph to be plotted\n",
        "        title: title of dendrogram\n",
        "\n",
        "\n",
        "        max_cluster = len(self.linkage_matrix) + 1\n",
        "\n",
        "        plt.figure(figsize=(12, 9))\n",
        "\n",
        "        # define gridspec space\n",
        "        gs = gridspec.GridSpec(max_cluster, max_cluster)\n",
        "\n",
        "        # add dendrogram to gridspec\n",
        "        # add -1 to give timeseries graphs more space\n",
        "        plt.subplot(gs[:, 0 : max_cluster - ts_hspace - 1])\n",
        "        plt.xlabel(\"Distance\")\n",
        "        plt.ylabel(\"Cluster\")\n",
        "        plt.title(title, fontsize=16, weight='bold')\n",
        "\n",
        "        ddata = dendrogram(self.linkage_matrix, orientation=\"left\", color_threshold=sorted(self.model.distances_)[-2], show_leaf_counts=True)\n",
        "\n",
        "        self._draw_timeseries_allclust(df, labels, ddata[\"leaves\"], gs, ts_hspace)\"\"\"\n",
        "    def plot_dendrogram(self, data, labels, ts_hspace=12, title=\"Дендрограмма\"):\n",
        "      plt.figure(figsize=(10, 7))\n",
        "      dendrogram(self.linkage_matrix, labels=labels, leaf_rotation=90, leaf_font_size=12, color_threshold=0)\n",
        "      plt.title(title)\n",
        "      plt.xlabel(\"Временные ряды\")\n",
        "      plt.ylabel(\"Расстояние\")\n",
        "      plt.tight_layout()\n",
        "      plt.show()"
      ],
      "metadata": {
        "id": "2QWyGau0eSFt"
      },
      "execution_count": 17,
      "outputs": []
    },
    {
      "cell_type": "code",
      "source": [
        "ts_set = data.iloc[:, 1:].values  # Замена .values на .to_numpy() может быть также подходящей.\n",
        "labels = data.iloc[:, 0].values\n",
        "# Вычисляем матрицы расстояний для евклидова и DTW расстояний\n",
        "pairwise_distance_calculator_euclid = PairwiseDistance(metric='euclidean')\n",
        "euclid_distance_matrix = pairwise_distance_calculator_euclid.calculate(ts_set)\n",
        "\n",
        "pairwise_distance_calculator_dtw = PairwiseDistance(metric='dtw')\n",
        "dtw_distance_matrix = pairwise_distance_calculator_dtw.calculate(ts_set)\n",
        "\n",
        "# Создание экземпляра для иерархической кластеризации\n",
        "model_euclid = TimeSeriesHierarchicalClustering(n_clusters=3)\n",
        "model_euclid.fit(euclid_distance_matrix)\n",
        "model_euclid.plot_dendrogram(data, model_euclid.labels_, ts_hspace=12, title=\"Дендрограмма (Евклидова)\")\n",
        "\n",
        "model_dtw = TimeSeriesHierarchicalClustering(n_clusters=3)\n",
        "model_dtw.fit(dtw_distance_matrix)\n",
        "model_dtw.plot_dendrogram(data, model_dtw.labels_, ts_hspace=12, title=\"Дендрограмма (DTW)\")"
      ],
      "metadata": {
        "colab": {
          "base_uri": "https://localhost:8080/",
          "height": 1000
        },
        "id": "iAzVKBQUeSpX",
        "outputId": "5bb02d83-d054-4bf0-c177-003bbd5e0153"
      },
      "execution_count": 18,
      "outputs": [
        {
          "output_type": "stream",
          "name": "stderr",
          "text": [
            "<ipython-input-17-5e4a81552c5b>:79: ClusterWarning:\n",
            "\n",
            "The symmetric non-negative hollow observation matrix looks suspiciously like an uncondensed distance matrix\n",
            "\n"
          ]
        },
        {
          "output_type": "display_data",
          "data": {
            "text/plain": [
              "<Figure size 1000x700 with 1 Axes>"
            ],
            "image/png": "[encoded data removed]"
          },
          "metadata": {}
        },
        {
          "output_type": "stream",
          "name": "stderr",
          "text": [
            "<ipython-input-17-5e4a81552c5b>:79: ClusterWarning:\n",
            "\n",
            "The symmetric non-negative hollow observation matrix looks suspiciously like an uncondensed distance matrix\n",
            "\n"
          ]
        },
        {
          "output_type": "display_data",
          "data": {
            "text/plain": [
              "<Figure size 1000x700 with 1 Axes>"
            ],
            "image/png": "[encoded data removed]"
          },
          "metadata": {}
        }
      ]
    },
    {
      "cell_type": "markdown",
      "source": [
        "Сравните результаты иерархической кластеризации, полученные при двух различных функций расстояния, с помощью силуэтного коэффициента. Для этого используйте функцию [`silhouette_score()`](https://scikit-learn.org/stable/modules/generated/sklearn.metrics.silhouette_score.html) из библиотеки *sklearn*, передав в нее предвычисленную матрицу расстояний и предсказанные метки.\n",
        "\n",
        "**Силуэтный коэффициент** – метрика, которая оценивает качество кластеризации на основе исходной выборки и результатов кластеризации без необходимости знания об истинных метках объектов.\n",
        "\n",
        "Силуэтный коэффициент для выборки показывает, насколько среднее расстояние до объектов своего кластера отличается от среднего расстояния до объектов других кластеров. Пусть дана выборка $X$, состоящая из $N$ объектов. Предположим, что объекты этой выборки были разбиты на кластеры $c_1, ... c_K$, $c_i \\in C$, с помощью некоторого алгоритма кластеризации. Тогда силуэтный коэффициент для выборки будет вычисляться следующим образом:\n",
        "\n",
        "\\begin{equation}\n",
        "sil\\_coef = \\frac{1}{N} \\sum_{c_k \\in C} \\sum_{x_i \\in c_k} \\frac{b(x_i, c_k) - a(x_i, c_k)}{\\max(a(x_i, c_k), b(x_i, c_k))},\n",
        "\\end{equation}\n",
        "\n",
        "где $a(x_i, c_k)$ – среднее расстояние от объекта $x_i \\in c_k$ до других объектов из этого же кластера $c_k$; <br> $b(x_i, c_k)$  – среднее расстояние от объекта $x_i \\in c_k$ до объектов из другого кластера $c_l$, $k \\neq l$.\n",
        "\n",
        "Силуэтный коэффициент принимает значения от  −1  до  1:\n",
        "*   –1 означает, что кластеры плохие, размытые;\n",
        "*   0 означает, что кластеры накладываются друг на друга;\n",
        "*   1 означает, что кластеры плотные и хорошо отделены друг от друга.\n",
        "\n",
        "Таким образом, чем ближе значение коэффициента к 1, тем лучше кластеризованы данные."
      ],
      "metadata": {
        "id": "AKLbiOYSp9us"
      }
    },
    {
      "cell_type": "code",
      "source": [
        "# INSERT YOUR CODE"
      ],
      "metadata": {
        "id": "awXYWGphqCbQ"
      },
      "execution_count": 19,
      "outputs": []
    },
    {
      "cell_type": "code",
      "source": [
        "import numpy as np\n",
        "import pandas as pd\n",
        "from sklearn.metrics import silhouette_score"
      ],
      "metadata": {
        "id": "urBPCBFGZP16"
      },
      "execution_count": 20,
      "outputs": []
    },
    {
      "cell_type": "code",
      "source": [
        "# Вычисляем силуэтный коэффициент для евклидова расстояния\n",
        "silhouette_score_euclid = silhouette_score(euclid_distance_matrix, model_euclid.labels_, metric='precomputed')\n",
        "print(f\"Силуэтный коэффициент (Евклидова расстояние): {silhouette_score_euclid:.4f}\")\n",
        "\n",
        "# Вычисляем силуэтный коэффициент для DTW расстояния\n",
        "silhouette_score_dtw = silhouette_score(dtw_distance_matrix, model_dtw.labels_, metric='precomputed')\n",
        "print(f\"Силуэтный коэффициент (DTW расстояние): {silhouette_score_dtw:.4f}\")"
      ],
      "metadata": {
        "colab": {
          "base_uri": "https://localhost:8080/"
        },
        "id": "TFf24QdpZP6P",
        "outputId": "b32d7142-e885-4505-d40c-f9bb4b7aaee8"
      },
      "execution_count": 21,
      "outputs": [
        {
          "output_type": "stream",
          "name": "stdout",
          "text": [
            "Силуэтный коэффициент (Евклидова расстояние): 0.1804\n",
            "Силуэтный коэффициент (DTW расстояние): 0.3881\n"
          ]
        }
      ]
    },
    {
      "cell_type": "markdown",
      "source": [
        "![equation.png](data:image/png;base64,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)\n",
        "Проанализируйте полученные результаты кластеризации с помощью построенных дендрограмм и вычисленных силуэтных коэффициентов. Какая, на ваш взгляд, функция расстояния показала лучший результат и почему? Укажите, в каких случаях более предпочтительно использовать DTW меру, чем евклидову метрику."
      ],
      "metadata": {
        "id": "CRfDkih_AGuB"
      }
    },
    {
      "cell_type": "markdown",
      "source": [
        "*# WRITE YOUR ANSWER*\n",
        "\n",
        "Евклидова метрика продемонстрировала высокий силуэтный коэффициент в сравнении с DTW, что говорит о том, что объекты в задаче, скорее всего, расположены в пространстве, где классическая геометрия хорошо работает.\n",
        "\n",
        "  Когда Предпочтительна Мера DTW:\n",
        "\n",
        "*   Временные Ряды: DTW предпочтительнее, когда данные\n",
        "представлены в виде временных рядов, так как она учитывает изменения в времени и позволяет сравнивать последовательности с различной длиной и искажениями по времени.\n",
        "*   Сигналы и Модели Поведения: В обработки сигналов или анализе поведения, когда временные особенности критически важны для группировки.\n",
        "\n",
        "*   Значительные Искажения: Если последовательности имеют вариации в скорости (например, одна последовательность может замедляться или ускоряться), DTW позволяет лучше справиться с этой сложностью.\n",
        "\n",
        "\n",
        "\n",
        "\n",
        "\n",
        "\n"
      ],
      "metadata": {
        "id": "UoRTMWDravyT"
      }
    },
    {
      "cell_type": "markdown",
      "source": [
        "## **Часть 2.** $Z$-нормализация временных рядов."
      ],
      "metadata": {
        "id": "1f2_mgETwkZY"
      }
    },
    {
      "cell_type": "markdown",
      "source": [
        "### **Задача 5.**\n",
        "Реализуйте функцию вычисления нормализованного евклидова расстояния между временными рядами `norm_ED_distance()` в модуле *metrics.py* и проверьте правильность своей реализации, сравнив полученные результаты с результатами функции [`ed_distance()`](https://www.sktime.net/en/latest/api_reference/auto_generated/sktime.distances.euclidean_distance.html) из библиотеки *sktime*, в которую необходимо передать <u>нормализованные</u> временные ряды. Для нормализации временных рядов используйте функцию `z-normalize()` из *utils.py*.  Для проверки можно использовать синтетические временные ряды из первой части или заново их сгенерировать.\n",
        "\n",
        "**Нормализованная евклидова метрика** между двумя временными рядами $T_1$ и $T_2$ длины $n$ вычисляется следующим образом:\n",
        "\n",
        "\\begin{equation}\n",
        "\t\\text{ED}_{norm}(T_1, T_2) = \\sqrt {\\Big|\\; 2n\\left(1-\\dfrac{<T_1, T_2> - \\; n \\; \\cdotp \\mu_{T_1} \\; \\cdotp \\mu_{T_2}}{n \\; \\cdotp \\sigma_{T_1} \\; \\cdotp \\sigma_{T_2}}\\right)\\Big|},\n",
        "\\end{equation}\n",
        "\n",
        "где $<T_1, T_2>$ – скалярное произведение временных рядов, $\\mu_{T_1}$ и $\\mu_{T_2}$, $\\sigma_{T_1}$ и $\\sigma_{T_2}$ – среднее арифметическое и стандартное отклонение временных рядов соответственно.\n",
        "\n",
        "**Среднее арифметическое** $\\mu_T$ и **стандартное отклонение** $\\sigma_T$ временного ряда $T$ длины $n$ вычисляются по следующим формулам:\n",
        "\n",
        "\\begin{equation}\n",
        "\t\\mu_{T} = \\frac{1}{n}\\sum\\limits_{i=1}^{n} t_{i}, \\\\[1em]\n",
        "\t\\sigma_{T} = \\sqrt{\\frac{1}{n}\\sum\\limits_{i=1}^{n} t_i^2-\\mu_{T}^2}.\n",
        "\\end{equation}"
      ],
      "metadata": {
        "id": "BvVfiEMTvl0o"
      }
    },
    {
      "cell_type": "code",
      "source": [
        "# INSERT YOUR CODE"
      ],
      "metadata": {
        "id": "4CWvwwuQJNPP"
      },
      "execution_count": 22,
      "outputs": []
    },
    {
      "cell_type": "code",
      "source": [
        "def norm_ED_distance(ts1: np.ndarray, ts2: np.ndarray) -> float:\n",
        "    \"\"\"\n",
        "    Calculate the normalized Euclidean distance\n",
        "\n",
        "    Parameters\n",
        "    ----------\n",
        "    ts1: the first time series\n",
        "    ts2: the second time series\n",
        "\n",
        "    Returns\n",
        "    -------\n",
        "    norm_ed_dist: normalized Euclidean distance between ts1 and ts2s\n",
        "    \"\"\"\n",
        "\n",
        "    n = len(ts1)\n",
        "\n",
        "    # Вычисляем средние и стандартные отклонения\n",
        "    mean_ts1 = np.mean(ts1)\n",
        "    mean_ts2 = np.mean(ts2)\n",
        "\n",
        "    std_ts1 = np.std(ts1)\n",
        "    std_ts2 = np.std(ts2)\n",
        "\n",
        "    # Вычисляем скалярное произведение временных рядов\n",
        "    dot_product = np.dot(ts1, ts2)\n",
        "\n",
        "    # Нормализованное расстояние\n",
        "    norm_ed_dist = np.sqrt(2 * n * (1 - dot_product / (n * std_ts1 * std_ts2)))\n",
        "\n",
        "    return norm_ed_dist"
      ],
      "metadata": {
        "id": "axTbUQK8eHym"
      },
      "execution_count": 23,
      "outputs": []
    },
    {
      "cell_type": "code",
      "source": [
        "def z_normalize(ts: np.ndarray) -> np.ndarray:\n",
        "    \"\"\"\n",
        "    Calculate the z-normalized time series by subtracting the mean and\n",
        "    dividing by the standard deviation along a given axis\n",
        "\n",
        "    Parameters\n",
        "    ----------\n",
        "    ts: time series\n",
        "\n",
        "    Returns\n",
        "    -------\n",
        "    norm_ts: z-normalized time series\n",
        "    \"\"\"\n",
        "\n",
        "    norm_ts = (ts - np.mean(ts, axis=0)) / np.std(ts, axis=0)\n",
        "\n",
        "    return norm_ts"
      ],
      "metadata": {
        "id": "NCUhe9uyeH6j"
      },
      "execution_count": 24,
      "outputs": []
    },
    {
      "cell_type": "code",
      "source": [
        "import numpy as np\n",
        "from sktime.distances import euclidean_distance as sktime_normalized_euclidean_distance\n",
        "\n",
        "# Генерируем случайные временные ряды\n",
        "np.random.seed(0)\n",
        "ts1 = np.random.rand(100)\n",
        "ts2 = np.random.rand(100)\n",
        "\n",
        "# Нормализуем временные ряды\n",
        "norm_ts1 = z_normalize(ts1)\n",
        "norm_ts2 = z_normalize(ts2)\n",
        "\n",
        "# Вычисляем нормализованное евклидово расстояние\n",
        "my_norm_distance = norm_ED_distance(norm_ts1, norm_ts2)\n",
        "\n",
        "# Проверка с помощью sktime\n",
        "expected_norm_distance = sktime_normalized_euclidean_distance(norm_ts1, norm_ts2)\n",
        "\n",
        "# Сравниваем результаты\n",
        "test_distances(my_norm_distance, expected_norm_distance)\n",
        "\n",
        "print(f\"My Normalized Euclidean Distance: {my_norm_distance}\")\n",
        "print(f\"Sktime Normalized Euclidean Distance: {expected_norm_distance}\")"
      ],
      "metadata": {
        "colab": {
          "base_uri": "https://localhost:8080/"
        },
        "id": "LVWzUTiDe4k8",
        "outputId": "1b4427db-d039-4e85-a26e-2b557414e76f"
      },
      "execution_count": 25,
      "outputs": [
        {
          "output_type": "stream",
          "name": "stdout",
          "text": [
            "My Normalized Euclidean Distance: 14.602103348818712\n",
            "Sktime Normalized Euclidean Distance: 14.602103348818712\n"
          ]
        }
      ]
    },
    {
      "cell_type": "markdown",
      "source": [
        "### **Задача 6.**\n",
        "Далее убедимся, что выполнение $z$-нормализации на этапе предобработки данных имеет важное значение и может повысить точность решаемой задачи.\n",
        "\n",
        "В данном задании вы продолжите решать задачу иерархической кластеризации. В качестве данных будут использоваться два временных ряда из набора данных [BIDMC](https://physionet.org/content/chfdb/1.0.0/). Набор BIDMC состоит из записей ЭКГ-сигналов, снятых с 15 пациентов с сердечной недостаточностью тяжелой степени.  \n",
        "\n",
        "Загрузите два временных ряда и визуализируйте их с помощью функции `plot_ts()` из модуля *plots.py*."
      ],
      "metadata": {
        "id": "Fd-Ytm-3up37"
      }
    },
    {
      "cell_type": "code",
      "source": [
        "url1 = '/content/drive/MyDrive/01 Basics/datasets/part2/chf10.csv'\n",
        "ts1 = read_ts(url1)\n",
        "\n",
        "url2 = '/content/drive/MyDrive/01 Basics/datasets/part2/chf11.csv'\n",
        "ts2 = read_ts(url2)"
      ],
      "metadata": {
        "id": "Ej1vG79L3Ns-"
      },
      "execution_count": 44,
      "outputs": []
    },
    {
      "cell_type": "code",
      "source": [
        "ts_set = np.concatenate((ts1, ts2), axis=1).T"
      ],
      "metadata": {
        "id": "e7lUvTjb7dMa"
      },
      "execution_count": 45,
      "outputs": []
    },
    {
      "cell_type": "code",
      "source": [
        "plot_ts(ts_set)"
      ],
      "metadata": {
        "id": "zBqBgXL_dr-K",
        "colab": {
          "base_uri": "https://localhost:8080/",
          "height": 437
        },
        "outputId": "d773e6e3-fbbd-458e-c9e9-8745f37c6207"
      },
      "execution_count": 46,
      "outputs": [
        {
          "output_type": "display_data",
          "data": {
            "text/html": [
              "<html>\n",
              "<head><meta charset=\"utf-8\" /></head>\n",
              "<body>\n",
              "    <div>            <script src=\"https://cdnjs.cloudflare.com/ajax/libs/mathjax/2.7.5/MathJax.js?config=TeX-AMS-MML_SVG\"></script><script type=\"text/javascript\">if (window.MathJax && window.MathJax.Hub && window.MathJax.Hub.Config) {window.MathJax.Hub.Config({SVG: {font: \"STIX-Web\"}});}</script>                <script type=\"text/javascript\">window.PlotlyConfig = {MathJaxConfig: 'local'};</script>\n",
              "        <script charset=\"utf-8\" src=\"https://cdn.plot.ly/plotly-2.24.1.min.js\"></script>                <div id=\"09ba724f-18cf-404b-9332-7a1c4a314d01\" class=\"plotly-graph-div\" style=\"height:400px; width:1000px;\"></div>            <script type=\"text/javascript\">                                    window.PLOTLYENV=window.PLOTLYENV || {};                                    if (document.getElementById(\"09ba724f-18cf-404b-9332-7a1c4a314d01\")) {                    Plotly.newPlot(                        \"09ba724f-18cf-404b-9332-7a1c4a314d01\",                        [{\"line\":{\"width\":3},\"name\":\"Time series 0\",\"x\":[0,1,2,3,4,5,6,7,8,9,10,11,12,13,14,15,16,17,18,19,20,21,22,23,24,25,26,27,28,29,30,31,32,33,34,35,36,37,38,39,40,41,42,43,44,45,46,47,48,49,50,51,52,53,54,55,56,57,58,59,60,61,62,63,64,65,66,67,68,69,70,71,72,73,74,75,76,77,78,79,80,81,82,83,84,85,86,87,88,89,90,91,92,93,94,95,96,97,98,99,100,101,102,103,104,105,106,107,108,109,110,111,112,113,114,115,116,117,118,119,120,121,122,123,124,125,126,127,128,129,130,131,132,133,134,135,136,137,138,139,140,141,142,143,144,145,146,147,148,149,150,151,152,153,154,155,156,157,158,159,160,161,162,163,164,165,166,167,168,169,170,171,172,173,174,175,176,177,178,179,180,181,182,183,184,185,186,187,188,189,190,191,192,193,194,195,196,197,198,199,200,201,202,203,204,205,206,207,208,209,210,211,212,213,214,215,216,217,218,219,220,221,222,223,224,225,226,227,228,229,230,231,232,233,234,235,236,237,238,239,240,241,242,243,244,245,246,247,248,249,250,251,252,253,254,255,256,257,258,259,260,261,262,263,264,265,266,267,268,269,270,271,272,273,274,275,276,277,278,279,280,281,282,283,284,285,286,287,288,289,290,291,292,293,294,295,296,297,298,299,300,301,302,303,304,305,306,307,308,309,310,311,312,313,314,315,316,317,318,319,320,321,322,323,324,325,326,327,328,329,330,331,332,333,334,335,336,337,338,339,340,341,342,343,344,345,346,347,348,349,350,351,352,353,354,355,356,357,358,359,360,361,362,363,364,365,366,367,368,369,370,371,372,373,374,375,376,377,378,379,380,381,382,383,384,385,386,387,388,389,390,391,392,393,394,395,396,397,398,399,400,401,402,403,404,405,406,407,408,409,410,411,412,413,414,415,416,417,418,419,420,421,422,423,424,425,426,427,428,429,430,431,432,433,434,435,436,437,438,439,440,441,442,443,444,445,446,447,448,449,450,451,452,453,454,455,456,457,458,459,460,461,462,463,464,465,466,467,468,469,470,471,472,473,474,475,476,477,478,479,480,481,482,483,484,485,486,487,488,489,490,491,492,493,494,495,496,497,498,499,500,501,502,503,504,505,506,507,508,509,510,511,512,513,514,515,516,517,518,519,520,521,522,523,524,525,526,527,528,529,530,531,532,533,534,535,536,537,538,539,540,541,542,543,544,545,546,547,548,549,550,551,552,553,554,555,556,557,558,559,560,561,562,563,564,565,566,567,568,569,570,571,572,573,574,575,576,577,578,579,580,581,582,583,584,585,586,587,588,589,590,591,592,593,594,595,596,597,598,599,600,601,602,603,604,605,606,607,608,609,610,611,612,613,614,615,616,617,618,619,620,621,622,623,624,625,626,627,628,629,630,631,632,633,634,635,636,637,638,639,640,641,642,643,644,645,646,647,648,649,650,651,652,653,654,655,656,657,658,659,660,661,662,663,664,665,666,667,668,669,670,671,672,673,674,675,676,677,678,679,680,681,682,683,684,685,686,687,688,689,690,691,692,693,694,695,696,697,698,699,700,701,702,703,704,705,706,707,708,709,710,711,712,713,714,715,716,717,718,719,720,721,722,723,724,725,726,727,728,729,730,731,732,733,734,735,736,737,738,739,740,741,742,743,744,745,746,747,748,749,750,751,752,753,754,755,756,757,758,759,760,761,762,763,764,765,766,767,768,769,770,771,772,773,774,775,776,777,778,779,780,781,782,783,784,785,786,787,788,789,790,791,792,793,794,795,796,797,798,799,800,801,802,803,804,805,806,807,808,809,810,811,812,813,814,815,816,817,818,819,820,821,822,823,824,825,826,827,828,829,830,831,832,833,834,835,836,837,838,839,840,841,842,843,844,845,846,847,848,849,850,851,852,853,854,855,856,857,858,859,860,861,862,863,864,865,866,867,868,869,870,871,872,873,874,875,876,877,878,879,880,881,882,883,884,885,886,887,888,889,890,891,892,893,894,895,896,897,898,899,900,901,902,903,904,905,906,907,908,909,910,911,912,913,914,915,916,917,918,919,920,921,922,923,924,925,926,927,928,929,930,931,932,933,934,935,936,937,938,939,940,941,942,943,944,945,946,947,948,949,950,951,952,953,954,955,956,957,958,959,960,961,962,963,964,965,966,967,968,969,970,971,972,973,974,975,976,977,978,979,980,981,982,983,984,985,986,987,988,989,990,991,992,993,994,995,996,997,998,999,1000,1001,1002,1003,1004,1005,1006,1007,1008,1009,1010,1011,1012,1013,1014,1015,1016,1017,1018,1019,1020,1021,1022,1023,1024,1025,1026,1027,1028,1029,1030,1031,1032,1033,1034,1035,1036,1037,1038,1039,1040,1041,1042,1043,1044,1045,1046,1047,1048,1049,1050,1051,1052,1053,1054,1055,1056,1057,1058,1059,1060,1061,1062,1063,1064,1065,1066,1067,1068,1069,1070,1071,1072,1073,1074,1075,1076,1077,1078,1079,1080,1081,1082,1083,1084,1085,1086,1087,1088,1089,1090,1091,1092,1093,1094,1095,1096,1097,1098,1099,1100,1101,1102,1103,1104,1105,1106,1107,1108,1109,1110,1111,1112,1113,1114,1115,1116,1117,1118,1119,1120,1121,1122,1123,1124,1125,1126,1127,1128,1129,1130,1131,1132,1133,1134,1135,1136,1137,1138,1139,1140,1141,1142,1143,1144,1145,1146,1147,1148,1149,1150,1151,1152,1153,1154,1155,1156,1157,1158,1159,1160,1161,1162,1163,1164,1165,1166,1167,1168,1169,1170,1171,1172,1173,1174,1175,1176,1177,1178,1179,1180,1181,1182,1183,1184,1185,1186,1187,1188,1189,1190,1191,1192,1193,1194,1195,1196,1197,1198,1199,1200,1201,1202,1203,1204,1205,1206,1207,1208,1209,1210,1211,1212,1213,1214,1215,1216,1217,1218,1219,1220,1221,1222,1223,1224,1225,1226,1227,1228,1229,1230,1231,1232,1233,1234,1235,1236,1237,1238,1239,1240,1241,1242,1243,1244,1245,1246,1247,1248,1249,1250,1251,1252,1253,1254,1255,1256,1257,1258,1259,1260,1261,1262,1263,1264,1265,1266,1267,1268,1269,1270,1271,1272,1273,1274,1275,1276,1277,1278,1279,1280,1281,1282,1283,1284,1285,1286,1287,1288,1289,1290,1291,1292,1293,1294,1295,1296,1297,1298,1299,1300,1301,1302,1303,1304,1305,1306,1307,1308,1309,1310,1311,1312,1313,1314,1315,1316,1317,1318,1319,1320,1321,1322,1323,1324,1325,1326,1327,1328,1329,1330,1331,1332,1333,1334,1335,1336,1337,1338,1339,1340,1341,1342,1343,1344,1345,1346,1347,1348,1349,1350,1351,1352,1353,1354,1355,1356,1357,1358,1359,1360,1361,1362,1363,1364,1365,1366,1367,1368,1369,1370,1371,1372,1373,1374,1375,1376,1377,1378,1379,1380,1381,1382,1383,1384,1385,1386,1387,1388,1389,1390,1391,1392,1393,1394,1395,1396,1397,1398,1399,1400,1401,1402,1403,1404,1405,1406,1407,1408,1409,1410,1411,1412,1413,1414,1415,1416,1417,1418,1419,1420,1421,1422,1423,1424,1425,1426,1427,1428,1429,1430,1431,1432,1433,1434,1435,1436,1437,1438,1439,1440,1441,1442,1443,1444,1445,1446,1447,1448,1449,1450,1451,1452,1453,1454,1455,1456,1457,1458,1459,1460,1461,1462,1463,1464,1465,1466,1467,1468,1469,1470,1471,1472,1473,1474,1475,1476,1477,1478,1479,1480,1481,1482,1483,1484,1485,1486,1487,1488,1489,1490,1491,1492,1493,1494,1495,1496,1497,1498,1499,1500,1501,1502,1503,1504,1505,1506,1507,1508,1509,1510,1511,1512,1513,1514,1515,1516,1517,1518,1519,1520,1521,1522,1523,1524,1525,1526,1527,1528,1529,1530,1531,1532,1533,1534,1535,1536,1537,1538,1539,1540,1541,1542,1543,1544,1545,1546,1547,1548,1549,1550,1551,1552,1553,1554,1555,1556,1557,1558,1559,1560,1561,1562,1563,1564,1565,1566,1567,1568,1569,1570,1571,1572,1573,1574,1575,1576,1577,1578,1579,1580,1581,1582,1583,1584,1585,1586,1587,1588,1589,1590,1591,1592,1593,1594,1595,1596,1597,1598,1599,1600,1601,1602,1603,1604,1605,1606,1607,1608,1609,1610,1611,1612,1613,1614,1615,1616,1617,1618,1619,1620,1621,1622,1623,1624,1625,1626,1627,1628,1629,1630,1631,1632,1633,1634,1635,1636,1637,1638,1639,1640,1641,1642,1643,1644,1645,1646,1647,1648,1649,1650,1651,1652,1653,1654,1655,1656,1657,1658,1659,1660,1661,1662,1663,1664,1665,1666,1667,1668,1669,1670,1671,1672,1673,1674,1675,1676,1677,1678,1679,1680,1681,1682,1683,1684,1685,1686,1687,1688,1689,1690,1691,1692,1693,1694,1695,1696,1697,1698,1699,1700,1701,1702,1703,1704,1705,1706,1707,1708,1709,1710,1711,1712,1713,1714,1715,1716,1717,1718,1719,1720,1721,1722,1723,1724,1725,1726,1727,1728,1729,1730,1731,1732,1733,1734,1735,1736,1737,1738,1739,1740,1741,1742,1743,1744,1745,1746,1747,1748,1749,1750,1751,1752,1753,1754,1755,1756,1757,1758,1759,1760,1761,1762,1763,1764,1765,1766,1767,1768,1769,1770,1771,1772,1773,1774,1775,1776,1777,1778,1779,1780,1781,1782,1783,1784,1785,1786,1787,1788,1789,1790,1791,1792,1793,1794,1795,1796,1797,1798,1799,1800,1801,1802,1803,1804,1805,1806,1807,1808,1809,1810,1811,1812,1813,1814,1815,1816,1817,1818,1819,1820,1821,1822,1823,1824,1825,1826,1827,1828,1829,1830,1831,1832,1833,1834,1835,1836,1837,1838,1839,1840,1841,1842,1843,1844,1845,1846,1847,1848,1849,1850,1851,1852,1853,1854,1855,1856,1857,1858,1859,1860,1861,1862,1863,1864,1865,1866,1867,1868,1869,1870,1871,1872,1873,1874,1875,1876,1877,1878,1879,1880,1881,1882,1883,1884,1885,1886,1887,1888,1889,1890,1891,1892,1893,1894,1895,1896,1897,1898,1899,1900,1901,1902,1903,1904,1905,1906,1907,1908,1909,1910,1911,1912,1913,1914,1915,1916,1917,1918,1919,1920,1921,1922,1923,1924,1925,1926,1927,1928,1929,1930,1931,1932,1933,1934,1935,1936,1937,1938,1939,1940,1941,1942,1943,1944,1945,1946,1947,1948,1949,1950,1951,1952,1953,1954,1955,1956,1957,1958,1959,1960,1961,1962,1963,1964,1965,1966,1967,1968,1969,1970,1971,1972,1973,1974,1975,1976,1977,1978,1979,1980,1981,1982,1983,1984,1985,1986,1987,1988,1989,1990,1991,1992,1993,1994,1995,1996,1997,1998,1999,2000,2001,2002,2003,2004,2005,2006,2007,2008,2009,2010,2011,2012,2013,2014,2015,2016,2017,2018,2019,2020,2021,2022,2023,2024,2025,2026,2027,2028,2029,2030,2031,2032,2033,2034,2035,2036,2037,2038,2039,2040,2041,2042,2043,2044,2045,2046,2047,2048,2049,2050,2051,2052,2053,2054,2055,2056,2057,2058,2059,2060,2061,2062,2063,2064,2065,2066,2067,2068,2069,2070,2071,2072,2073,2074,2075,2076,2077,2078,2079,2080,2081,2082,2083,2084,2085,2086,2087,2088,2089,2090,2091,2092,2093,2094,2095,2096,2097,2098,2099,2100,2101,2102,2103,2104,2105,2106,2107,2108,2109,2110,2111,2112,2113,2114,2115,2116,2117,2118,2119,2120,2121,2122,2123,2124,2125,2126,2127,2128,2129,2130,2131,2132,2133,2134,2135,2136,2137,2138,2139,2140,2141,2142,2143,2144,2145,2146,2147,2148,2149,2150,2151,2152,2153,2154,2155,2156,2157,2158,2159,2160,2161,2162,2163,2164,2165,2166,2167,2168,2169,2170,2171,2172,2173,2174,2175,2176,2177,2178,2179,2180,2181,2182,2183,2184,2185,2186,2187,2188,2189,2190,2191,2192,2193,2194,2195,2196,2197,2198,2199,2200,2201,2202,2203,2204,2205,2206,2207,2208,2209,2210,2211,2212,2213,2214,2215,2216,2217,2218,2219,2220,2221,2222,2223,2224,2225,2226,2227,2228,2229,2230,2231,2232,2233,2234,2235,2236,2237,2238,2239,2240,2241,2242,2243,2244,2245,2246,2247,2248,2249,2250,2251,2252,2253,2254,2255,2256,2257,2258,2259,2260,2261,2262,2263,2264,2265,2266,2267,2268,2269,2270,2271,2272,2273,2274,2275,2276,2277,2278,2279,2280,2281,2282,2283,2284,2285,2286,2287,2288,2289,2290,2291,2292,2293,2294,2295,2296,2297,2298,2299,2300,2301,2302,2303,2304,2305,2306,2307,2308,2309,2310,2311,2312,2313,2314,2315,2316,2317,2318,2319,2320,2321,2322,2323,2324,2325,2326,2327,2328,2329,2330,2331,2332,2333,2334,2335,2336,2337,2338,2339,2340,2341,2342,2343,2344,2345,2346,2347,2348,2349,2350,2351,2352,2353,2354,2355,2356,2357,2358,2359,2360,2361,2362,2363,2364,2365,2366,2367,2368,2369,2370,2371,2372,2373,2374,2375,2376,2377,2378,2379,2380,2381,2382,2383,2384,2385,2386,2387,2388,2389,2390,2391,2392,2393,2394,2395,2396,2397,2398,2399,2400,2401,2402,2403,2404,2405,2406,2407,2408,2409,2410,2411,2412,2413,2414,2415,2416,2417,2418,2419,2420,2421,2422,2423,2424,2425,2426,2427,2428,2429,2430,2431,2432,2433,2434,2435,2436,2437,2438,2439,2440,2441,2442,2443,2444,2445,2446,2447,2448,2449,2450,2451,2452,2453,2454,2455,2456,2457,2458,2459,2460,2461,2462,2463,2464,2465,2466,2467,2468,2469,2470,2471,2472,2473,2474,2475,2476,2477,2478,2479,2480,2481,2482,2483,2484,2485,2486,2487,2488,2489,2490,2491,2492,2493,2494,2495,2496,2497,2498,2499,2500,2501,2502,2503,2504,2505,2506,2507,2508,2509,2510,2511,2512,2513,2514,2515,2516,2517,2518,2519,2520,2521,2522,2523,2524,2525,2526,2527,2528,2529,2530,2531,2532,2533,2534,2535,2536,2537,2538,2539,2540,2541,2542,2543,2544,2545,2546,2547,2548,2549,2550,2551,2552,2553,2554,2555,2556,2557,2558,2559,2560,2561,2562,2563,2564,2565,2566,2567,2568,2569,2570,2571,2572,2573,2574,2575,2576,2577,2578,2579,2580,2581,2582,2583,2584,2585,2586,2587,2588,2589,2590,2591,2592,2593,2594,2595,2596,2597,2598,2599,2600,2601,2602,2603,2604,2605,2606,2607,2608,2609,2610,2611,2612,2613,2614,2615,2616,2617,2618,2619,2620,2621,2622,2623,2624,2625,2626,2627,2628,2629,2630,2631,2632,2633,2634,2635,2636,2637,2638,2639,2640,2641,2642,2643,2644,2645,2646,2647,2648,2649,2650,2651,2652,2653,2654,2655,2656,2657,2658,2659,2660,2661,2662,2663,2664,2665,2666,2667,2668,2669,2670,2671,2672,2673,2674,2675,2676,2677,2678,2679,2680,2681,2682,2683,2684,2685,2686,2687,2688,2689,2690,2691,2692,2693,2694,2695,2696,2697,2698,2699,2700,2701,2702,2703,2704,2705,2706,2707,2708,2709,2710,2711,2712,2713,2714,2715,2716,2717,2718,2719,2720,2721,2722,2723,2724,2725,2726,2727,2728,2729,2730,2731,2732,2733,2734,2735,2736,2737,2738,2739,2740,2741,2742,2743,2744,2745,2746,2747,2748,2749,2750,2751,2752,2753,2754,2755,2756,2757,2758,2759,2760,2761,2762,2763,2764,2765,2766,2767,2768,2769,2770,2771,2772,2773,2774,2775,2776,2777,2778,2779,2780,2781,2782,2783,2784,2785,2786,2787,2788,2789,2790,2791,2792,2793,2794,2795,2796,2797,2798,2799,2800,2801,2802,2803,2804,2805,2806,2807,2808,2809,2810,2811,2812,2813,2814,2815,2816,2817,2818,2819,2820,2821,2822,2823,2824,2825,2826,2827,2828,2829,2830,2831,2832,2833,2834,2835,2836,2837,2838,2839,2840,2841,2842,2843,2844,2845,2846,2847,2848,2849,2850,2851,2852,2853,2854,2855,2856,2857,2858,2859,2860,2861,2862,2863,2864,2865,2866,2867,2868,2869,2870,2871,2872,2873,2874,2875,2876,2877,2878,2879,2880,2881,2882,2883,2884,2885,2886,2887,2888,2889,2890,2891,2892,2893,2894,2895,2896,2897,2898,2899,2900,2901,2902,2903,2904,2905,2906,2907,2908,2909,2910,2911,2912,2913,2914,2915,2916,2917,2918,2919,2920,2921,2922,2923,2924,2925,2926,2927,2928,2929,2930,2931,2932,2933,2934,2935,2936,2937,2938,2939,2940,2941,2942,2943,2944,2945,2946,2947,2948,2949,2950,2951,2952,2953,2954,2955,2956,2957,2958,2959,2960,2961,2962,2963,2964,2965,2966,2967,2968,2969,2970,2971,2972,2973,2974,2975,2976,2977,2978,2979,2980,2981,2982,2983,2984,2985,2986,2987,2988,2989,2990,2991,2992,2993,2994,2995,2996,2997,2998,2999],\"y\":[-0.18,-0.175,-0.175,-0.17,-0.17,-0.17,-0.18,-0.2,-0.175,-0.165,-0.205,-0.19,-0.22,-0.21,-0.22,-0.24,-0.255,-0.275,-0.265,-0.27,-0.26,-0.28,-0.265,-0.28,-0.265,-0.27,-0.275,-0.295,-0.275,-0.275,-0.275,-0.24,-0.285,-0.245,-0.225,-0.235,-0.24,-0.21,-0.22,-0.18,-0.175,-0.16,-0.2,-0.2,-0.19,-0.2,-0.2,-0.22,-0.22,-0.23,-0.26,-0.26,-0.255,-0.29,-0.265,-0.24,-0.235,-0.25,-0.27,-0.275,-0.25,-0.265,-0.25,-0.27,-0.25,-0.23,-0.27,-0.265,-0.26,-0.26,-0.25,-0.27,-0.26,-0.26,-0.27,-0.275,-0.27,-0.255,-0.28,-0.345,-0.475,-0.655,-0.855,-1.07,-1.22,-1.25,-1.15,-1.02,-0.86,-0.68,-0.485,-0.39,-0.295,-0.245,-0.21,-0.175,-0.165,-0.15,-0.16,-0.145,-0.16,-0.145,-0.16,-0.145,-0.155,-0.16,-0.125,-0.13,-0.13,-0.135,-0.145,-0.125,-0.13,-0.135,-0.125,-0.135,-0.105,-0.115,-0.105,-0.115,-0.115,-0.1,-0.11,-0.115,-0.085,-0.1,-0.095,-0.11,-0.08,-0.1,-0.095,-0.085,-0.115,-0.115,-0.13,-0.14,-0.165,-0.16,-0.16,-0.19,-0.195,-0.185,-0.22,-0.21,-0.22,-0.205,-0.23,-0.245,-0.235,-0.24,-0.25,-0.22,-0.245,-0.255,-0.255,-0.24,-0.25,-0.24,-0.23,-0.23,-0.22,-0.18,-0.195,-0.195,-0.19,-0.14,-0.165,-0.175,-0.19,-0.19,-0.21,-0.215,-0.22,-0.22,-0.25,-0.275,-0.27,-0.285,-0.285,-0.29,-0.28,-0.295,-0.275,-0.27,-0.275,-0.27,-0.285,-0.27,-0.28,-0.305,-0.29,-0.285,-0.29,-0.295,-0.28,-0.285,-0.275,-0.275,-0.275,-0.29,-0.285,-0.32,-0.31,-0.315,-0.355,-0.53,-0.815,-1.175,-1.465,-1.68,-1.675,-1.49,-1.24,-1.005,-0.77,-0.57,-0.41,-0.34,-0.27,-0.23,-0.16,-0.16,-0.16,-0.165,-0.175,-0.155,-0.15,-0.16,-0.16,-0.17,-0.15,-0.13,-0.135,-0.15,-0.14,-0.16,-0.155,-0.14,-0.12,-0.145,-0.15,-0.125,-0.12,-0.145,-0.135,-0.13,-0.115,-0.095,-0.115,-0.105,-0.105,-0.1,-0.09,-0.105,-0.105,-0.1,-0.105,-0.1,-0.11,-0.15,-0.145,-0.16,-0.185,-0.195,-0.19,-0.21,-0.235,-0.235,-0.225,-0.255,-0.26,-0.25,-0.24,-0.25,-0.255,-0.265,-0.25,-0.255,-0.26,-0.26,-0.26,-0.255,-0.255,-0.22,-0.21,-0.205,-0.19,-0.175,-0.18,-0.17,-0.15,-0.175,-0.17,-0.185,-0.18,-0.19,-0.2,-0.195,-0.205,-0.24,-0.25,-0.26,-0.275,-0.265,-0.24,-0.27,-0.26,-0.25,-0.23,-0.255,-0.24,-0.26,-0.26,-0.24,-0.25,-0.25,-0.24,-0.245,-0.27,-0.26,-0.26,-0.25,-0.26,-0.255,-0.245,-0.26,-0.26,-0.27,-0.25,-0.36,-0.56,-0.82,-1.12,-1.35,-1.495,-1.46,-1.28,-1.04,-0.815,-0.6,-0.45,-0.345,-0.25,-0.215,-0.185,-0.155,-0.13,-0.155,-0.155,-0.15,-0.13,-0.155,-0.16,-0.12,-0.13,-0.14,-0.13,-0.14,-0.135,-0.145,-0.125,-0.135,-0.145,-0.155,-0.15,-0.14,-0.125,-0.125,-0.14,-0.125,-0.12,-0.1,-0.1,-0.095,-0.095,-0.1,-0.1,-0.095,-0.105,-0.1,-0.115,-0.105,-0.11,-0.135,-0.14,-0.165,-0.19,-0.17,-0.18,-0.195,-0.22,-0.215,-0.24,-0.24,-0.23,-0.235,-0.23,-0.235,-0.26,-0.25,-0.27,-0.25,-0.255,-0.245,-0.26,-0.255,-0.255,-0.245,-0.215,-0.23,-0.23,-0.21,-0.22,-0.195,-0.19,-0.165,-0.165,-0.19,-0.195,-0.21,-0.225,-0.225,-0.205,-0.22,-0.245,-0.255,-0.285,-0.3,-0.305,-0.295,-0.295,-0.275,-0.28,-0.27,-0.245,-0.26,-0.26,-0.255,-0.275,-0.28,-0.27,-0.285,-0.29,-0.285,-0.28,-0.295,-0.29,-0.285,-0.285,-0.3,-0.295,-0.28,-0.28,-0.275,-0.32,-0.51,-0.72,-0.96,-1.2,-1.375,-1.37,-1.255,-1.07,-0.885,-0.69,-0.52,-0.385,-0.295,-0.24,-0.225,-0.18,-0.17,-0.155,-0.155,-0.17,-0.16,-0.18,-0.17,-0.17,-0.165,-0.16,-0.155,-0.16,-0.165,-0.15,-0.15,-0.155,-0.145,-0.14,-0.15,-0.14,-0.16,-0.16,-0.15,-0.125,-0.125,-0.14,-0.125,-0.135,-0.13,-0.12,-0.11,-0.1,-0.105,-0.115,-0.125,-0.11,-0.14,-0.115,-0.155,-0.16,-0.18,-0.17,-0.205,-0.195,-0.22,-0.215,-0.22,-0.22,-0.235,-0.22,-0.23,-0.24,-0.245,-0.235,-0.23,-0.235,-0.23,-0.245,-0.235,-0.23,-0.225,-0.21,-0.22,-0.215,-0.2,-0.215,-0.185,-0.17,-0.16,-0.14,-0.14,-0.17,-0.195,-0.18,-0.155,-0.18,-0.2,-0.205,-0.195,-0.23,-0.275,-0.275,-0.28,-0.275,-0.25,-0.24,-0.265,-0.26,-0.245,-0.26,-0.245,-0.25,-0.26,-0.26,-0.26,-0.255,-0.265,-0.26,-0.26,-0.25,-0.25,-0.275,-0.285,-0.27,-0.275,-0.265,-0.255,-0.255,-0.335,-0.475,-0.68,-0.88,-1.12,-1.245,-1.25,-1.155,-1.0,-0.8,-0.64,-0.48,-0.36,-0.305,-0.22,-0.22,-0.175,-0.205,-0.16,-0.18,-0.15,-0.175,-0.145,-0.16,-0.14,-0.155,-0.16,-0.14,-0.16,-0.15,-0.15,-0.125,-0.14,-0.145,-0.14,-0.14,-0.14,-0.145,-0.135,-0.13,-0.125,-0.135,-0.14,-0.145,-0.155,-0.13,-0.125,-0.125,-0.135,-0.115,-0.115,-0.135,-0.13,-0.14,-0.145,-0.17,-0.165,-0.17,-0.2,-0.185,-0.205,-0.215,-0.21,-0.225,-0.23,-0.21,-0.22,-0.245,-0.245,-0.24,-0.235,-0.26,-0.26,-0.255,-0.235,-0.24,-0.22,-0.23,-0.23,-0.23,-0.215,-0.21,-0.195,-0.19,-0.145,-0.16,-0.17,-0.165,-0.16,-0.185,-0.18,-0.185,-0.205,-0.21,-0.225,-0.265,-0.285,-0.29,-0.265,-0.27,-0.27,-0.275,-0.275,-0.275,-0.285,-0.275,-0.3,-0.27,-0.28,-0.285,-0.285,-0.265,-0.28,-0.275,-0.26,-0.285,-0.275,-0.285,-0.285,-0.28,-0.29,-0.28,-0.28,-0.29,-0.385,-0.54,-0.75,-0.95,-1.125,-1.215,-1.225,-1.085,-0.925,-0.765,-0.595,-0.445,-0.37,-0.315,-0.235,-0.21,-0.195,-0.17,-0.16,-0.17,-0.18,-0.18,-0.15,-0.17,-0.175,-0.155,-0.155,-0.16,-0.145,-0.16,-0.16,-0.14,-0.13,-0.13,-0.16,-0.16,-0.15,-0.13,-0.125,-0.14,-0.12,-0.12,-0.095,-0.095,-0.13,-0.105,-0.095,-0.12,-0.1,-0.085,-0.08,-0.125,-0.125,-0.14,-0.125,-0.14,-0.15,-0.155,-0.16,-0.175,-0.18,-0.2,-0.195,-0.215,-0.21,-0.235,-0.23,-0.21,-0.235,-0.225,-0.235,-0.23,-0.25,-0.255,-0.23,-0.24,-0.215,-0.235,-0.22,-0.225,-0.205,-0.195,-0.17,-0.18,-0.16,-0.155,-0.15,-0.16,-0.18,-0.175,-0.19,-0.18,-0.185,-0.195,-0.235,-0.25,-0.23,-0.25,-0.24,-0.245,-0.24,-0.24,-0.225,-0.225,-0.23,-0.245,-0.245,-0.225,-0.235,-0.22,-0.235,-0.23,-0.215,-0.24,-0.24,-0.235,-0.245,-0.24,-0.265,-0.24,-0.245,-0.225,-0.255,-0.395,-0.585,-0.87,-1.19,-1.465,-1.57,-1.47,-1.285,-1.05,-0.83,-0.595,-0.435,-0.315,-0.245,-0.205,-0.17,-0.14,-0.13,-0.125,-0.125,-0.12,-0.125,-0.135,-0.125,-0.125,-0.135,-0.1,-0.12,-0.125,-0.115,-0.12,-0.11,-0.12,-0.115,-0.125,-0.1,-0.12,-0.11,-0.11,-0.115,-0.085,-0.08,-0.085,-0.075,-0.09,-0.09,-0.09,-0.11,-0.07,-0.075,-0.09,-0.09,-0.1,-0.105,-0.105,-0.13,-0.14,-0.16,-0.17,-0.16,-0.205,-0.21,-0.225,-0.235,-0.22,-0.225,-0.235,-0.235,-0.235,-0.245,-0.26,-0.24,-0.26,-0.25,-0.245,-0.255,-0.23,-0.25,-0.245,-0.22,-0.195,-0.205,-0.21,-0.195,-0.18,-0.17,-0.165,-0.185,-0.185,-0.185,-0.2,-0.2,-0.195,-0.21,-0.22,-0.24,-0.28,-0.285,-0.3,-0.305,-0.28,-0.27,-0.275,-0.3,-0.27,-0.3,-0.275,-0.27,-0.29,-0.29,-0.29,-0.275,-0.29,-0.31,-0.29,-0.29,-0.315,-0.3,-0.295,-0.305,-0.29,-0.29,-0.29,-0.305,-0.32,-0.44,-0.64,-0.895,-1.16,-1.39,-1.44,-1.375,-1.2,-0.99,-0.785,-0.57,-0.46,-0.36,-0.28,-0.225,-0.205,-0.2,-0.19,-0.18,-0.19,-0.17,-0.17,-0.19,-0.175,-0.17,-0.18,-0.175,-0.17,-0.175,-0.19,-0.17,-0.16,-0.185,-0.16,-0.16,-0.155,-0.155,-0.14,-0.19,-0.17,-0.15,-0.14,-0.155,-0.155,-0.15,-0.135,-0.14,-0.13,-0.135,-0.145,-0.14,-0.15,-0.165,-0.16,-0.17,-0.175,-0.185,-0.18,-0.21,-0.22,-0.21,-0.25,-0.245,-0.26,-0.26,-0.24,-0.27,-0.26,-0.26,-0.25,-0.27,-0.27,-0.285,-0.265,-0.27,-0.255,-0.265,-0.245,-0.25,-0.245,-0.22,-0.215,-0.23,-0.22,-0.195,-0.175,-0.18,-0.18,-0.2,-0.2,-0.195,-0.215,-0.235,-0.215,-0.235,-0.27,-0.26,-0.29,-0.295,-0.285,-0.275,-0.28,-0.255,-0.255,-0.27,-0.27,-0.27,-0.28,-0.28,-0.27,-0.27,-0.26,-0.275,-0.265,-0.24,-0.265,-0.275,-0.265,-0.25,-0.275,-0.285,-0.27,-0.26,-0.255,-0.33,-0.485,-0.68,-0.94,-1.185,-1.31,-1.28,-1.165,-0.98,-0.82,-0.645,-0.47,-0.375,-0.295,-0.26,-0.2,-0.18,-0.165,-0.175,-0.175,-0.18,-0.185,-0.185,-0.19,-0.19,-0.185,-0.185,-0.18,-0.17,-0.17,-0.185,-0.16,-0.175,-0.17,-0.155,-0.165,-0.155,-0.195,-0.155,-0.14,-0.14,-0.16,-0.145,-0.155,-0.165,-0.145,-0.16,-0.14,-0.145,-0.16,-0.155,-0.155,-0.16,-0.175,-0.16,-0.185,-0.195,-0.215,-0.22,-0.22,-0.235,-0.255,-0.255,-0.27,-0.275,-0.29,-0.275,-0.29,-0.29,-0.27,-0.265,-0.275,-0.27,-0.285,-0.295,-0.27,-0.265,-0.26,-0.27,-0.275,-0.25,-0.24,-0.24,-0.225,-0.215,-0.225,-0.195,-0.175,-0.205,-0.24,-0.24,-0.225,-0.26,-0.265,-0.29,-0.27,-0.31,-0.34,-0.32,-0.32,-0.32,-0.31,-0.295,-0.305,-0.295,-0.305,-0.325,-0.32,-0.33,-0.325,-0.33,-0.32,-0.305,-0.335,-0.35,-0.32,-0.32,-0.32,-0.355,-0.325,-0.345,-0.345,-0.33,-0.32,-0.34,-0.425,-0.555,-0.785,-1.02,-1.23,-1.36,-1.34,-1.2,-1.03,-0.865,-0.675,-0.515,-0.41,-0.34,-0.295,-0.265,-0.24,-0.24,-0.22,-0.22,-0.23,-0.24,-0.225,-0.22,-0.22,-0.22,-0.21,-0.22,-0.205,-0.22,-0.205,-0.22,-0.195,-0.23,-0.21,-0.215,-0.2,-0.215,-0.225,-0.195,-0.185,-0.2,-0.2,-0.185,-0.17,-0.19,-0.17,-0.19,-0.18,-0.195,-0.175,-0.18,-0.18,-0.19,-0.2,-0.195,-0.24,-0.235,-0.26,-0.26,-0.27,-0.26,-0.275,-0.305,-0.3,-0.295,-0.295,-0.285,-0.285,-0.3,-0.31,-0.32,-0.34,-0.32,-0.285,-0.305,-0.295,-0.285,-0.29,-0.285,-0.285,-0.275,-0.28,-0.26,-0.245,-0.22,-0.205,-0.245,-0.225,-0.265,-0.25,-0.25,-0.255,-0.265,-0.305,-0.31,-0.32,-0.33,-0.305,-0.32,-0.31,-0.31,-0.305,-0.3,-0.32,-0.3,-0.31,-0.305,-0.305,-0.315,-0.32,-0.32,-0.31,-0.31,-0.315,-0.315,-0.3,-0.31,-0.315,-0.305,-0.3,-0.32,-0.32,-0.32,-0.355,-0.46,-0.63,-0.82,-1.02,-1.13,-1.17,-1.105,-0.97,-0.815,-0.66,-0.53,-0.4,-0.345,-0.305,-0.27,-0.235,-0.225,-0.215,-0.22,-0.21,-0.225,-0.23,-0.205,-0.22,-0.22,-0.215,-0.215,-0.2,-0.2,-0.205,-0.215,-0.21,-0.2,-0.225,-0.215,-0.21,-0.205,-0.2,-0.2,-0.195,-0.195,-0.195,-0.2,-0.205,-0.19,-0.19,-0.18,-0.195,-0.21,-0.195,-0.19,-0.195,-0.21,-0.22,-0.225,-0.225,-0.24,-0.235,-0.265,-0.26,-0.27,-0.28,-0.265,-0.285,-0.285,-0.29,-0.31,-0.3,-0.305,-0.305,-0.31,-0.32,-0.335,-0.325,-0.3,-0.31,-0.32,-0.265,-0.285,-0.28,-0.25,-0.255,-0.255,-0.24,-0.22,-0.21,-0.22,-0.235,-0.265,-0.24,-0.26,-0.24,-0.265,-0.295,-0.29,-0.31,-0.32,-0.315,-0.315,-0.31,-0.33,-0.33,-0.32,-0.34,-0.33,-0.335,-0.325,-0.33,-0.33,-0.33,-0.345,-0.34,-0.32,-0.335,-0.35,-0.345,-0.33,-0.33,-0.345,-0.345,-0.33,-0.34,-0.35,-0.37,-0.45,-0.615,-0.825,-1.1,-1.31,-1.41,-1.37,-1.25,-1.05,-0.865,-0.69,-0.55,-0.42,-0.36,-0.32,-0.28,-0.245,-0.24,-0.235,-0.245,-0.25,-0.24,-0.25,-0.225,-0.215,-0.245,-0.225,-0.235,-0.225,-0.22,-0.215,-0.22,-0.21,-0.205,-0.21,-0.24,-0.23,-0.215,-0.205,-0.205,-0.205,-0.19,-0.21,-0.2,-0.195,-0.205,-0.205,-0.195,-0.18,-0.21,-0.18,-0.195,-0.205,-0.2,-0.22,-0.22,-0.245,-0.24,-0.265,-0.255,-0.285,-0.29,-0.29,-0.31,-0.31,-0.32,-0.32,-0.315,-0.34,-0.305,-0.345,-0.31,-0.32,-0.335,-0.3,-0.335,-0.325,-0.3,-0.29,-0.28,-0.28,-0.275,-0.285,-0.255,-0.25,-0.23,-0.235,-0.255,-0.26,-0.26,-0.25,-0.275,-0.28,-0.285,-0.32,-0.325,-0.34,-0.33,-0.34,-0.33,-0.335,-0.325,-0.31,-0.305,-0.31,-0.32,-0.31,-0.31,-0.295,-0.32,-0.325,-0.32,-0.305,-0.32,-0.32,-0.33,-0.315,-0.315,-0.335,-0.32,-0.3,-0.32,-0.28,-0.32,-0.345,-0.525,-0.81,-1.1,-1.375,-1.58,-1.595,-1.44,-1.22,-0.99,-0.74,-0.56,-0.44,-0.36,-0.3,-0.245,-0.215,-0.21,-0.21,-0.19,-0.22,-0.19,-0.205,-0.195,-0.21,-0.21,-0.2,-0.185,-0.195,-0.205,-0.185,-0.195,-0.19,-0.195,-0.18,-0.195,-0.21,-0.215,-0.18,-0.165,-0.175,-0.165,-0.16,-0.16,-0.18,-0.165,-0.16,-0.155,-0.135,-0.145,-0.16,-0.135,-0.18,-0.18,-0.195,-0.185,-0.205,-0.23,-0.225,-0.24,-0.26,-0.26,-0.265,-0.275,-0.29,-0.285,-0.305,-0.3,-0.315,-0.31,-0.3,-0.32,-0.3,-0.3,-0.31,-0.32,-0.305,-0.32,-0.32,-0.275,-0.29,-0.3,-0.28,-0.26,-0.25,-0.275,-0.22,-0.22,-0.25,-0.245,-0.275,-0.25,-0.26,-0.275,-0.3,-0.3,-0.33,-0.34,-0.35,-0.325,-0.325,-0.34,-0.315,-0.32,-0.335,-0.325,-0.34,-0.35,-0.345,-0.35,-0.35,-0.36,-0.34,-0.355,-0.345,-0.36,-0.35,-0.36,-0.355,-0.37,-0.34,-0.375,-0.365,-0.35,-0.36,-0.405,-0.56,-0.785,-1.07,-1.315,-1.52,-1.535,-1.415,-1.225,-1.015,-0.81,-0.635,-0.505,-0.405,-0.36,-0.315,-0.27,-0.265,-0.26,-0.26,-0.23,-0.245,-0.245,-0.24,-0.25,-0.255,-0.25,-0.22,-0.255,-0.24,-0.25,-0.245,-0.245,-0.24,-0.23,-0.215,-0.23,-0.225,-0.21,-0.235,-0.22,-0.22,-0.21,-0.215,-0.21,-0.205,-0.215,-0.21,-0.2,-0.21,-0.185,-0.185,-0.2,-0.225,-0.215,-0.235,-0.23,-0.26,-0.255,-0.27,-0.29,-0.29,-0.3,-0.3,-0.32,-0.32,-0.315,-0.33,-0.32,-0.3,-0.31,-0.335,-0.31,-0.335,-0.34,-0.325,-0.32,-0.31,-0.315,-0.28,-0.3,-0.265,-0.275,-0.255,-0.255,-0.25,-0.22,-0.225,-0.245,-0.235,-0.27,-0.26,-0.25,-0.265,-0.29,-0.33,-0.32,-0.35,-0.33,-0.34,-0.335,-0.33,-0.35,-0.33,-0.31,-0.315,-0.32,-0.3,-0.32,-0.325,-0.34,-0.345,-0.335,-0.32,-0.33,-0.345,-0.345,-0.315,-0.33,-0.33,-0.33,-0.34,-0.33,-0.325,-0.305,-0.36,-0.525,-0.72,-0.95,-1.205,-1.375,-1.395,-1.305,-1.13,-0.935,-0.75,-0.57,-0.445,-0.345,-0.29,-0.26,-0.235,-0.22,-0.22,-0.22,-0.225,-0.22,-0.225,-0.22,-0.205,-0.21,-0.22,-0.21,-0.22,-0.22,-0.205,-0.195,-0.2,-0.19,-0.195,-0.19,-0.2,-0.18,-0.2,-0.215,-0.19,-0.16,-0.185,-0.185,-0.185,-0.19,-0.18,-0.18,-0.155,-0.195,-0.18,-0.175,-0.165,-0.205,-0.19,-0.215,-0.22,-0.23,-0.26,-0.255,-0.255,-0.26,-0.28,-0.285,-0.295,-0.29,-0.28,-0.3,-0.31,-0.285,-0.315,-0.31,-0.32,-0.315,-0.325,-0.29,-0.315,-0.305,-0.3,-0.285,-0.28,-0.275,-0.27,-0.255,-0.255,-0.22,-0.235,-0.235,-0.25,-0.25,-0.25,-0.235,-0.29,-0.285,-0.285,-0.33,-0.34,-0.325,-0.345,-0.33,-0.32,-0.335,-0.34,-0.31,-0.33,-0.315,-0.32,-0.34,-0.34,-0.335,-0.33,-0.32,-0.335,-0.335,-0.34,-0.335,-0.33,-0.34,-0.35,-0.36,-0.34,-0.335,-0.34,-0.36,-0.33,-0.375,-0.53,-0.705,-0.95,-1.165,-1.33,-1.365,-1.26,-1.09,-0.93,-0.73,-0.585,-0.45,-0.395,-0.335,-0.305,-0.265,-0.255,-0.255,-0.24,-0.255,-0.255,-0.255,-0.255,-0.25,-0.25,-0.25,-0.245,-0.235,-0.24,-0.25,-0.245,-0.24,-0.245,-0.22,-0.23,-0.24,-0.245,-0.235,-0.22,-0.25,-0.215,-0.23,-0.23,-0.23,-0.215,-0.2,-0.205,-0.195,-0.23,-0.215,-0.22,-0.215,-0.23,-0.24,-0.25,-0.245,-0.275,-0.255,-0.285,-0.3,-0.295,-0.29,-0.295,-0.305,-0.285,-0.285,-0.31,-0.295,-0.29,-0.305,-0.3,-0.285,-0.31,-0.315,-0.3,-0.3,-0.305,-0.3,-0.29,-0.26,-0.275,-0.28,-0.235,-0.23,-0.22,-0.23,-0.235,-0.25,-0.245,-0.26,-0.26,-0.27,-0.285,-0.3,-0.295,-0.325,-0.31,-0.355,-0.35,-0.31,-0.305,-0.335,-0.33,-0.32,-0.33,-0.305,-0.315,-0.32,-0.31,-0.31,-0.31,-0.3,-0.3,-0.315,-0.31,-0.305,-0.31,-0.305,-0.33,-0.32,-0.3,-0.28,-0.3,-0.325,-0.43,-0.6,-0.815,-0.985,-1.135,-1.22,-1.205,-1.065,-0.915,-0.76,-0.575,-0.455,-0.375,-0.285,-0.26,-0.22,-0.23,-0.21,-0.22,-0.205,-0.205,-0.21,-0.205,-0.175,-0.175,-0.18,-0.19,-0.18,-0.165,-0.195,-0.175,-0.18,-0.17,-0.185,-0.17,-0.175,-0.18,-0.175,-0.17,-0.16,-0.16,-0.16,-0.145,-0.145,-0.16,-0.155,-0.155,-0.14,-0.15,-0.14,-0.15,-0.135,-0.155,-0.17,-0.18,-0.185,-0.18,-0.215,-0.225,-0.22,-0.24,-0.255,-0.28,-0.265,-0.27,-0.285,-0.295,-0.275,-0.295,-0.285,-0.29,-0.3,-0.295,-0.31,-0.32,-0.315,-0.28,-0.28,-0.27,-0.255,-0.245,-0.25,-0.255,-0.235,-0.225,-0.21,-0.21,-0.215,-0.23,-0.235,-0.235,-0.225,-0.27,-0.285,-0.285,-0.33,-0.32,-0.31,-0.335,-0.335,-0.335,-0.31,-0.31,-0.315,-0.295,-0.32,-0.33,-0.32,-0.345,-0.33,-0.345,-0.34,-0.335,-0.33,-0.33,-0.34,-0.34,-0.325,-0.355,-0.335,-0.365,-0.355,-0.36,-0.33,-0.355,-0.48,-0.685,-0.97,-1.285,-1.55,-1.685,-1.6,-1.395,-1.15,-0.94,-0.715,-0.535,-0.43,-0.35,-0.305,-0.29,-0.25,-0.25,-0.24,-0.23,-0.23,-0.225,-0.225,-0.225,-0.23,-0.24,-0.22,-0.23,-0.22,-0.235,-0.205,-0.215,-0.2,-0.21,-0.21,-0.22,-0.23,-0.215,-0.205,-0.18,-0.2,-0.175,-0.16,-0.2,-0.18,-0.17,-0.18,-0.155,-0.17,-0.175,-0.16,-0.16,-0.175,-0.19,-0.175,-0.19,-0.205,-0.24,-0.25,-0.245,-0.275,-0.285,-0.285,-0.305,-0.3,-0.325,-0.305,-0.295,-0.32,-0.31,-0.33,-0.34,-0.335,-0.325,-0.315,-0.31,-0.295,-0.29,-0.26,-0.28,-0.255,-0.265,-0.29,-0.26,-0.225,-0.2,-0.215,-0.23,-0.23,-0.24,-0.26,-0.26,-0.27,-0.275,-0.285,-0.305,-0.335,-0.345,-0.345,-0.345,-0.32,-0.305,-0.3,-0.325,-0.31,-0.3,-0.32,-0.32,-0.315,-0.315,-0.32,-0.32,-0.315,-0.315,-0.31,-0.3,-0.305,-0.325,-0.325,-0.33,-0.325,-0.315,-0.3,-0.31,-0.335,-0.44,-0.635,-0.925,-1.2,-1.47,-1.57,-1.515,-1.335,-1.1,-0.895,-0.685,-0.5,-0.39,-0.315,-0.255,-0.22,-0.185,-0.175,-0.2,-0.2,-0.215,-0.17,-0.18,-0.18,-0.19,-0.19,-0.18,-0.18,-0.185,-0.18,-0.19,-0.175,-0.175,-0.19,-0.18,-0.17,-0.16,-0.19,-0.155,-0.16,-0.17,-0.16,-0.145,-0.15,-0.16,-0.135,-0.155,-0.17,-0.16,-0.16,-0.185,-0.15,-0.155,-0.16,-0.175,-0.18,-0.175,-0.22,-0.22,-0.215,-0.23,-0.26,-0.26,-0.27,-0.28,-0.285,-0.285,-0.285,-0.29,-0.305,-0.305,-0.305,-0.3,-0.315,-0.3,-0.305,-0.3,-0.28,-0.305,-0.285,-0.265,-0.26,-0.25,-0.26,-0.225,-0.225,-0.225,-0.235,-0.235,-0.23,-0.25,-0.24,-0.25,-0.275,-0.285,-0.295,-0.33,-0.31,-0.32,-0.325,-0.305,-0.32,-0.315,-0.32,-0.3,-0.335,-0.32,-0.315,-0.305,-0.32,-0.34,-0.32,-0.32,-0.325,-0.325,-0.325,-0.32,-0.34,-0.335,-0.355,-0.35,-0.34,-0.345,-0.325,-0.325,-0.41,-0.565,-0.795,-1.05,-1.275,-1.415,-1.415,-1.26,-1.08,-0.9,-0.72,-0.555,-0.455,-0.375,-0.325,-0.28,-0.265,-0.255,-0.235,-0.245,-0.235,-0.23,-0.235,-0.23,-0.21,-0.23,-0.22,-0.21,-0.23,-0.235,-0.25,-0.21,-0.23,-0.23,-0.215,-0.21,-0.205,-0.215,-0.21,-0.2,-0.22,-0.195,-0.205,-0.205,-0.19,-0.18,-0.19,-0.215,-0.19,-0.18,-0.18,-0.18,-0.19,-0.195,-0.205,-0.225,-0.225,-0.22,-0.245,-0.245,-0.26,-0.265,-0.265,-0.285,-0.275,-0.29,-0.295,-0.3,-0.315,-0.295,-0.3,-0.31,-0.31,-0.29,-0.29,-0.305,-0.29,-0.28,-0.285,-0.27,-0.25,-0.27,-0.255,-0.225,-0.205,-0.205,-0.2,-0.2,-0.23,-0.24,-0.235,-0.245,-0.26,-0.26,-0.275,-0.32,-0.335,-0.32,-0.315,-0.33,-0.3,-0.31,-0.3,-0.32,-0.31,-0.3,-0.295,-0.29,-0.315,-0.3,-0.315,-0.305,-0.315,-0.34,-0.295,-0.31,-0.32,-0.3,-0.3,-0.325,-0.335,-0.31,-0.31,-0.31,-0.33,-0.415,-0.595,-0.83,-1.075,-1.22,-1.3,-1.225,-1.07,-0.91,-0.735,-0.55,-0.41,-0.37,-0.305,-0.25,-0.21,-0.2,-0.195,-0.19,-0.2,-0.21,-0.175,-0.21,-0.19,-0.19,-0.2,-0.19,-0.195,-0.185,-0.18,-0.18,-0.18,-0.18,-0.175,-0.185,-0.185,-0.16,-0.18,-0.18,-0.17,-0.18,-0.18,-0.165,-0.16,-0.155,-0.17,-0.15,-0.155,-0.165,-0.155,-0.175,-0.18,-0.155,-0.175,-0.19,-0.185,-0.185,-0.21,-0.22,-0.215,-0.23,-0.255,-0.255,-0.265,-0.27,-0.26,-0.26,-0.28,-0.3,-0.285,-0.295,-0.275,-0.28,-0.27,-0.26,-0.28,-0.275,-0.25,-0.27,-0.26,-0.245,-0.24,-0.24,-0.215,-0.175,-0.18,-0.175,-0.19,-0.21,-0.215,-0.225,-0.235,-0.24,-0.25,-0.275,-0.275,-0.3,-0.28,-0.315,-0.305,-0.31,-0.29,-0.26,-0.305,-0.28,-0.29,-0.27,-0.295,-0.285,-0.29,-0.3,-0.285,-0.265,-0.29,-0.295,-0.3,-0.32,-0.3,-0.31,-0.305,-0.315,-0.31,-0.295,-0.35,-0.45,-0.585,-0.785,-0.96,-1.09,-1.16,-1.165,-1.045,-0.895,-0.745,-0.595,-0.465,-0.39,-0.335,-0.31,-0.25,-0.225,-0.215,-0.225,-0.2,-0.24,-0.215,-0.215,-0.21,-0.205,-0.21,-0.19,-0.21,-0.195,-0.2,-0.205,-0.21,-0.185,-0.205,-0.23,-0.205,-0.18,-0.18,-0.185,-0.19,-0.17,-0.18,-0.175,-0.17,-0.18,-0.175,-0.19,-0.16,-0.175,-0.175,-0.155,-0.165,-0.185,-0.19,-0.195,-0.185,-0.195,-0.215,-0.24,-0.25,-0.23,-0.265,-0.265,-0.275,-0.255,-0.27,-0.28,-0.29,-0.275,-0.26,-0.245,-0.275,-0.27,-0.29,-0.26,-0.295,-0.265,-0.245,-0.27,-0.24,-0.235,-0.24,-0.24,-0.205,-0.18,-0.16,-0.185,-0.21,-0.2,-0.2,-0.215,-0.205,-0.22,-0.24,-0.235,-0.26,-0.28,-0.3,-0.28,-0.265,-0.26,-0.26,-0.25,-0.26,-0.27,-0.275,-0.285,-0.285,-0.29,-0.285,-0.27,-0.28,-0.245,-0.285,-0.27,-0.255,-0.26,-0.27,-0.27,-0.265,-0.24,-0.285,-0.245,-0.29,-0.445,-0.67,-0.975,-1.245,-1.44,-1.495,-1.35,-1.165,-0.935,-0.74,-0.545,-0.395,-0.31,-0.24,-0.2,-0.17,-0.155,-0.125,-0.15,-0.125,-0.125,-0.115,-0.12,-0.11,-0.105,-0.12,-0.13,-0.1,-0.135,-0.11,-0.095,-0.095,-0.095,-0.115,-0.115,-0.1,-0.11,-0.115,-0.09,-0.09,-0.09,-0.08,-0.09,-0.08,-0.075,-0.09,-0.07,-0.09,-0.075,-0.065,-0.07,-0.08,-0.095,-0.09,-0.125,-0.135,-0.14,-0.145,-0.165,-0.2,-0.18,-0.2,-0.205,-0.225,-0.215,-0.23,-0.22,-0.22,-0.25,-0.245,-0.24,-0.24,-0.255,-0.245,-0.245,-0.24,-0.215,-0.21,-0.21,-0.2,-0.195,-0.18,-0.18,-0.165,-0.155,-0.15,-0.175,-0.175,-0.19,-0.205,-0.205,-0.205,-0.23,-0.255,-0.26,-0.27,-0.285,-0.285,-0.27,-0.24,-0.24,-0.245,-0.245,-0.26,-0.265,-0.265,-0.27,-0.255,-0.26,-0.265,-0.265,-0.27,-0.28,-0.27,-0.265,-0.26,-0.255,-0.275,-0.285,-0.285,-0.29,-0.25,-0.31,-0.44,-0.675,-0.975,-1.255,-1.52,-1.605,-1.525,-1.285,-1.055,-0.86,-0.615,-0.45,-0.375,-0.275,-0.225,-0.19,-0.175,-0.19,-0.17,-0.17,-0.19,-0.16,-0.16,-0.18,-0.16,-0.17,-0.16,-0.165,-0.14,-0.155,-0.15,-0.14,-0.15,-0.13,-0.155,-0.16,-0.125,-0.135,-0.12,-0.13,-0.13,-0.12,-0.125,-0.095,-0.125,-0.085,-0.1,-0.12,-0.11,-0.125,-0.105,-0.125,-0.1,-0.12,-0.14,-0.175],\"type\":\"scatter\"},{\"line\":{\"width\":3},\"name\":\"Time series 1\",\"x\":[0,1,2,3,4,5,6,7,8,9,10,11,12,13,14,15,16,17,18,19,20,21,22,23,24,25,26,27,28,29,30,31,32,33,34,35,36,37,38,39,40,41,42,43,44,45,46,47,48,49,50,51,52,53,54,55,56,57,58,59,60,61,62,63,64,65,66,67,68,69,70,71,72,73,74,75,76,77,78,79,80,81,82,83,84,85,86,87,88,89,90,91,92,93,94,95,96,97,98,99,100,101,102,103,104,105,106,107,108,109,110,111,112,113,114,115,116,117,118,119,120,121,122,123,124,125,126,127,128,129,130,131,132,133,134,135,136,137,138,139,140,141,142,143,144,145,146,147,148,149,150,151,152,153,154,155,156,157,158,159,160,161,162,163,164,165,166,167,168,169,170,171,172,173,174,175,176,177,178,179,180,181,182,183,184,185,186,187,188,189,190,191,192,193,194,195,196,197,198,199,200,201,202,203,204,205,206,207,208,209,210,211,212,213,214,215,216,217,218,219,220,221,222,223,224,225,226,227,228,229,230,231,232,233,234,235,236,237,238,239,240,241,242,243,244,245,246,247,248,249,250,251,252,253,254,255,256,257,258,259,260,261,262,263,264,265,266,267,268,269,270,271,272,273,274,275,276,277,278,279,280,281,282,283,284,285,286,287,288,289,290,291,292,293,294,295,296,297,298,299,300,301,302,303,304,305,306,307,308,309,310,311,312,313,314,315,316,317,318,319,320,321,322,323,324,325,326,327,328,329,330,331,332,333,334,335,336,337,338,339,340,341,342,343,344,345,346,347,348,349,350,351,352,353,354,355,356,357,358,359,360,361,362,363,364,365,366,367,368,369,370,371,372,373,374,375,376,377,378,379,380,381,382,383,384,385,386,387,388,389,390,391,392,393,394,395,396,397,398,399,400,401,402,403,404,405,406,407,408,409,410,411,412,413,414,415,416,417,418,419,420,421,422,423,424,425,426,427,428,429,430,431,432,433,434,435,436,437,438,439,440,441,442,443,444,445,446,447,448,449,450,451,452,453,454,455,456,457,458,459,460,461,462,463,464,465,466,467,468,469,470,471,472,473,474,475,476,477,478,479,480,481,482,483,484,485,486,487,488,489,490,491,492,493,494,495,496,497,498,499,500,501,502,503,504,505,506,507,508,509,510,511,512,513,514,515,516,517,518,519,520,521,522,523,524,525,526,527,528,529,530,531,532,533,534,535,536,537,538,539,540,541,542,543,544,545,546,547,548,549,550,551,552,553,554,555,556,557,558,559,560,561,562,563,564,565,566,567,568,569,570,571,572,573,574,575,576,577,578,579,580,581,582,583,584,585,586,587,588,589,590,591,592,593,594,595,596,597,598,599,600,601,602,603,604,605,606,607,608,609,610,611,612,613,614,615,616,617,618,619,620,621,622,623,624,625,626,627,628,629,630,631,632,633,634,635,636,637,638,639,640,641,642,643,644,645,646,647,648,649,650,651,652,653,654,655,656,657,658,659,660,661,662,663,664,665,666,667,668,669,670,671,672,673,674,675,676,677,678,679,680,681,682,683,684,685,686,687,688,689,690,691,692,693,694,695,696,697,698,699,700,701,702,703,704,705,706,707,708,709,710,711,712,713,714,715,716,717,718,719,720,721,722,723,724,725,726,727,728,729,730,731,732,733,734,735,736,737,738,739,740,741,742,743,744,745,746,747,748,749,750,751,752,753,754,755,756,757,758,759,760,761,762,763,764,765,766,767,768,769,770,771,772,773,774,775,776,777,778,779,780,781,782,783,784,785,786,787,788,789,790,791,792,793,794,795,796,797,798,799,800,801,802,803,804,805,806,807,808,809,810,811,812,813,814,815,816,817,818,819,820,821,822,823,824,825,826,827,828,829,830,831,832,833,834,835,836,837,838,839,840,841,842,843,844,845,846,847,848,849,850,851,852,853,854,855,856,857,858,859,860,861,862,863,864,865,866,867,868,869,870,871,872,873,874,875,876,877,878,879,880,881,882,883,884,885,886,887,888,889,890,891,892,893,894,895,896,897,898,899,900,901,902,903,904,905,906,907,908,909,910,911,912,913,914,915,916,917,918,919,920,921,922,923,924,925,926,927,928,929,930,931,932,933,934,935,936,937,938,939,940,941,942,943,944,945,946,947,948,949,950,951,952,953,954,955,956,957,958,959,960,961,962,963,964,965,966,967,968,969,970,971,972,973,974,975,976,977,978,979,980,981,982,983,984,985,986,987,988,989,990,991,992,993,994,995,996,997,998,999,1000,1001,1002,1003,1004,1005,1006,1007,1008,1009,1010,1011,1012,1013,1014,1015,1016,1017,1018,1019,1020,1021,1022,1023,1024,1025,1026,1027,1028,1029,1030,1031,1032,1033,1034,1035,1036,1037,1038,1039,1040,1041,1042,1043,1044,1045,1046,1047,1048,1049,1050,1051,1052,1053,1054,1055,1056,1057,1058,1059,1060,1061,1062,1063,1064,1065,1066,1067,1068,1069,1070,1071,1072,1073,1074,1075,1076,1077,1078,1079,1080,1081,1082,1083,1084,1085,1086,1087,1088,1089,1090,1091,1092,1093,1094,1095,1096,1097,1098,1099,1100,1101,1102,1103,1104,1105,1106,1107,1108,1109,1110,1111,1112,1113,1114,1115,1116,1117,1118,1119,1120,1121,1122,1123,1124,1125,1126,1127,1128,1129,1130,1131,1132,1133,1134,1135,1136,1137,1138,1139,1140,1141,1142,1143,1144,1145,1146,1147,1148,1149,1150,1151,1152,1153,1154,1155,1156,1157,1158,1159,1160,1161,1162,1163,1164,1165,1166,1167,1168,1169,1170,1171,1172,1173,1174,1175,1176,1177,1178,1179,1180,1181,1182,1183,1184,1185,1186,1187,1188,1189,1190,1191,1192,1193,1194,1195,1196,1197,1198,1199,1200,1201,1202,1203,1204,1205,1206,1207,1208,1209,1210,1211,1212,1213,1214,1215,1216,1217,1218,1219,1220,1221,1222,1223,1224,1225,1226,1227,1228,1229,1230,1231,1232,1233,1234,1235,1236,1237,1238,1239,1240,1241,1242,1243,1244,1245,1246,1247,1248,1249,1250,1251,1252,1253,1254,1255,1256,1257,1258,1259,1260,1261,1262,1263,1264,1265,1266,1267,1268,1269,1270,1271,1272,1273,1274,1275,1276,1277,1278,1279,1280,1281,1282,1283,1284,1285,1286,1287,1288,1289,1290,1291,1292,1293,1294,1295,1296,1297,1298,1299,1300,1301,1302,1303,1304,1305,1306,1307,1308,1309,1310,1311,1312,1313,1314,1315,1316,1317,1318,1319,1320,1321,1322,1323,1324,1325,1326,1327,1328,1329,1330,1331,1332,1333,1334,1335,1336,1337,1338,1339,1340,1341,1342,1343,1344,1345,1346,1347,1348,1349,1350,1351,1352,1353,1354,1355,1356,1357,1358,1359,1360,1361,1362,1363,1364,1365,1366,1367,1368,1369,1370,1371,1372,1373,1374,1375,1376,1377,1378,1379,1380,1381,1382,1383,1384,1385,1386,1387,1388,1389,1390,1391,1392,1393,1394,1395,1396,1397,1398,1399,1400,1401,1402,1403,1404,1405,1406,1407,1408,1409,1410,1411,1412,1413,1414,1415,1416,1417,1418,1419,1420,1421,1422,1423,1424,1425,1426,1427,1428,1429,1430,1431,1432,1433,1434,1435,1436,1437,1438,1439,1440,1441,1442,1443,1444,1445,1446,1447,1448,1449,1450,1451,1452,1453,1454,1455,1456,1457,1458,1459,1460,1461,1462,1463,1464,1465,1466,1467,1468,1469,1470,1471,1472,1473,1474,1475,1476,1477,1478,1479,1480,1481,1482,1483,1484,1485,1486,1487,1488,1489,1490,1491,1492,1493,1494,1495,1496,1497,1498,1499,1500,1501,1502,1503,1504,1505,1506,1507,1508,1509,1510,1511,1512,1513,1514,1515,1516,1517,1518,1519,1520,1521,1522,1523,1524,1525,1526,1527,1528,1529,1530,1531,1532,1533,1534,1535,1536,1537,1538,1539,1540,1541,1542,1543,1544,1545,1546,1547,1548,1549,1550,1551,1552,1553,1554,1555,1556,1557,1558,1559,1560,1561,1562,1563,1564,1565,1566,1567,1568,1569,1570,1571,1572,1573,1574,1575,1576,1577,1578,1579,1580,1581,1582,1583,1584,1585,1586,1587,1588,1589,1590,1591,1592,1593,1594,1595,1596,1597,1598,1599,1600,1601,1602,1603,1604,1605,1606,1607,1608,1609,1610,1611,1612,1613,1614,1615,1616,1617,1618,1619,1620,1621,1622,1623,1624,1625,1626,1627,1628,1629,1630,1631,1632,1633,1634,1635,1636,1637,1638,1639,1640,1641,1642,1643,1644,1645,1646,1647,1648,1649,1650,1651,1652,1653,1654,1655,1656,1657,1658,1659,1660,1661,1662,1663,1664,1665,1666,1667,1668,1669,1670,1671,1672,1673,1674,1675,1676,1677,1678,1679,1680,1681,1682,1683,1684,1685,1686,1687,1688,1689,1690,1691,1692,1693,1694,1695,1696,1697,1698,1699,1700,1701,1702,1703,1704,1705,1706,1707,1708,1709,1710,1711,1712,1713,1714,1715,1716,1717,1718,1719,1720,1721,1722,1723,1724,1725,1726,1727,1728,1729,1730,1731,1732,1733,1734,1735,1736,1737,1738,1739,1740,1741,1742,1743,1744,1745,1746,1747,1748,1749,1750,1751,1752,1753,1754,1755,1756,1757,1758,1759,1760,1761,1762,1763,1764,1765,1766,1767,1768,1769,1770,1771,1772,1773,1774,1775,1776,1777,1778,1779,1780,1781,1782,1783,1784,1785,1786,1787,1788,1789,1790,1791,1792,1793,1794,1795,1796,1797,1798,1799,1800,1801,1802,1803,1804,1805,1806,1807,1808,1809,1810,1811,1812,1813,1814,1815,1816,1817,1818,1819,1820,1821,1822,1823,1824,1825,1826,1827,1828,1829,1830,1831,1832,1833,1834,1835,1836,1837,1838,1839,1840,1841,1842,1843,1844,1845,1846,1847,1848,1849,1850,1851,1852,1853,1854,1855,1856,1857,1858,1859,1860,1861,1862,1863,1864,1865,1866,1867,1868,1869,1870,1871,1872,1873,1874,1875,1876,1877,1878,1879,1880,1881,1882,1883,1884,1885,1886,1887,1888,1889,1890,1891,1892,1893,1894,1895,1896,1897,1898,1899,1900,1901,1902,1903,1904,1905,1906,1907,1908,1909,1910,1911,1912,1913,1914,1915,1916,1917,1918,1919,1920,1921,1922,1923,1924,1925,1926,1927,1928,1929,1930,1931,1932,1933,1934,1935,1936,1937,1938,1939,1940,1941,1942,1943,1944,1945,1946,1947,1948,1949,1950,1951,1952,1953,1954,1955,1956,1957,1958,1959,1960,1961,1962,1963,1964,1965,1966,1967,1968,1969,1970,1971,1972,1973,1974,1975,1976,1977,1978,1979,1980,1981,1982,1983,1984,1985,1986,1987,1988,1989,1990,1991,1992,1993,1994,1995,1996,1997,1998,1999,2000,2001,2002,2003,2004,2005,2006,2007,2008,2009,2010,2011,2012,2013,2014,2015,2016,2017,2018,2019,2020,2021,2022,2023,2024,2025,2026,2027,2028,2029,2030,2031,2032,2033,2034,2035,2036,2037,2038,2039,2040,2041,2042,2043,2044,2045,2046,2047,2048,2049,2050,2051,2052,2053,2054,2055,2056,2057,2058,2059,2060,2061,2062,2063,2064,2065,2066,2067,2068,2069,2070,2071,2072,2073,2074,2075,2076,2077,2078,2079,2080,2081,2082,2083,2084,2085,2086,2087,2088,2089,2090,2091,2092,2093,2094,2095,2096,2097,2098,2099,2100,2101,2102,2103,2104,2105,2106,2107,2108,2109,2110,2111,2112,2113,2114,2115,2116,2117,2118,2119,2120,2121,2122,2123,2124,2125,2126,2127,2128,2129,2130,2131,2132,2133,2134,2135,2136,2137,2138,2139,2140,2141,2142,2143,2144,2145,2146,2147,2148,2149,2150,2151,2152,2153,2154,2155,2156,2157,2158,2159,2160,2161,2162,2163,2164,2165,2166,2167,2168,2169,2170,2171,2172,2173,2174,2175,2176,2177,2178,2179,2180,2181,2182,2183,2184,2185,2186,2187,2188,2189,2190,2191,2192,2193,2194,2195,2196,2197,2198,2199,2200,2201,2202,2203,2204,2205,2206,2207,2208,2209,2210,2211,2212,2213,2214,2215,2216,2217,2218,2219,2220,2221,2222,2223,2224,2225,2226,2227,2228,2229,2230,2231,2232,2233,2234,2235,2236,2237,2238,2239,2240,2241,2242,2243,2244,2245,2246,2247,2248,2249,2250,2251,2252,2253,2254,2255,2256,2257,2258,2259,2260,2261,2262,2263,2264,2265,2266,2267,2268,2269,2270,2271,2272,2273,2274,2275,2276,2277,2278,2279,2280,2281,2282,2283,2284,2285,2286,2287,2288,2289,2290,2291,2292,2293,2294,2295,2296,2297,2298,2299,2300,2301,2302,2303,2304,2305,2306,2307,2308,2309,2310,2311,2312,2313,2314,2315,2316,2317,2318,2319,2320,2321,2322,2323,2324,2325,2326,2327,2328,2329,2330,2331,2332,2333,2334,2335,2336,2337,2338,2339,2340,2341,2342,2343,2344,2345,2346,2347,2348,2349,2350,2351,2352,2353,2354,2355,2356,2357,2358,2359,2360,2361,2362,2363,2364,2365,2366,2367,2368,2369,2370,2371,2372,2373,2374,2375,2376,2377,2378,2379,2380,2381,2382,2383,2384,2385,2386,2387,2388,2389,2390,2391,2392,2393,2394,2395,2396,2397,2398,2399,2400,2401,2402,2403,2404,2405,2406,2407,2408,2409,2410,2411,2412,2413,2414,2415,2416,2417,2418,2419,2420,2421,2422,2423,2424,2425,2426,2427,2428,2429,2430,2431,2432,2433,2434,2435,2436,2437,2438,2439,2440,2441,2442,2443,2444,2445,2446,2447,2448,2449,2450,2451,2452,2453,2454,2455,2456,2457,2458,2459,2460,2461,2462,2463,2464,2465,2466,2467,2468,2469,2470,2471,2472,2473,2474,2475,2476,2477,2478,2479,2480,2481,2482,2483,2484,2485,2486,2487,2488,2489,2490,2491,2492,2493,2494,2495,2496,2497,2498,2499,2500,2501,2502,2503,2504,2505,2506,2507,2508,2509,2510,2511,2512,2513,2514,2515,2516,2517,2518,2519,2520,2521,2522,2523,2524,2525,2526,2527,2528,2529,2530,2531,2532,2533,2534,2535,2536,2537,2538,2539,2540,2541,2542,2543,2544,2545,2546,2547,2548,2549,2550,2551,2552,2553,2554,2555,2556,2557,2558,2559,2560,2561,2562,2563,2564,2565,2566,2567,2568,2569,2570,2571,2572,2573,2574,2575,2576,2577,2578,2579,2580,2581,2582,2583,2584,2585,2586,2587,2588,2589,2590,2591,2592,2593,2594,2595,2596,2597,2598,2599,2600,2601,2602,2603,2604,2605,2606,2607,2608,2609,2610,2611,2612,2613,2614,2615,2616,2617,2618,2619,2620,2621,2622,2623,2624,2625,2626,2627,2628,2629,2630,2631,2632,2633,2634,2635,2636,2637,2638,2639,2640,2641,2642,2643,2644,2645,2646,2647,2648,2649,2650,2651,2652,2653,2654,2655,2656,2657,2658,2659,2660,2661,2662,2663,2664,2665,2666,2667,2668,2669,2670,2671,2672,2673,2674,2675,2676,2677,2678,2679,2680,2681,2682,2683,2684,2685,2686,2687,2688,2689,2690,2691,2692,2693,2694,2695,2696,2697,2698,2699,2700,2701,2702,2703,2704,2705,2706,2707,2708,2709,2710,2711,2712,2713,2714,2715,2716,2717,2718,2719,2720,2721,2722,2723,2724,2725,2726,2727,2728,2729,2730,2731,2732,2733,2734,2735,2736,2737,2738,2739,2740,2741,2742,2743,2744,2745,2746,2747,2748,2749,2750,2751,2752,2753,2754,2755,2756,2757,2758,2759,2760,2761,2762,2763,2764,2765,2766,2767,2768,2769,2770,2771,2772,2773,2774,2775,2776,2777,2778,2779,2780,2781,2782,2783,2784,2785,2786,2787,2788,2789,2790,2791,2792,2793,2794,2795,2796,2797,2798,2799,2800,2801,2802,2803,2804,2805,2806,2807,2808,2809,2810,2811,2812,2813,2814,2815,2816,2817,2818,2819,2820,2821,2822,2823,2824,2825,2826,2827,2828,2829,2830,2831,2832,2833,2834,2835,2836,2837,2838,2839,2840,2841,2842,2843,2844,2845,2846,2847,2848,2849,2850,2851,2852,2853,2854,2855,2856,2857,2858,2859,2860,2861,2862,2863,2864,2865,2866,2867,2868,2869,2870,2871,2872,2873,2874,2875,2876,2877,2878,2879,2880,2881,2882,2883,2884,2885,2886,2887,2888,2889,2890,2891,2892,2893,2894,2895,2896,2897,2898,2899,2900,2901,2902,2903,2904,2905,2906,2907,2908,2909,2910,2911,2912,2913,2914,2915,2916,2917,2918,2919,2920,2921,2922,2923,2924,2925,2926,2927,2928,2929,2930,2931,2932,2933,2934,2935,2936,2937,2938,2939,2940,2941,2942,2943,2944,2945,2946,2947,2948,2949,2950,2951,2952,2953,2954,2955,2956,2957,2958,2959,2960,2961,2962,2963,2964,2965,2966,2967,2968,2969,2970,2971,2972,2973,2974,2975,2976,2977,2978,2979,2980,2981,2982,2983,2984,2985,2986,2987,2988,2989,2990,2991,2992,2993,2994,2995,2996,2997,2998,2999],\"y\":[-0.435,-0.27,-0.105,0.015,0.18,0.355,0.49,0.6,0.685,0.755,0.8,0.835,0.875,0.935,0.985,1.05,1.07,1.095,1.09,1.125,1.115,1.12,1.16,1.19,1.21,1.195,1.19,1.21,1.23,1.265,1.275,1.28,1.285,1.27,1.225,1.2,1.19,1.15,1.11,1.065,1.035,0.99,0.905,0.81,0.75,0.665,0.565,0.495,0.43,0.405,0.305,0.225,0.135,0.1,0.055,0.02,0.01,0.01,-0.01,-0.035,0.005,0.04,0.09,0.07,0.075,0.055,0.055,0.04,0.0,-0.03,-0.08,-0.095,-0.095,-0.095,-0.105,-0.075,-0.065,-0.1,-0.155,-0.185,-0.21,-0.225,-0.235,-0.245,-0.255,-0.255,-0.22,-0.24,-0.25,-0.275,-0.27,-0.245,-0.24,-0.23,-0.27,-0.28,-0.305,-0.285,-0.285,-0.315,-0.33,-0.305,-0.26,-0.255,-0.25,-0.195,-0.105,0.055,-0.19,-0.82,-1.445,-2.085,-2.705,-3.19,-3.675,-4.15,-4.26,-4.16,-4.005,-3.885,-3.805,-3.73,-3.64,-3.5,-3.375,-3.205,-2.985,-2.72,-2.405,-2.09,-1.75,-1.465,-1.25,-1.08,-0.905,-0.745,-0.56,-0.36,-0.22,-0.045,0.125,0.245,0.33,0.42,0.545,0.63,0.69,0.69,0.73,0.79,0.85,0.89,0.93,0.955,0.975,0.99,1.04,1.06,1.055,1.075,1.095,1.08,1.11,1.1,1.13,1.135,1.16,1.165,1.14,1.13,1.135,1.1,1.07,1.025,0.975,0.92,0.86,0.835,0.745,0.67,0.585,0.54,0.465,0.4,0.34,0.28,0.21,0.165,0.12,0.07,0.015,-0.04,-0.055,-0.085,-0.08,-0.045,-0.07,-0.08,-0.05,-0.03,-0.005,0.02,0.035,0.065,0.0,-0.025,-0.06,-0.07,-0.14,-0.15,-0.125,-0.08,-0.055,-0.09,-0.12,-0.165,-0.195,-0.215,-0.23,-0.22,-0.22,-0.23,-0.235,-0.25,-0.255,-0.26,-0.255,-0.28,-0.28,-0.275,-0.25,-0.285,-0.285,-0.28,-0.28,-0.32,-0.32,-0.31,-0.275,-0.275,-0.3,-0.265,-0.22,-0.13,-0.01,-0.205,-0.76,-1.34,-1.98,-2.62,-3.07,-3.55,-4.01,-4.13,-4.03,-3.925,-3.775,-3.71,-3.625,-3.515,-3.325,-3.255,-3.04,-2.835,-2.56,-2.275,-2.005,-1.7,-1.42,-1.155,-0.98,-0.82,-0.69,-0.52,-0.375,-0.21,-0.07,0.07,0.185,0.34,0.465,0.56,0.615,0.675,0.725,0.8,0.875,0.93,0.955,0.985,1.0,1.04,1.095,1.11,1.16,1.12,1.135,1.145,1.19,1.225,1.25,1.24,1.26,1.275,1.25,1.245,1.255,1.24,1.205,1.175,1.135,1.12,1.08,1.045,0.97,0.9,0.805,0.745,0.645,0.57,0.52,0.46,0.41,0.32,0.22,0.175,0.135,0.08,0.055,0.0,-0.01,0.005,0.02,0.0,-0.01,0.02,0.055,0.06,0.05,0.055,0.015,0.015,0.035,0.01,-0.03,-0.08,-0.065,-0.06,-0.05,-0.04,-0.075,-0.12,-0.145,-0.175,-0.17,-0.19,-0.195,-0.24,-0.25,-0.23,-0.205,-0.225,-0.235,-0.205,-0.22,-0.25,-0.24,-0.25,-0.265,-0.235,-0.25,-0.26,-0.28,-0.29,-0.275,-0.255,-0.24,-0.26,-0.25,-0.19,-0.075,0.105,-0.07,-0.635,-1.205,-1.845,-2.485,-3.055,-3.58,-4.085,-4.23,-4.11,-3.965,-3.84,-3.785,-3.68,-3.585,-3.475,-3.375,-3.225,-2.96,-2.65,-2.365,-2.1,-1.81,-1.525,-1.25,-1.05,-0.885,-0.72,-0.545,-0.365,-0.205,-0.075,0.06,0.19,0.305,0.415,0.525,0.605,0.715,0.755,0.775,0.815,0.89,0.965,1.01,0.99,1.02,1.02,1.07,1.075,1.065,1.12,1.125,1.12,1.15,1.145,1.175,1.24,1.235,1.215,1.205,1.21,1.2,1.175,1.155,1.12,1.12,1.05,0.98,0.875,0.825,0.785,0.72,0.625,0.54,0.47,0.41,0.34,0.275,0.285,0.215,0.14,0.09,0.06,0.005,-0.005,-0.02,0.005,0.04,0.035,0.04,0.075,0.07,0.08,0.055,0.045,0.025,0.01,-0.03,-0.035,-0.055,-0.025,-0.04,-0.04,-0.03,-0.07,-0.125,-0.145,-0.17,-0.18,-0.16,-0.17,-0.21,-0.235,-0.235,-0.225,-0.22,-0.2,-0.2,-0.21,-0.225,-0.235,-0.215,-0.195,-0.21,-0.235,-0.23,-0.235,-0.245,-0.235,-0.27,-0.25,-0.24,-0.18,-0.1,0.02,0.115,-0.14,-0.71,-1.335,-1.975,-2.615,-3.2,-3.775,-4.14,-4.145,-4.015,-3.88,-3.81,-3.785,-3.7,-3.615,-3.475,-3.33,-3.23,-2.995,-2.755,-2.47,-2.17,-1.855,-1.595,-1.35,-1.135,-0.91,-0.74,-0.6,-0.42,-0.255,-0.1,0.015,0.14,0.29,0.405,0.54,0.66,0.745,0.795,0.785,0.835,0.89,0.955,1.0,1.005,1.03,1.06,1.095,1.105,1.15,1.16,1.165,1.175,1.19,1.215,1.21,1.255,1.24,1.22,1.245,1.25,1.235,1.21,1.185,1.175,1.14,1.095,1.01,0.93,0.875,0.83,0.71,0.645,0.575,0.535,0.44,0.34,0.235,0.21,0.17,0.125,0.055,0.025,0.0,0.025,0.03,0.015,-0.01,0.03,0.055,0.05,0.055,0.08,0.06,0.05,0.005,-0.02,-0.055,-0.065,-0.06,-0.08,-0.03,-0.02,-0.02,-0.1,-0.13,-0.14,-0.175,-0.215,-0.225,-0.24,-0.235,-0.21,-0.205,-0.22,-0.235,-0.225,-0.23,-0.235,-0.245,-0.24,-0.22,-0.225,-0.24,-0.235,-0.245,-0.255,-0.255,-0.28,-0.245,-0.24,-0.225,-0.22,-0.175,-0.065,0.095,0.0,-0.56,-1.18,-1.82,-2.46,-3.1,-3.635,-4.105,-4.22,-4.095,-3.985,-3.875,-3.845,-3.77,-3.68,-3.55,-3.425,-3.31,-3.03,-2.745,-2.47,-2.205,-1.885,-1.59,-1.325,-1.145,-0.965,-0.79,-0.61,-0.44,-0.295,-0.14,-0.015,0.125,0.255,0.385,0.525,0.645,0.66,0.705,0.74,0.8,0.89,0.93,0.96,0.97,0.975,1.035,1.05,1.06,1.085,1.09,1.09,1.11,1.125,1.185,1.19,1.195,1.205,1.22,1.235,1.25,1.215,1.205,1.19,1.195,1.115,1.04,0.995,0.935,0.885,0.795,0.73,0.655,0.6,0.53,0.455,0.34,0.275,0.2,0.175,0.125,0.085,0.04,0.015,-0.02,-0.04,-0.05,-0.045,-0.035,0.0,0.005,0.04,0.04,0.1,0.08,0.03,0.005,-0.035,-0.08,-0.12,-0.13,-0.115,-0.055,-0.065,-0.07,-0.12,-0.16,-0.2,-0.215,-0.235,-0.245,-0.285,-0.26,-0.26,-0.28,-0.285,-0.28,-0.275,-0.29,-0.31,-0.34,-0.31,-0.315,-0.29,-0.315,-0.325,-0.345,-0.33,-0.31,-0.35,-0.335,-0.345,-0.35,-0.27,-0.215,-0.13,-0.015,-0.175,-0.73,-1.335,-1.975,-2.615,-3.1,-3.53,-4.005,-4.22,-4.145,-3.99,-3.875,-3.79,-3.705,-3.63,-3.535,-3.38,-3.305,-3.035,-2.775,-2.505,-2.2,-1.905,-1.65,-1.385,-1.165,-0.975,-0.835,-0.66,-0.49,-0.32,-0.17,0.01,0.135,0.25,0.33,0.445,0.53,0.59,0.65,0.7,0.735,0.79,0.845,0.905,0.935,0.955,0.97,1.0,0.985,1.03,1.02,1.05,1.07,1.08,1.13,1.16,1.18,1.16,1.16,1.14,1.135,1.11,1.085,1.05,1.025,0.995,1.005,0.91,0.86,0.83,0.755,0.655,0.585,0.51,0.42,0.33,0.27,0.23,0.185,0.12,0.095,0.015,-0.02,-0.065,-0.1,-0.11,-0.1,-0.095,-0.085,-0.065,-0.03,0.0,0.0,0.0,-0.01,-0.035,-0.045,-0.04,-0.07,-0.15,-0.16,-0.145,-0.125,-0.12,-0.12,-0.135,-0.165,-0.175,-0.215,-0.275,-0.285,-0.27,-0.275,-0.29,-0.295,-0.3,-0.265,-0.315,-0.31,-0.3,-0.28,-0.3,-0.285,-0.31,-0.32,-0.31,-0.28,-0.28,-0.265,-0.305,-0.345,-0.37,-0.35,-0.32,-0.29,-0.24,-0.16,-0.035,-0.045,-0.52,-1.16,-1.8,-2.44,-3.08,-3.68,-4.135,-4.405,-4.39,-4.165,-3.96,-3.815,-3.735,-3.645,-3.515,-3.42,-3.275,-3.04,-2.78,-2.485,-2.18,-1.865,-1.595,-1.34,-1.12,-0.93,-0.73,-0.545,-0.365,-0.195,-0.03,0.12,0.225,0.35,0.45,0.545,0.61,0.68,0.725,0.79,0.84,0.915,0.97,1.03,1.02,1.04,1.045,1.075,1.055,1.09,1.14,1.155,1.175,1.21,1.205,1.215,1.22,1.215,1.23,1.225,1.245,1.205,1.135,1.125,1.13,1.08,1.0,0.955,0.905,0.83,0.755,0.67,0.585,0.535,0.45,0.395,0.335,0.29,0.205,0.135,0.1,0.06,0.03,0.0,-0.03,-0.05,-0.025,0.03,0.025,0.055,0.04,0.05,0.04,0.02,0.02,-0.01,0.005,-0.01,-0.045,-0.08,-0.1,-0.08,-0.075,-0.085,-0.11,-0.125,-0.15,-0.175,-0.215,-0.225,-0.225,-0.24,-0.255,-0.265,-0.245,-0.25,-0.22,-0.225,-0.25,-0.26,-0.27,-0.26,-0.27,-0.245,-0.245,-0.245,-0.245,-0.24,-0.285,-0.295,-0.305,-0.245,-0.215,-0.155,-0.07,0.08,-0.02,-0.56,-1.2,-1.84,-2.48,-3.12,-3.68,-4.095,-4.165,-4.065,-3.91,-3.805,-3.77,-3.68,-3.57,-3.455,-3.385,-3.125,-2.88,-2.635,-2.345,-2.07,-1.76,-1.49,-1.235,-0.995,-0.87,-0.74,-0.56,-0.38,-0.215,-0.085,0.055,0.215,0.345,0.475,0.55,0.615,0.67,0.715,0.745,0.81,0.86,0.94,0.97,1.015,1.01,1.035,1.025,1.07,1.075,1.09,1.1,1.15,1.185,1.18,1.185,1.2,1.205,1.225,1.19,1.17,1.2,1.2,1.18,1.1,1.055,1.015,0.94,0.87,0.79,0.725,0.705,0.635,0.535,0.46,0.38,0.305,0.275,0.235,0.175,0.12,0.09,0.025,-0.01,0.0,0.0,-0.01,0.01,0.03,0.05,0.035,0.015,0.005,-0.01,0.0,-0.02,-0.045,-0.04,-0.04,-0.055,-0.065,-0.05,0.02,0.015,-0.095,-0.18,-0.23,-0.245,-0.265,-0.26,-0.315,-0.275,-0.29,-0.28,-0.275,-0.28,-0.25,-0.255,-0.235,-0.23,-0.255,-0.22,-0.245,-0.24,-0.275,-0.26,-0.26,-0.25,-0.225,-0.275,-0.285,-0.255,-0.22,-0.14,-0.01,0.105,-0.1,-0.67,-1.305,-1.945,-2.585,-3.095,-3.605,-4.06,-4.215,-4.12,-3.955,-3.84,-3.79,-3.695,-3.595,-3.45,-3.37,-3.17,-2.89,-2.6,-2.3,-2.005,-1.71,-1.41,-1.11,-0.915,-0.755,-0.56,-0.385,-0.22,-0.085,0.09,0.285,0.395,0.495,0.56,0.65,0.745,0.805,0.835,0.87,0.905,0.96,1.01,1.06,1.09,1.085,1.07,1.075,1.1,1.075,1.13,1.165,1.235,1.27,1.275,1.255,1.27,1.275,1.265,1.27,1.275,1.26,1.235,1.205,1.14,1.085,1.025,0.955,0.885,0.82,0.775,0.695,0.635,0.545,0.49,0.375,0.31,0.255,0.185,0.115,0.075,0.04,0.035,0.025,0.015,0.025,0.025,0.065,0.08,0.105,0.125,0.1,0.05,0.035,0.025,0.0,-0.025,-0.025,-0.055,-0.08,-0.055,-0.055,-0.06,-0.105,-0.11,-0.135,-0.175,-0.215,-0.235,-0.26,-0.28,-0.29,-0.265,-0.215,-0.25,-0.29,-0.3,-0.26,-0.26,-0.235,-0.275,-0.31,-0.315,-0.315,-0.31,-0.29,-0.295,-0.315,-0.35,-0.345,-0.32,-0.26,-0.205,-0.14,0.025,-0.035,-0.575,-1.18,-1.82,-2.46,-3.04,-3.53,-4.045,-4.26,-4.175,-4.005,-3.89,-3.8,-3.755,-3.655,-3.515,-3.435,-3.25,-3.01,-2.76,-2.465,-2.165,-1.86,-1.57,-1.365,-1.155,-0.925,-0.75,-0.61,-0.53,-0.34,-0.125,0.095,0.225,0.31,0.365,0.485,0.58,0.68,0.72,0.755,0.83,0.89,0.935,0.965,0.93,0.955,1.025,1.035,1.055,1.06,1.055,1.07,1.12,1.155,1.21,1.235,1.235,1.175,1.165,1.23,1.205,1.155,1.135,1.095,1.045,0.995,0.975,0.915,0.825,0.695,0.61,0.555,0.51,0.51,0.49,0.385,0.285,0.235,0.195,0.15,0.075,0.015,-0.005,-0.04,-0.045,-0.045,-0.075,-0.09,-0.05,-0.055,-0.085,-0.075,-0.025,-0.04,-0.04,-0.06,-0.135,-0.095,-0.095,-0.175,-0.24,-0.255,-0.21,-0.22,-0.255,-0.35,-0.41,-0.365,-0.36,-0.39,-0.44,-0.465,-0.44,-0.43,-0.43,-0.42,-0.48,-0.515,-0.54,-0.475,-0.4,-0.395,-0.395,-0.43,-0.415,-0.425,-0.485,-0.455,-0.435,-0.47,-0.54,-0.595,-0.565,-0.515,-0.41,-0.24,-0.11,-0.38,-1.02,-1.66,-2.27,-2.815,-3.24,-3.68,-4.13,-4.275,-4.185,-4.025,-3.89,-3.78,-3.7,-3.665,-3.52,-3.275,-3.075,-2.87,-2.675,-2.45,-2.17,-1.89,-1.625,-1.345,-1.12,-0.985,-0.79,-0.58,-0.4,-0.275,-0.145,0.045,0.21,0.375,0.475,0.57,0.6,0.64,0.715,0.785,0.805,0.885,0.99,0.995,1.02,1.055,1.11,1.145,1.13,1.17,1.195,1.215,1.245,1.245,1.245,1.265,1.31,1.275,1.27,1.275,1.315,1.375,1.35,1.285,1.18,1.105,1.03,1.015,0.995,0.935,0.885,0.835,0.755,0.705,0.615,0.535,0.46,0.355,0.335,0.33,0.295,0.235,0.225,0.255,0.28,0.26,0.215,0.205,0.225,0.295,0.325,0.325,0.3,0.295,0.255,0.24,0.19,0.165,0.18,0.17,0.205,0.18,0.115,0.11,0.1,0.09,0.06,0.02,0.08,0.085,0.08,0.115,0.135,0.13,0.095,0.09,0.075,0.06,0.055,0.055,0.085,0.1,0.1,0.08,0.075,0.095,0.105,0.135,0.185,0.175,0.165,0.16,0.185,0.22,-0.09,-0.73,-1.37,-2.01,-2.555,-2.945,-3.305,-3.665,-3.71,-3.575,-3.425,-3.315,-3.225,-3.125,-3.01,-2.865,-2.615,-2.33,-2.045,-1.795,-1.57,-1.38,-1.135,-0.895,-0.675,-0.525,-0.345,-0.185,-0.04,0.13,0.305,0.485,0.585,0.695,0.785,0.89,1.01,1.105,1.13,1.135,1.19,1.255,1.34,1.39,1.42,1.445,1.465,1.465,1.47,1.5,1.49,1.51,1.565,1.595,1.61,1.6,1.605,1.59,1.635,1.645,1.63,1.635,1.6,1.625,1.665,1.69,1.605,1.485,1.43,1.37,1.275,1.195,1.1,1.005,0.925,0.88,0.785,0.705,0.635,0.615,0.555,0.535,0.465,0.445,0.425,0.395,0.375,0.4,0.38,0.4,0.415,0.455,0.485,0.535,0.515,0.525,0.45,0.405,0.415,0.39,0.355,0.36,0.335,0.36,0.37,0.285,0.225,0.21,0.175,0.16,0.16,0.165,0.185,0.16,0.14,0.14,0.165,0.175,0.215,0.245,0.225,0.185,0.18,0.16,0.165,0.205,0.195,0.215,0.215,0.215,0.21,0.21,0.215,0.185,0.19,0.205,0.08,-0.49,-1.115,-1.66,-2.155,-2.56,-2.975,-3.375,-3.54,-3.455,-3.29,-3.155,-3.05,-2.965,-2.845,-2.69,-2.48,-2.245,-2.09,-1.885,-1.645,-1.37,-1.1,-0.835,-0.585,-0.39,-0.255,-0.095,0.07,0.18,0.31,0.45,0.595,0.72,0.82,0.905,0.995,1.085,1.16,1.185,1.2,1.28,1.365,1.435,1.47,1.51,1.56,1.575,1.585,1.575,1.61,1.65,1.65,1.635,1.645,1.66,1.645,1.63,1.64,1.65,1.65,1.625,1.585,1.545,1.55,1.525,1.475,1.375,1.285,1.25,1.195,1.13,1.06,0.97,0.925,0.875,0.78,0.705,0.66,0.53,0.43,0.375,0.35,0.31,0.265,0.24,0.245,0.26,0.255,0.275,0.27,0.285,0.295,0.265,0.25,0.215,0.2,0.2,0.18,0.175,0.155,0.13,0.085,0.03,0.035,0.0,-0.08,-0.13,-0.14,-0.14,-0.145,-0.145,-0.16,-0.2,-0.21,-0.23,-0.265,-0.265,-0.26,-0.25,-0.29,-0.295,-0.295,-0.32,-0.345,-0.365,-0.415,-0.425,-0.45,-0.5,-0.51,-0.49,-0.465,-0.47,-0.495,-0.54,-0.96,-1.52,-2.015,-2.49,-2.86,-3.215,-3.62,-3.945,-3.95,-3.86,-3.745,-3.66,-3.63,-3.5,-3.345,-3.325,-3.205,-2.945,-2.675,-2.465,-2.24,-1.99,-1.74,-1.49,-1.27,-1.11,-0.915,-0.755,-0.61,-0.475,-0.32,-0.195,-0.065,0.045,0.15,0.245,0.31,0.37,0.42,0.455,0.46,0.545,0.62,0.68,0.685,0.71,0.75,0.77,0.82,0.845,0.85,0.875,0.9,0.925,0.91,0.905,0.91,0.91,0.89,0.915,0.93,0.925,0.925,0.9,0.875,0.84,0.835,0.785,0.74,0.705,0.635,0.59,0.505,0.455,0.395,0.335,0.285,0.215,0.17,0.105,0.06,0.01,0.0,-0.045,-0.07,-0.08,-0.06,-0.045,-0.03,-0.015,0.015,0.03,0.055,0.055,0.02,0.015,-0.045,-0.055,-0.105,-0.125,-0.155,-0.155,-0.15,-0.16,-0.18,-0.22,-0.28,-0.305,-0.335,-0.32,-0.335,-0.325,-0.35,-0.33,-0.345,-0.35,-0.355,-0.345,-0.345,-0.33,-0.335,-0.34,-0.32,-0.325,-0.33,-0.33,-0.345,-0.35,-0.35,-0.375,-0.365,-0.33,-0.32,-0.305,-0.255,-0.275,-0.67,-1.09,-1.54,-2.03,-2.46,-2.895,-3.385,-3.69,-3.685,-3.57,-3.425,-3.34,-3.43,-3.415,-3.33,-3.185,-2.945,-2.72,-2.505,-2.255,-2.06,-1.8,-1.555,-1.31,-1.085,-0.935,-0.755,-0.58,-0.435,-0.29,-0.16,-0.02,0.12,0.235,0.285,0.345,0.425,0.46,0.53,0.565,0.6,0.635,0.72,0.77,0.775,0.765,0.765,0.765,0.78,0.82,0.825,0.865,0.86,0.875,0.905,0.925,0.94,0.93,0.935,0.925,0.92,0.915,0.885,0.91,0.865,0.855,0.815,0.775,0.76,0.71,0.65,0.575,0.485,0.44,0.375,0.315,0.25,0.2,0.15,0.085,0.07,0.02,-0.005,-0.04,-0.06,-0.08,-0.065,-0.085,-0.055,-0.015,0.01,0.05,0.07,0.075,0.07,0.035,0.03,0.025,-0.015,-0.065,-0.08,-0.1,-0.105,-0.12,-0.14,-0.245,-0.315,-0.37,-0.395,-0.44,-0.445,-0.425,-0.41,-0.405,-0.4,-0.405,-0.375,-0.37,-0.35,-0.325,-0.32,-0.335,-0.35,-0.355,-0.335,-0.32,-0.32,-0.36,-0.37,-0.38,-0.4,-0.4,-0.415,-0.41,-0.39,-0.29,-0.28,-0.64,-1.045,-1.53,-2.045,-2.46,-2.965,-3.44,-3.62,-3.565,-3.39,-3.405,-3.48,-3.48,-3.395,-3.295,-3.11,-2.85,-2.62,-2.4,-2.17,-1.965,-1.705,-1.47,-1.24,-1.045,-0.885,-0.74,-0.63,-0.455,-0.32,-0.21,-0.06,0.09,0.195,0.3,0.375,0.48,0.56,0.57,0.595,0.635,0.665,0.735,0.755,0.725,0.73,0.75,0.775,0.785,0.8,0.81,0.82,0.83,0.84,0.85,0.86,0.88,0.895,0.87,0.875,0.85,0.805,0.8,0.79,0.78,0.735,0.645,0.59,0.52,0.5,0.44,0.39,0.335,0.26,0.21,0.15,0.11,0.06,0.025,-0.02,-0.075,-0.1,-0.14,-0.17,-0.185,-0.185,-0.185,-0.185,-0.16,-0.125,-0.09,-0.09,-0.095,-0.1,-0.125,-0.145,-0.155,-0.205,-0.22,-0.195,-0.205,-0.205,-0.205,-0.21,-0.26,-0.31,-0.335,-0.365,-0.38,-0.375,-0.39,-0.42,-0.43,-0.455,-0.42,-0.435,-0.47,-0.45,-0.455,-0.47,-0.495,-0.475,-0.48,-0.505,-0.5,-0.53,-0.53,-0.51,-0.515,-0.53,-0.525,-0.5,-0.52,-0.43,-0.38,-0.66,-1.02,-1.465,-1.945,-2.39,-2.82,-3.29,-3.605,-3.615,-3.545,-3.445,-3.53,-3.57,-3.55,-3.475,-3.36,-3.135,-2.875,-2.68,-2.46,-2.26,-2.015,-1.775,-1.525,-1.29,-1.105,-0.925,-0.74,-0.585,-0.495,-0.3,-0.185,-0.025,0.08,0.19,0.31,0.38,0.45,0.45,0.505,0.535,0.565,0.61,0.64,0.67,0.68,0.71,0.71,0.715,0.725,0.78,0.81,0.83,0.83,0.825,0.86,0.9,0.895,0.895,0.9,0.935,0.93,0.94,0.92,0.895,0.925,0.88,0.8,0.75,0.715,0.68,0.6,0.55,0.465,0.36,0.26,0.165,0.095,0.035,0.0,-0.04,-0.06,-0.115,-0.135,-0.15,-0.135,-0.13,-0.09,-0.09,-0.075,-0.055,-0.065,-0.055,-0.065,-0.05,-0.075,-0.07,-0.12,-0.14,-0.15,-0.15,-0.135,-0.14,-0.165,-0.22,-0.28,-0.315,-0.285,-0.295,-0.335,-0.37,-0.335,-0.32,-0.295,-0.3,-0.295,-0.285,-0.29,-0.25,-0.26,-0.28,-0.295,-0.3,-0.3,-0.3,-0.315,-0.3,-0.29,-0.305,-0.3,-0.295,-0.265,-0.27,-0.205,-0.075,-0.23,-0.64,-1.09,-1.585,-2.065,-2.525,-3.05,-3.415,-3.54,-3.495,-3.38,-3.365,-3.475,-3.45,-3.375,-3.245,-3.07,-2.845,-2.595,-2.26,-1.835,-1.455,-1.285,-1.185,-1.155,-1.045,-0.89,-0.715,-0.5,-0.335,-0.145,0.015,0.21,0.335,0.43,0.53,0.565,0.615,0.64,0.685,0.745,0.795,0.83,0.82,0.855,0.84,0.825,0.785,0.795,0.77,0.735,0.685,0.68,0.665,0.64,0.63,0.62,0.615,0.59,0.605,0.63,0.625,0.605,0.605,0.63,0.625,0.605,0.59,0.555,0.525,0.51,0.475,0.395,0.345,0.295,0.24,0.205,0.16,0.145,0.13,0.105,0.095,0.03,-0.025,-0.04,-0.06,-0.085,-0.115,-0.1,-0.105,-0.11,-0.095,-0.08,-0.09,-0.15,-0.2,-0.22,-0.255,-0.285,-0.295,-0.28,-0.29,-0.32,-0.35,-0.4,-0.465,-0.495,-0.52,-0.57,-0.58,-0.615,-0.63,-0.64,-0.61,-0.6,-0.6,-0.65,-0.645,-0.685,-0.72,-0.755,-0.835,-0.865,-0.91,-0.95,-0.94,-0.945,-0.945,-0.925,-0.91,-0.87,-0.835,-0.655,-0.57,-0.835,-1.17,-1.62,-2.095,-2.485,-2.905,-3.355,-3.6,-3.615,-3.54,-3.45,-3.395,-3.585,-3.575,-3.51,-3.38,-3.195,-3.01,-2.815,-2.605,-2.39,-2.18,-1.92,-1.665,-1.44,-1.235,-1.05,-0.855,-0.645,-0.51,-0.34,-0.19,-0.04,0.085,0.235,0.335,0.445,0.495,0.515,0.575,0.635,0.705,0.78,0.805,0.84,0.855,0.895,0.915,0.925,0.925,0.935,1.005,1.03,1.04,1.055,1.07,1.06,1.055,1.025,1.02,1.0,0.995,0.97,0.925,0.895,0.84,0.79,0.695,0.625,0.515,0.435,0.345,0.265,0.2,0.12,0.08,0.035,-0.015,-0.05,-0.1,-0.12,-0.145,-0.16,-0.14,-0.11,-0.06,-0.03,0.01,0.04,0.055,0.045,0.03,0.02,0.01,0.0,0.025,0.05,0.055,0.105,0.115,0.14,0.145,0.13,0.11,0.11,0.09,0.075,0.06,0.025,0.01,0.0,0.0,0.0,0.0,-0.01,-0.02,-0.06,-0.055,-0.07,-0.045,-0.095,-0.1,-0.16,-0.135,-0.165,-0.205,-0.215,-0.23,-0.25,-0.24,-0.235,-0.23,-0.17,-0.185,-0.56,-1.01,-1.515,-1.995,-2.46,-2.965,-3.41,-3.58,-3.55,-3.425,-3.365,-3.385,-3.535,-3.52,-3.445,-3.29,-3.07,-2.855,-2.585,-2.325,-2.035,-1.725,-1.435,-1.16,-0.92,-0.685,-0.44,-0.265,-0.115,0.025,0.215,0.39,0.51,0.59,0.64,0.7,0.76,0.79,0.775,0.835,0.865,0.905,0.935,0.91,0.95,0.94,0.96,1.01,1.015,1.02,1.04,1.11,1.125,1.155,1.14,1.135,1.17,1.19,1.19,1.19,1.195,1.165,1.195,1.15,1.11,1.06,1.015,0.98,0.935,0.895,0.865,0.78,0.72,0.645,0.59,0.52,0.45,0.385,0.355,0.32,0.29,0.24,0.205,0.17,0.155,0.14,0.1,0.115,0.105,0.105,0.08,0.035,0.035,0.045,-0.005,-0.05,-0.075,-0.05,-0.06,-0.06,-0.04,-0.03,-0.075,-0.11,-0.125,-0.15,-0.17,-0.18,-0.19,-0.2,-0.225,-0.23,-0.23,-0.225,-0.235,-0.275,-0.285,-0.28,-0.275,-0.295,-0.31,-0.31,-0.32,-0.325,-0.325,-0.315,-0.33,-0.34,-0.32,-0.31,-0.36,-0.355,-0.26,-0.485,-0.99,-1.465,-2.045,-2.54,-2.935,-3.39,-3.73,-3.79,-3.7,-3.57,-3.525,-3.51,-3.62,-3.6,-3.495,-3.27,-3.035,-2.81,-2.58,-2.345,-2.07,-1.81,-1.55,-1.28,-1.08,-0.87,-0.69,-0.475,-0.28,-0.11,0.08,0.21,0.34,0.465,0.565,0.595,0.695,0.73,0.77,0.845,0.9,0.94,0.97,0.98,1.04,1.05,1.095,1.135,1.16,1.18,1.21,1.205,1.215,1.235,1.235,1.22,1.205,1.205,1.225,1.19,1.16,1.13,1.09,1.055,1.01,0.94,0.89,0.855,0.8,0.74,0.685,0.645,0.595,0.51,0.465,0.415,0.345,0.305,0.265,0.235,0.2,0.185,0.165,0.16,0.165,0.165,0.205,0.21,0.245,0.275,0.27,0.295,0.315,0.3,0.295,0.275,0.29,0.26,0.29,0.32,0.31,0.27,0.235,0.18,0.17,0.135,0.12,0.105,0.085,0.065,0.075,0.06,0.03,0.035,0.04,0.01,-0.015,-0.045,-0.045,-0.05,-0.015,-0.005,-0.045,-0.095,-0.095,-0.13,-0.125,-0.14,-0.1,-0.09,-0.07,-0.01,-0.05,-0.515,-1.01,-1.58,-2.1,-2.52,-2.955,-3.395,-3.595,-3.525,-3.39,-3.295,-3.245,-3.215,-3.345,-3.27,-3.095,-2.82,-2.57,-2.355,-2.075,-1.8,-1.51,-1.25,-0.98,-0.81,-0.64,-0.435,-0.265,-0.07,0.09,0.23,0.4,0.525,0.63],\"type\":\"scatter\"}],                        {\"template\":{\"data\":{\"histogram2dcontour\":[{\"type\":\"histogram2dcontour\",\"colorbar\":{\"outlinewidth\":0,\"ticks\":\"\"},\"colorscale\":[[0.0,\"#0d0887\"],[0.1111111111111111,\"#46039f\"],[0.2222222222222222,\"#7201a8\"],[0.3333333333333333,\"#9c179e\"],[0.4444444444444444,\"#bd3786\"],[0.5555555555555556,\"#d8576b\"],[0.6666666666666666,\"#ed7953\"],[0.7777777777777778,\"#fb9f3a\"],[0.8888888888888888,\"#fdca26\"],[1.0,\"#f0f921\"]]}],\"choropleth\":[{\"type\":\"choropleth\",\"colorbar\":{\"outlinewidth\":0,\"ticks\":\"\"}}],\"histogram2d\":[{\"type\":\"histogram2d\",\"colorbar\":{\"outlinewidth\":0,\"ticks\":\"\"},\"colorscale\":[[0.0,\"#0d0887\"],[0.1111111111111111,\"#46039f\"],[0.2222222222222222,\"#7201a8\"],[0.3333333333333333,\"#9c179e\"],[0.4444444444444444,\"#bd3786\"],[0.5555555555555556,\"#d8576b\"],[0.6666666666666666,\"#ed7953\"],[0.7777777777777778,\"#fb9f3a\"],[0.8888888888888888,\"#fdca26\"],[1.0,\"#f0f921\"]]}],\"heatmap\":[{\"type\":\"heatmap\",\"colorbar\":{\"outlinewidth\":0,\"ticks\":\"\"},\"colorscale\":[[0.0,\"#0d0887\"],[0.1111111111111111,\"#46039f\"],[0.2222222222222222,\"#7201a8\"],[0.3333333333333333,\"#9c179e\"],[0.4444444444444444,\"#bd3786\"],[0.5555555555555556,\"#d8576b\"],[0.6666666666666666,\"#ed7953\"],[0.7777777777777778,\"#fb9f3a\"],[0.8888888888888888,\"#fdca26\"],[1.0,\"#f0f921\"]]}],\"heatmapgl\":[{\"type\":\"heatmapgl\",\"colorbar\":{\"outlinewidth\":0,\"ticks\":\"\"},\"colorscale\":[[0.0,\"#0d0887\"],[0.1111111111111111,\"#46039f\"],[0.2222222222222222,\"#7201a8\"],[0.3333333333333333,\"#9c179e\"],[0.4444444444444444,\"#bd3786\"],[0.5555555555555556,\"#d8576b\"],[0.6666666666666666,\"#ed7953\"],[0.7777777777777778,\"#fb9f3a\"],[0.8888888888888888,\"#fdca26\"],[1.0,\"#f0f921\"]]}],\"contourcarpet\":[{\"type\":\"contourcarpet\",\"colorbar\":{\"outlinewidth\":0,\"ticks\":\"\"}}],\"contour\":[{\"type\":\"contour\",\"colorbar\":{\"outlinewidth\":0,\"ticks\":\"\"},\"colorscale\":[[0.0,\"#0d0887\"],[0.1111111111111111,\"#46039f\"],[0.2222222222222222,\"#7201a8\"],[0.3333333333333333,\"#9c179e\"],[0.4444444444444444,\"#bd3786\"],[0.5555555555555556,\"#d8576b\"],[0.6666666666666666,\"#ed7953\"],[0.7777777777777778,\"#fb9f3a\"],[0.8888888888888888,\"#fdca26\"],[1.0,\"#f0f921\"]]}],\"surface\":[{\"type\":\"surface\",\"colorbar\":{\"outlinewidth\":0,\"ticks\":\"\"},\"colorscale\":[[0.0,\"#0d0887\"],[0.1111111111111111,\"#46039f\"],[0.2222222222222222,\"#7201a8\"],[0.3333333333333333,\"#9c179e\"],[0.4444444444444444,\"#bd3786\"],[0.5555555555555556,\"#d8576b\"],[0.6666666666666666,\"#ed7953\"],[0.7777777777777778,\"#fb9f3a\"],[0.8888888888888888,\"#fdca26\"],[1.0,\"#f0f921\"]]}],\"mesh3d\":[{\"type\":\"mesh3d\",\"colorbar\":{\"outlinewidth\":0,\"ticks\":\"\"}}],\"scatter\":[{\"fillpattern\":{\"fillmode\":\"overlay\",\"size\":10,\"solidity\":0.2},\"type\":\"scatter\"}],\"parcoords\":[{\"type\":\"parcoords\",\"line\":{\"colorbar\":{\"outlinewidth\":0,\"ticks\":\"\"}}}],\"scatterpolargl\":[{\"type\":\"scatterpolargl\",\"marker\":{\"colorbar\":{\"outlinewidth\":0,\"ticks\":\"\"}}}],\"bar\":[{\"error_x\":{\"color\":\"#2a3f5f\"},\"error_y\":{\"color\":\"#2a3f5f\"},\"marker\":{\"line\":{\"color\":\"#E5ECF6\",\"width\":0.5},\"pattern\":{\"fillmode\":\"overlay\",\"size\":10,\"solidity\":0.2}},\"type\":\"bar\"}],\"scattergeo\":[{\"type\":\"scattergeo\",\"marker\":{\"colorbar\":{\"outlinewidth\":0,\"ticks\":\"\"}}}],\"scatterpolar\":[{\"type\":\"scatterpolar\",\"marker\":{\"colorbar\":{\"outlinewidth\":0,\"ticks\":\"\"}}}],\"histogram\":[{\"marker\":{\"pattern\":{\"fillmode\":\"overlay\",\"size\":10,\"solidity\":0.2}},\"type\":\"histogram\"}],\"scattergl\":[{\"type\":\"scattergl\",\"marker\":{\"colorbar\":{\"outlinewidth\":0,\"ticks\":\"\"}}}],\"scatter3d\":[{\"type\":\"scatter3d\",\"line\":{\"colorbar\":{\"outlinewidth\":0,\"ticks\":\"\"}},\"marker\":{\"colorbar\":{\"outlinewidth\":0,\"ticks\":\"\"}}}],\"scattermapbox\":[{\"type\":\"scattermapbox\",\"marker\":{\"colorbar\":{\"outlinewidth\":0,\"ticks\":\"\"}}}],\"scatterternary\":[{\"type\":\"scatterternary\",\"marker\":{\"colorbar\":{\"outlinewidth\":0,\"ticks\":\"\"}}}],\"scattercarpet\":[{\"type\":\"scattercarpet\",\"marker\":{\"colorbar\":{\"outlinewidth\":0,\"ticks\":\"\"}}}],\"carpet\":[{\"aaxis\":{\"endlinecolor\":\"#2a3f5f\",\"gridcolor\":\"white\",\"linecolor\":\"white\",\"minorgridcolor\":\"white\",\"startlinecolor\":\"#2a3f5f\"},\"baxis\":{\"endlinecolor\":\"#2a3f5f\",\"gridcolor\":\"white\",\"linecolor\":\"white\",\"minorgridcolor\":\"white\",\"startlinecolor\":\"#2a3f5f\"},\"type\":\"carpet\"}],\"table\":[{\"cells\":{\"fill\":{\"color\":\"#EBF0F8\"},\"line\":{\"color\":\"white\"}},\"header\":{\"fill\":{\"color\":\"#C8D4E3\"},\"line\":{\"color\":\"white\"}},\"type\":\"table\"}],\"barpolar\":[{\"marker\":{\"line\":{\"color\":\"#E5ECF6\",\"width\":0.5},\"pattern\":{\"fillmode\":\"overlay\",\"size\":10,\"solidity\":0.2}},\"type\":\"barpolar\"}],\"pie\":[{\"automargin\":true,\"type\":\"pie\"}]},\"layout\":{\"autotypenumbers\":\"strict\",\"colorway\":[\"#636efa\",\"#EF553B\",\"#00cc96\",\"#ab63fa\",\"#FFA15A\",\"#19d3f3\",\"#FF6692\",\"#B6E880\",\"#FF97FF\",\"#FECB52\"],\"font\":{\"color\":\"#2a3f5f\"},\"hovermode\":\"closest\",\"hoverlabel\":{\"align\":\"left\"},\"paper_bgcolor\":\"white\",\"plot_bgcolor\":\"#E5ECF6\",\"polar\":{\"bgcolor\":\"#E5ECF6\",\"angularaxis\":{\"gridcolor\":\"white\",\"linecolor\":\"white\",\"ticks\":\"\"},\"radialaxis\":{\"gridcolor\":\"white\",\"linecolor\":\"white\",\"ticks\":\"\"}},\"ternary\":{\"bgcolor\":\"#E5ECF6\",\"aaxis\":{\"gridcolor\":\"white\",\"linecolor\":\"white\",\"ticks\":\"\"},\"baxis\":{\"gridcolor\":\"white\",\"linecolor\":\"white\",\"ticks\":\"\"},\"caxis\":{\"gridcolor\":\"white\",\"linecolor\":\"white\",\"ticks\":\"\"}},\"coloraxis\":{\"colorbar\":{\"outlinewidth\":0,\"ticks\":\"\"}},\"colorscale\":{\"sequential\":[[0.0,\"#0d0887\"],[0.1111111111111111,\"#46039f\"],[0.2222222222222222,\"#7201a8\"],[0.3333333333333333,\"#9c179e\"],[0.4444444444444444,\"#bd3786\"],[0.5555555555555556,\"#d8576b\"],[0.6666666666666666,\"#ed7953\"],[0.7777777777777778,\"#fb9f3a\"],[0.8888888888888888,\"#fdca26\"],[1.0,\"#f0f921\"]],\"sequentialminus\":[[0.0,\"#0d0887\"],[0.1111111111111111,\"#46039f\"],[0.2222222222222222,\"#7201a8\"],[0.3333333333333333,\"#9c179e\"],[0.4444444444444444,\"#bd3786\"],[0.5555555555555556,\"#d8576b\"],[0.6666666666666666,\"#ed7953\"],[0.7777777777777778,\"#fb9f3a\"],[0.8888888888888888,\"#fdca26\"],[1.0,\"#f0f921\"]],\"diverging\":[[0,\"#8e0152\"],[0.1,\"#c51b7d\"],[0.2,\"#de77ae\"],[0.3,\"#f1b6da\"],[0.4,\"#fde0ef\"],[0.5,\"#f7f7f7\"],[0.6,\"#e6f5d0\"],[0.7,\"#b8e186\"],[0.8,\"#7fbc41\"],[0.9,\"#4d9221\"],[1,\"#276419\"]]},\"xaxis\":{\"gridcolor\":\"white\",\"linecolor\":\"white\",\"ticks\":\"\",\"title\":{\"standoff\":15},\"zerolinecolor\":\"white\",\"automargin\":true,\"zerolinewidth\":2},\"yaxis\":{\"gridcolor\":\"white\",\"linecolor\":\"white\",\"ticks\":\"\",\"title\":{\"standoff\":15},\"zerolinecolor\":\"white\",\"automargin\":true,\"zerolinewidth\":2},\"scene\":{\"xaxis\":{\"backgroundcolor\":\"#E5ECF6\",\"gridcolor\":\"white\",\"linecolor\":\"white\",\"showbackground\":true,\"ticks\":\"\",\"zerolinecolor\":\"white\",\"gridwidth\":2},\"yaxis\":{\"backgroundcolor\":\"#E5ECF6\",\"gridcolor\":\"white\",\"linecolor\":\"white\",\"showbackground\":true,\"ticks\":\"\",\"zerolinecolor\":\"white\",\"gridwidth\":2},\"zaxis\":{\"backgroundcolor\":\"#E5ECF6\",\"gridcolor\":\"white\",\"linecolor\":\"white\",\"showbackground\":true,\"ticks\":\"\",\"zerolinecolor\":\"white\",\"gridwidth\":2}},\"shapedefaults\":{\"line\":{\"color\":\"#2a3f5f\"}},\"annotationdefaults\":{\"arrowcolor\":\"#2a3f5f\",\"arrowhead\":0,\"arrowwidth\":1},\"geo\":{\"bgcolor\":\"white\",\"landcolor\":\"#E5ECF6\",\"subunitcolor\":\"white\",\"showland\":true,\"showlakes\":true,\"lakecolor\":\"white\"},\"title\":{\"x\":0.05},\"mapbox\":{\"style\":\"light\"}}},\"xaxis\":{\"title\":{\"text\":\"Time\",\"font\":{\"size\":18,\"color\":\"black\"}},\"tickfont\":{\"size\":16,\"color\":\"black\"},\"showgrid\":false,\"linecolor\":\"#000\",\"ticks\":\"outside\",\"linewidth\":1,\"tickwidth\":1},\"yaxis\":{\"title\":{\"text\":\"Values\",\"font\":{\"size\":18,\"color\":\"black\"}},\"tickfont\":{\"size\":16,\"color\":\"black\"},\"showgrid\":false,\"linecolor\":\"#000\",\"ticks\":\"outside\",\"zeroline\":false,\"linewidth\":1,\"tickwidth\":1},\"title\":{\"font\":{\"size\":18,\"color\":\"black\"},\"text\":\"Input Time Series Set\",\"x\":0.5,\"y\":0.9,\"xanchor\":\"center\",\"yanchor\":\"top\"},\"legend\":{\"font\":{\"size\":16,\"color\":\"black\"}},\"plot_bgcolor\":\"rgba(0,0,0,0)\",\"paper_bgcolor\":\"rgba(0,0,0,0)\",\"width\":1000,\"height\":400},                        {\"responsive\": true}                    ).then(function(){\n",
              "                            \n",
              "var gd = document.getElementById('09ba724f-18cf-404b-9332-7a1c4a314d01');\n",
              "var x = new MutationObserver(function (mutations, observer) {{\n",
              "        var display = window.getComputedStyle(gd).display;\n",
              "        if (!display || display === 'none') {{\n",
              "            console.log([gd, 'removed!']);\n",
              "            Plotly.purge(gd);\n",
              "            observer.disconnect();\n",
              "        }}\n",
              "}});\n",
              "\n",
              "// Listen for the removal of the full notebook cells\n",
              "var notebookContainer = gd.closest('#notebook-container');\n",
              "if (notebookContainer) {{\n",
              "    x.observe(notebookContainer, {childList: true});\n",
              "}}\n",
              "\n",
              "// Listen for the clearing of the current output cell\n",
              "var outputEl = gd.closest('.output');\n",
              "if (outputEl) {{\n",
              "    x.observe(outputEl, {childList: true});\n",
              "}}\n",
              "\n",
              "                        })                };                            </script>        </div>\n",
              "</body>\n",
              "</html>"
            ]
          },
          "metadata": {}
        }
      ]
    },
    {
      "cell_type": "markdown",
      "source": [
        "Разделите каждый временной ряд на непересекающиеся подпоследовательности с помощью техники скользящего окна. Для этого используйте функцию `sliding_window()` из модуля *utils.py*, передав в нее временной ряд, заданную длину подпоследовательности и величину шага. В нашем случае, величина шага равна длине подпоследовательности."
      ],
      "metadata": {
        "id": "voNtTQAg0aR5"
      }
    },
    {
      "cell_type": "code",
      "source": [
        "m = 125\n",
        "subs_set1 = sliding_window(ts_set[0], m, m-1)\n",
        "subs_set2 = sliding_window(ts_set[1], m, m-1)"
      ],
      "metadata": {
        "id": "ptVJWErHuts_"
      },
      "execution_count": 47,
      "outputs": []
    },
    {
      "cell_type": "markdown",
      "source": [
        "Сформируйте множество всех подпоследовательностей, извлеченных из двух временных рядов, и массив меток подпоследовательностей в соответствии с их принадлежностью к временному ряду."
      ],
      "metadata": {
        "id": "JyZmw7l8rEmg"
      }
    },
    {
      "cell_type": "code",
      "source": [
        "subs_set = np.concatenate((subs_set1[0:15], subs_set2[0:15]))\n",
        "labels = np.array([0]*subs_set1[0:15].shape[0] + [1]*subs_set2[0:15].shape[0])"
      ],
      "metadata": {
        "id": "wk2HrKVJzATk"
      },
      "execution_count": 48,
      "outputs": []
    },
    {
      "cell_type": "markdown",
      "source": [
        "Добавьте в класс `PairwiseDistance` из модуля *pairwise_distance.py* возможность вычисления нормализованной евклидовой метрики между временными рядами. Если матрица расстояний строится для нормализованных временных рядов на основе евклидовой метрики, то должна вызываться функция `norm_ED_distance()`. Для остальных метрик/мер схожести перед нахождением матрицы расстояний временные ряды должны подтвергаться $z$-нормализации с помощью функции `z_normalize()` из модуля *utils.py*.\n",
        "\n",
        "Далее выполните иерархическую кластеризацию подпоследовательностей двух временных рядов с использованием предварительно построенных матриц расстояний на основе классической и нормализованной евклидовой метрики."
      ],
      "metadata": {
        "id": "xNc4ihIRu2Xt"
      }
    },
    {
      "cell_type": "code",
      "source": [
        "# INSERT YOUR CODE"
      ],
      "metadata": {
        "id": "0s6Bcgims7r5"
      },
      "execution_count": 31,
      "outputs": []
    },
    {
      "cell_type": "code",
      "source": [
        "import numpy as np\n",
        "\n",
        "from modules.metrics import ED_distance, norm_ED_distance, DTW_distance\n",
        "from modules.utils import z_normalize\n",
        "\n",
        "\n",
        "class PairwiseDistance:\n",
        "    \"\"\"\n",
        "    Distance matrix between time series\n",
        "\n",
        "    Parameters\n",
        "    ----------\n",
        "    metric: distance metric between two time series\n",
        "            Options: {euclidean, dtw}\n",
        "    is_normalize: normalize or not time series\n",
        "    \"\"\"\n",
        "\n",
        "    def __init__(self, metric: str = 'euclidean', is_normalize: bool = False) -> None:\n",
        "\n",
        "        self.metric: str = metric\n",
        "        self.is_normalize: bool = is_normalize\n",
        "\n",
        "\n",
        "    @property\n",
        "    def distance_metric(self) -> str:\n",
        "        \"\"\"Return the distance metric\n",
        "\n",
        "        Returns\n",
        "        -------\n",
        "            string with metric which is used to calculate distances between set of time series\n",
        "        \"\"\"\n",
        "\n",
        "        norm_str = \"\"\n",
        "        if (self.is_normalize):\n",
        "            norm_str = \"normalized \"\n",
        "        else:\n",
        "            norm_str = \"non-normalized \"\n",
        "\n",
        "        return norm_str + self.metric + \" distance\"\n",
        "\n",
        "\n",
        "    def _choose_distance(self):\n",
        "        \"\"\" Choose distance function for calculation of matrix\n",
        "\n",
        "        Returns\n",
        "        -------\n",
        "        dict_func: function reference\n",
        "        \"\"\"\n",
        "\n",
        "        if self.metric == 'euclidean':\n",
        "            return norm_ED_distance if self.is_normalize else ED_distance\n",
        "        elif self.metric == 'dtw':\n",
        "            return DTW_distance\n",
        "        else:\n",
        "            raise ValueError(\"Unsupported metric: choose 'euclidean' or 'dtw'.\")\n",
        "\n",
        "\n",
        "    def calculate(self, input_data: np.ndarray) -> np.ndarray:\n",
        "        \"\"\" Calculate distance matrix\n",
        "\n",
        "        Parameters\n",
        "        ----------\n",
        "        input_data: time series set\n",
        "\n",
        "        Returns\n",
        "        -------\n",
        "        matrix_values: distance matrix\n",
        "        \"\"\"\n",
        "\n",
        "        matrix_shape = (input_data.shape[0], input_data.shape[0])\n",
        "        matrix_values = np.zeros(shape=matrix_shape)\n",
        "\n",
        "\n",
        "\n",
        "        ist_func = self._choose_distance()\n",
        "\n",
        "        for i in range(input_data.shape[0]):\n",
        "            for j in range(i + 1, input_data.shape[0]):\n",
        "                if self.is_normalize:\n",
        "                    # Применяем z-нормализацию к временным рядам перед вычислением расстояния\n",
        "                    ts1 = z_normalize(input_data[i])\n",
        "                    ts2 = z_normalize(input_data[j])\n",
        "                else:\n",
        "                    ts1 = input_data[i]\n",
        "                    ts2 = input_data[j]\n",
        "\n",
        "                dist = dist_func(ts1, ts2)\n",
        "                matrix_values[i, j] = dist\n",
        "                matrix_values[j, i] = dist  # матрица симметрична\n",
        "        # INSERT YOUR CODE\n",
        "\n",
        "        return matrix_values"
      ],
      "metadata": {
        "id": "WqELtU7tO9tD"
      },
      "execution_count": 32,
      "outputs": []
    },
    {
      "cell_type": "code",
      "source": [
        "import numpy as np\n",
        "from modules.metrics import ED_distance, norm_ED_distance, DTW_distance\n",
        "from modules.utils import z_normalize\n",
        "\n",
        "class PairwiseDistance:\n",
        "    def __init__(self, metric: str = 'euclidean', is_normalize: bool = False) -> None:\n",
        "        self.metric: str = metric\n",
        "        self.is_normalize: bool = is_normalize\n",
        "\n",
        "    @property\n",
        "    def distance_metric(self) -> str:\n",
        "        norm_str = \"normalized \" if self.is_normalize else \"non-normalized \"\n",
        "        return norm_str + self.metric + \" distance\"\n",
        "\n",
        "    def _choose_distance(self):\n",
        "        if self.metric == 'euclidean':\n",
        "            return norm_ED_distance if self.is_normalize else ED_distance\n",
        "        elif self.metric == 'dtw':\n",
        "            return DTW_distance\n",
        "        else:\n",
        "            raise ValueError(\"Unsupported metric: choose 'euclidean' or 'dtw'.\")\n",
        "\n",
        "    def calculate(self, input_data: np.ndarray) -> np.ndarray:\n",
        "        matrix_shape = (input_data.shape[0], input_data.shape[0])\n",
        "        matrix_values = np.zeros(shape=matrix_shape)\n",
        "        dist_func = self._choose_distance()\n",
        "\n",
        "        for i in range(input_data.shape[0]):\n",
        "            for j in range(i + 1, input_data.shape[0]):\n",
        "                if self.is_normalize:\n",
        "                    # Применяем z-нормализацию к временным рядам перед вычислением расстояния\n",
        "                    ts1 = z_normalize(input_data[i])\n",
        "                    ts2 = z_normalize(input_data[j])\n",
        "                else:\n",
        "                    ts1 = input_data[i]\n",
        "                    ts2 = input_data[j]\n",
        "\n",
        "                dist = dist_func(ts1, ts2)\n",
        "                matrix_values[i, j] = dist\n",
        "                matrix_values[j, i] = dist  # матрица симметрична\n",
        "\n",
        "        return matrix_values"
      ],
      "metadata": {
        "id": "RAfoX6tgQkbv"
      },
      "execution_count": 42,
      "outputs": []
    },
    {
      "cell_type": "code",
      "source": [
        "class PairwiseDistance:\n",
        "    def __init__(self, metric: str = 'euclidean', is_normalize: bool = False) -> None:\n",
        "        self.metric: str = metric\n",
        "        self.is_normalize: bool = is_normalize\n",
        "\n",
        "    @property\n",
        "    def distance_metric(self) -> str:\n",
        "        norm_str = \"normalized \" if self.is_normalize else \"non-normalized \"\n",
        "        return norm_str + self.metric + \" distance\"\n",
        "\n",
        "    def _choose_distance(self):\n",
        "        if self.metric == 'euclidean':\n",
        "            return norm_ED_distance if self.is_normalize else ED_distance\n",
        "        elif self.metric == 'dtw':\n",
        "            return DTW_distance\n",
        "        else:\n",
        "            raise ValueError(\"Unsupported metric: choose 'euclidean' or 'dtw'.\")\n",
        "\n",
        "    def calculate(self, input_data: np.ndarray) -> np.ndarray:\n",
        "        if self.is_normalize:\n",
        "            input_data = np.array([z_normalize(ts) for ts in input_data])\n",
        "\n",
        "        matrix_shape = (input_data.shape[0], input_data.shape[0])\n",
        "        matrix_values = np.zeros(shape=matrix_shape)\n",
        "        dist_func = self._choose_distance()\n",
        "\n",
        "        for i in range(input_data.shape[0]):\n",
        "            for j in range(i + 1, input_data.shape[0]):\n",
        "                dist = dist_func(input_data[i], input_data[j])\n",
        "                matrix_values[i, j] = dist\n",
        "                matrix_values[j, i] = dist  # матрица симметрична\n",
        "\n",
        "        return matrix_values"
      ],
      "metadata": {
        "id": "UP1wuiw4RHQm"
      },
      "execution_count": 49,
      "outputs": []
    },
    {
      "cell_type": "markdown",
      "source": [
        "Вычислите силуэтные коэффициенты для оценки качества кластеризации с нормализацией и без нее, как это было сделано в задаче 4 части 1."
      ],
      "metadata": {
        "id": "WuquG9oFvJOo"
      }
    },
    {
      "cell_type": "code",
      "source": [
        "# INSERT YOUR CODE"
      ],
      "metadata": {
        "id": "ODvZDF2pvNR3"
      },
      "execution_count": 33,
      "outputs": []
    },
    {
      "cell_type": "code",
      "source": [
        "# Получение матрицы расстояний с нормализованной евклидовой метрикой\n",
        "pairwise_distance_normalized = PairwiseDistance(metric='euclidean', is_normalize=True)\n",
        "normalized_distance_matrix = pairwise_distance_normalized.calculate(subs_set)\n",
        "\n",
        "# Иерархическая кластеризация с использованием дистанционной матрицы\n",
        "model_normalized = TimeSeriesHierarchicalClustering(n_clusters=2)\n",
        "model_normalized.fit(normalized_distance_matrix)\n",
        "model_normalized.plot_dendrogram(subs_set, model_normalized.labels_, ts_hspace=12, title=\"Дендрограмма (Нормализованная Евклидова)\")\n",
        "\n",
        "# Вычисление расстояний с использованием классической евклидовой метрики\n",
        "pairwise_distance_classic = PairwiseDistance(metric='euclidean', is_normalize=False)\n",
        "classic_distance_matrix = pairwise_distance_classic.calculate(subs_set)\n",
        "\n",
        "# Иерархическая кластеризация с использованием дистанционной матрицы\n",
        "model_classic = TimeSeriesHierarchicalClustering(n_clusters=2)\n",
        "model_classic.fit(classic_distance_matrix)\n",
        "model_classic.plot_dendrogram(subs_set, model_classic.labels_, ts_hspace=12, title=\"Дендрограмма (Классическая Евклидова)\")"
      ],
      "metadata": {
        "colab": {
          "base_uri": "https://localhost:8080/",
          "height": 1000
        },
        "id": "nK5Igv5SROZs",
        "outputId": "5b1036c7-1f53-4874-8560-8e713a0a9415"
      },
      "execution_count": 50,
      "outputs": [
        {
          "output_type": "stream",
          "name": "stderr",
          "text": [
            "<ipython-input-17-5e4a81552c5b>:79: ClusterWarning:\n",
            "\n",
            "The symmetric non-negative hollow observation matrix looks suspiciously like an uncondensed distance matrix\n",
            "\n",
            "/usr/local/lib/python3.10/dist-packages/scipy/cluster/hierarchy.py:2818: UserWarning:\n",
            "\n",
            "Attempting to set identical low and high ylims makes transformation singular; automatically expanding.\n",
            "\n"
          ]
        },
        {
          "output_type": "display_data",
          "data": {
            "text/plain": [
              "<Figure size 1000x700 with 1 Axes>"
            ],
            "image/png": "[encoded data removed]"
          },
          "metadata": {}
        },
        {
          "output_type": "stream",
          "name": "stderr",
          "text": [
            "<ipython-input-17-5e4a81552c5b>:79: ClusterWarning:\n",
            "\n",
            "The symmetric non-negative hollow observation matrix looks suspiciously like an uncondensed distance matrix\n",
            "\n",
            "/usr/local/lib/python3.10/dist-packages/scipy/cluster/hierarchy.py:2818: UserWarning:\n",
            "\n",
            "Attempting to set identical low and high ylims makes transformation singular; automatically expanding.\n",
            "\n"
          ]
        },
        {
          "output_type": "display_data",
          "data": {
            "text/plain": [
              "<Figure size 1000x700 with 1 Axes>"
            ],
            "image/png": "[encoded data removed]"
          },
          "metadata": {}
        }
      ]
    },
    {
      "cell_type": "code",
      "source": [
        "# Загрузка временных рядов\n",
        "url1 = '/content/drive/MyDrive/01 Basics/datasets/part2/chf10.csv'\n",
        "ts1 = read_ts(url1)\n",
        "url2 = '/content/drive/MyDrive/01 Basics/datasets/part2/chf11.csv'\n",
        "ts2 = read_ts(url2)\n",
        "ts_set = np.concatenate((ts1, ts2), axis=1).T\n",
        "\n",
        "# Слайдинг для подпоследовательностей\n",
        "m = 125\n",
        "subs_set1 = sliding_window(ts_set[0], m, m-1)\n",
        "subs_set2 = sliding_window(ts_set[1], m, m-1)\n",
        "subs_set = np.concatenate((subs_set1[0:15], subs_set2[0:15]))\n",
        "labels = np.array([0]*subs_set1[0:15].shape[0] + [1]*subs_set2[0:15].shape[0])\n",
        "\n",
        "# Кластеризация без нормализации\n",
        "pairwise_distance_calculator = PairwiseDistance(metric='euclidean', is_normalize=False)\n",
        "euclid_distance_matrix = pairwise_distance_calculator.calculate(subs_set)\n",
        "model_euclid = TimeSeriesHierarchicalClustering(n_clusters=2)\n",
        "model_euclid.fit(euclid_distance_matrix)\n",
        "\n",
        "# Кластеризация с нормализацией\n",
        "pairwise_distance_calculator_normalized = PairwiseDistance(metric='euclidean', is_normalize=True)\n",
        "norm_euclid_distance_matrix = pairwise_distance_calculator_normalized.calculate(subs_set)\n",
        "model_normalized_euclid = TimeSeriesHierarchicalClustering(n_clusters=2)\n",
        "model_normalized_euclid.fit(norm_euclid_distance_matrix)\n",
        "\n",
        "# Вычисление силуэтных коэффициентов\n",
        "silhouette_score_euclid = silhouette_score(euclid_distance_matrix, model_euclid.labels_, metric='precomputed')\n",
        "silhouette_score_normalized_euclid = silhouette_score(norm_euclid_distance_matrix, model_normalized_euclid.labels_, metric='precomputed')\n",
        "\n",
        "print(f\"Силуэтный коэффициент без нормализации: {silhouette_score_euclid:.4f}\")\n",
        "print(f\"Силуэтный коэффициент с нормализацией: {silhouette_score_normalized_euclid:.4f}\")"
      ],
      "metadata": {
        "colab": {
          "base_uri": "https://localhost:8080/"
        },
        "id": "A3rfCSleQHSp",
        "outputId": "d24dfd4d-3f36-46a0-eea3-38ea081f977f"
      },
      "execution_count": 51,
      "outputs": [
        {
          "output_type": "stream",
          "name": "stdout",
          "text": [
            "Силуэтный коэффициент без нормализации: 0.0000\n",
            "Силуэтный коэффициент с нормализацией: 0.0000\n"
          ]
        },
        {
          "output_type": "stream",
          "name": "stderr",
          "text": [
            "<ipython-input-17-5e4a81552c5b>:79: ClusterWarning:\n",
            "\n",
            "The symmetric non-negative hollow observation matrix looks suspiciously like an uncondensed distance matrix\n",
            "\n",
            "<ipython-input-17-5e4a81552c5b>:79: ClusterWarning:\n",
            "\n",
            "The symmetric non-negative hollow observation matrix looks suspiciously like an uncondensed distance matrix\n",
            "\n"
          ]
        }
      ]
    },
    {
      "cell_type": "markdown",
      "source": [
        "![equation.png](data:image/png;base64,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)\n",
        "Сравните полученные результаты кластеризации с помощью построенных дендрограмм и вычисленных силуэтных коэффициентов. Позволила ли $z$-нормализации временных рядов повысить качество кластеризации?"
      ],
      "metadata": {
        "id": "KX8flrMwQnJi"
      }
    },
    {
      "cell_type": "markdown",
      "source": [
        "*# WRITE YOUR ANSWER*"
      ],
      "metadata": {
        "id": "gg6MjxpSSKq3"
      }
    },
    {
      "cell_type": "markdown",
      "source": [
        "## **Часть 3.** Классификация изображений, представленных в виде временных рядов."
      ],
      "metadata": {
        "id": "pEVntMKowu8O"
      }
    },
    {
      "cell_type": "markdown",
      "source": [
        "### **Задача 7.**\n",
        "В данном задании вам предстоит выполнить преобразование изображения, на котором находится некоторый объект, во временной ряд. Для этого вы реализуете один из существующих методов, предложенный в [статье Кеога и др](https://dl.acm.org/doi/10.5555/1182635.1164203).\n",
        "\n",
        "Данный метод заключается в том, что сначала на изображении выполняется поиск контура $E = \\{e_i\\}_{i=1}^L$, где $e_i$ – точки контура, и центра масс объекта $O$. Затем берутся точки, расположенные на контуре объекта, следующим образом.\n",
        "\n",
        "Рассмотрим луч $OP$ с началом в центре масс объекта $O$, направление которого совпадает с положительным направлением оси Ox (см. рисунок). Далее выполняется поворот против часовой стрелки луча $OP$ вокруг центра масс $O$ на некоторый заданный угол $α$, $1° \\leqslant α \\leqslant 360°$. Поворот луча будет осуществляться до тех пор, пока луч не пройдет полный оборот. Все точки $P = \\{P_i\\}_{i=1}^K$, $P_i \\in E$, $K = \\lfloor \\frac{360°}{α} \\rfloor$, образованные пересечением луча $OP$ с контуром $E$ во время поворота, будут являться искомыми.\n",
        "\n",
        "На завершающем шаге метода вычисляются расстояния между центром масс объекта $O$ и найденными точками на контуре $P$. В качестве функции расстояния может быть использовано манхэттенское или евклидово расстояние. Полученные расстояния будут формировать временной ряд $T$ длины $K$:\n",
        "\\begin{equation}\n",
        "T = \\{t_i\\}_{i=1}^K,\\;где \\; t_i = dist(O, P_i), \\; P_i \\in P.\n",
        "\\end{equation}\n",
        "\n",
        "\\\n",
        "<center><img src=\"https://github.com/mzym/TimeSeriesCourse/blob/main/practice/01%20Basics/img/image2ts.png?raw=true\" width=\"1000\"></center>"
      ],
      "metadata": {
        "id": "XKIw--vpLJzk"
      }
    },
    {
      "cell_type": "markdown",
      "source": [
        "Поскольку часть 3 предполагает работу с изображениями, то вы будете использовать для реализации некоторых частей кода библиотеку компьютерного зрения *cv2*. Для поиска всех необходимых функций рекомендуем воспользоваться [документацией библиотеки cv2](https://docs.opencv.org/4.x/d6/d00/tutorial_py_root.html).\n",
        "\n",
        "Загрузите изображение *example.tif* из директории *./datasets/part3* и выполните его визуализацию с помощью соответствующих функций из библиотеки *cv2*."
      ],
      "metadata": {
        "id": "KyWPcg5sw360"
      }
    },
    {
      "cell_type": "code",
      "source": [
        "# INSERT YOUR CODE"
      ],
      "metadata": {
        "id": "u5K9vZtgw7CX"
      },
      "execution_count": null,
      "outputs": []
    },
    {
      "cell_type": "markdown",
      "source": [
        "За конвертацию изображения во временной ряд с помощью описанного выше метода отвечает функция `image2ts()` из модуля *image_converter.py*. Прежде чем исходное изображение будет преобразовано во временной ряд, сначала оно должно пройти этап предварительной обработки. Предварительная обработка включает в себя следующие шаги:\n",
        "\n",
        "<center><img src=\"https://github.com/mzym/TimeSeriesCourse/blob/main/practice/01%20Basics/img/image_preprocessing.png?raw=true\" width=\"1000\"></center>\n",
        "\n",
        "Предобработка изображения в `image2ts()` осуществляется с помощью функции `_img_preprocess()`. Реализуйте в данной функции все представленные на диаграмме шаги предварительной обработки средствами библиотеки *cv2*. Промежуточные результаты должны совпадать с представленными на диаграмме.\n",
        "\n",
        "Далее выполните конвертацию изображения во временной ряд, передав в функцию `image2ts()` следующие заданные вами аргументы:\n",
        "*   исходное загруженное изображение;\n",
        "*   шаг угла поворота;\n",
        "*   параметр, определяющий нужно или нет визуализировать изображение с выделенными на нем контуром, центром масс и лучами, проведенными из центра.\n",
        "\n",
        "Визуализируйте полученный временной ряд.\n"
      ],
      "metadata": {
        "id": "SA2dUqaAw_S3"
      }
    },
    {
      "cell_type": "code",
      "source": [
        "angle_step = 20\n",
        "visualize = True\n",
        "\n",
        "ts = image2ts(img, angle_step, visualize)\n",
        "plot_ts(np.array([ts]), \"Time series representation of image\")"
      ],
      "metadata": {
        "id": "edKiXoEOxJJC"
      },
      "execution_count": null,
      "outputs": []
    },
    {
      "cell_type": "markdown",
      "source": [
        "### **Задача 8.**\n",
        "\n",
        "Выполните классификацию изображений, представленных в виде временных рядов, с помощью метода $k$ ближайших соседей (kNN).\n",
        "\n",
        "**Метод $k$ ближайших соседей (kNN)** – алгоритм классификации, заключающийся в вычислении сходства между объектами на основе некоторой заданной метрики/меры схожести. Классифицируемый объект относится к тому классу, к которому принадлежит большинство из его $k$ соседей ($k$ ближайших к нему объектов из обучающей выборки).\n",
        "\n",
        "Для классификации на основе алгоритма kNN необходимо выполнить следующие шаги:\n",
        "\n",
        "1. Загрузить обучающую и тестовую выборки.\n",
        "\n",
        "2. Задать параметр алгоритма $k$, где $k$ – количество ближайших соседей, $k \\in \\mathbb N^*$.\n",
        "\n",
        "3. Для каждого объекта из тестовой выборки выполнить следующее:\n",
        "\n",
        "    3.1. Вычислить расстояние до всех объектов из обучающей выборки на основе заданной метрики/меры схожести.\n",
        "    \n",
        "    3.2. Отсортировать в порядке возрастания найденные расстояния.\n",
        "\n",
        "    3.3. Найти $k$ ближайших соседей, взяв первые $k$ минимальные расстояния из отсортированного массива расстояний.\n",
        "\n",
        "    3.4. Назначить объекту из тестовой выборки наиболее часто встречающийся класс найденных ранее ближайших соседей.\n",
        "\n",
        "\n",
        "Для этого задания вам предлагается набор данных, который содержит изображения листьев четырех различных пород деревьев: дуб, ольха, ива и липа. Набор данных состоит из обучающей и тестовой выборок, включающих по 15 и 10 изображений листьев на класс соответственно. Для составления этого набора данных изображения были взяты из [Swedish Leaf Dataset](https://www.cvl.isy.liu.se/en/research/datasets/swedish-leaf/).\n",
        "\n",
        "Загрузите изображения из обучающей и тестовой выборок, а также их метки, используя `read_images()` и `read_ts()` соответственно.\n",
        "Выполните визуализацию прецедентов выборки с помощью функции `plot_images()`.\n"
      ],
      "metadata": {
        "id": "YbZ1-p3J37lU"
      }
    },
    {
      "cell_type": "code",
      "source": [
        "def read_images(dir: str) -> list[np.ndarray]:\n",
        "    \"\"\"\n",
        "    Load all images from a directory\n",
        "\n",
        "    Parameters\n",
        "    ----------\n",
        "    dir: directory path\n",
        "\n",
        "    Returns\n",
        "    -------\n",
        "    images: images from a directory\n",
        "    \"\"\"\n",
        "\n",
        "    images = []\n",
        "    for img_path in sorted(glob.glob(dir)):\n",
        "        cv_img = cv2.imread(img_path)\n",
        "        images.append(cv_img)\n",
        "\n",
        "    return images"
      ],
      "metadata": {
        "id": "P4qhn1634PPR"
      },
      "execution_count": null,
      "outputs": []
    },
    {
      "cell_type": "code",
      "source": [
        "def plot_images(images: list[np.ndarray], labels: np.ndarray, class_names: list[str]) -> None:\n",
        "    \"\"\"\n",
        "    Plot some images from dataset\n",
        "\n",
        "    Parameters\n",
        "    ----------\n",
        "    images: dataset of images\n",
        "    labels: labels of images\n",
        "    class_names: class names of images\n",
        "    \"\"\"\n",
        "\n",
        "    rows = 2\n",
        "    columns = 4\n",
        "\n",
        "    fig, axes = plt.subplots(nrows=rows, ncols=columns, figsize=(columns*2, rows*3))\n",
        "\n",
        "    for num in range(1, rows*columns+1):\n",
        "        fig.add_subplot(rows, columns, num)\n",
        "        idx = num - 1\n",
        "        plt.imshow(images[idx], aspect='auto')\n",
        "        plt.title(f'{class_names[labels[idx]]}', fontsize=10)\n",
        "\n",
        "    fig.tight_layout()\n",
        "\n",
        "    for idx, ax in enumerate(axes.flat):\n",
        "        ax.set_xticks([])\n",
        "        ax.set_yticks([])"
      ],
      "metadata": {
        "id": "WRi1hxpPViVE"
      },
      "execution_count": null,
      "outputs": []
    },
    {
      "cell_type": "code",
      "source": [
        "train_set_path = \"./datasets/part3/train_set_leaves/*.tif\"\n",
        "test_set_path = \"./datasets/part3/test_set_leaves/*.tif\"\n",
        "\n",
        "train_images = read_images(train_set_path)\n",
        "test_images = read_images(test_set_path)\n",
        "\n",
        "train_label_path = './datasets/part3/train_set_leaves/train_label.csv'\n",
        "test_label_path = './datasets/part3/test_set_leaves/test_label.csv'\n",
        "\n",
        "train_labels = read_ts(train_label_path)\n",
        "train_labels = train_labels.reshape(-1).astype('int32')\n",
        "\n",
        "test_labels = read_ts(test_label_path)\n",
        "test_labels = test_labels.reshape(-1).astype('int32')"
      ],
      "metadata": {
        "id": "6LYlleFcxTGv"
      },
      "execution_count": null,
      "outputs": []
    },
    {
      "cell_type": "code",
      "source": [
        "class_names = ['Quercus (дуб)', 'Alnus (ольха)', 'Salix (ива)', 'Tilia (липа)']\n",
        "plot_images(train_images, train_labels, class_names)"
      ],
      "metadata": {
        "id": "Mxibv3gGxToN"
      },
      "execution_count": null,
      "outputs": []
    },
    {
      "cell_type": "markdown",
      "source": [
        "Выполните преобразование изображений обучающей и тестовой выборок во временные ряды с помощью функции `image2ts()`.  "
      ],
      "metadata": {
        "id": "ge9b7ztIxXCo"
      }
    },
    {
      "cell_type": "code",
      "source": [
        "# INSERT YOUR CODE"
      ],
      "metadata": {
        "id": "fpDi7VN1xXwo"
      },
      "execution_count": null,
      "outputs": []
    },
    {
      "cell_type": "markdown",
      "source": [
        "Для классификации временных рядов методом $k$ ближайших соседей вам необходимо использовать класс `TimeSeriesKNN` из модуля *classification.py*.\n",
        "Реализуйте метод `fit()` в классе `TimeSeriesKNN`, который выполняет поиск для каждого элемента из тестовой выборки $k$ ближайших соседей и назначает им тот класс, который является часто встречающимся среди классов ближайших соседей. В качестве параметров в метод `fit()` передается тестовая выборка. Вычислите точность классификации по метрике accuracy с помощью функции `calculate_accurary()` из модуля *classification.py*."
      ],
      "metadata": {
        "id": "fXWq_cM6vUbK"
      }
    },
    {
      "cell_type": "code",
      "source": [
        "n_neighbors = 6\n",
        "metric = 'euclidean'\n",
        "metric_params = {'normalize': True}\n",
        "\n",
        "# INSERT YOUR CODE"
      ],
      "metadata": {
        "id": "rttBJwnkyYT9"
      },
      "execution_count": null,
      "outputs": []
    },
    {
      "cell_type": "code",
      "source": [
        "metric = 'dtw'\n",
        "metric_params = {'normalize': True}\n",
        "\n",
        "# INSERT YOUR CODE"
      ],
      "metadata": {
        "id": "QCBAiXuAzLpQ"
      },
      "execution_count": null,
      "outputs": []
    },
    {
      "cell_type": "markdown",
      "source": [
        "![equation.png](data:image/png;base64,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)\n",
        "Проанализируйте результаты и сделайте выводы."
      ],
      "metadata": {
        "id": "6Fbfsej4XKX4"
      }
    },
    {
      "cell_type": "markdown",
      "source": [
        "*# WRITE YOUR ANSWER*"
      ],
      "metadata": {
        "id": "b2YG3zbeXLgQ"
      }
    }
  ]
}